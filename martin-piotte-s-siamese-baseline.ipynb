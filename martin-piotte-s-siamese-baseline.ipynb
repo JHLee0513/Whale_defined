{
 "cells": [
  {
   "cell_type": "markdown",
   "metadata": {},
   "source": [
    "* whale_siamese_submission.csv | ResNet50 with 150 epochs | 0.681 LB score | 0.93 cv score | batchsize 32\n",
    "* whale_siamese_submission_v2.csv | DenseNet121 with 60 epochs | 0.329 | 0.96 cv score | batch size 16\n",
    "* whale_siamese_submission_v3.csv | ResNet50 with 210 epochs | 0.794 | 0.991| batch size 32\n",
    "* whale_siamese_submission_v4.csv | Xception with 210 epochs | 0.791 | 0.9997 | batch size 32\n",
    "versions 1-4 are grayscale (128,128,1)\n",
    "\n",
    "version 5\n",
    "\n",
    "* whale_siamese_submission_v5.csv | basemodel with 210 epochs |  |  | batch size 32 | imagesize from 128 to 156\n",
    "\n",
    "\n",
    "\n",
    "\n",
    "* whale_siamese_submission_v4.csv | ResNext with 250 epochs |  |  cv score | batch size 16\n",
    "* whale_siamese_submission_v5.csv | ResNet50 with 300 epochs | | cv score | batch size 32\n",
    "* whale_siamese_submission_v6.csv | Se-ResNext with 250 epochs | | cv score | batch size 16(8)\n",
    "4: senet\n",
    "5:resnext\n",
    "6: se-resnext\n",
    "7: Xception\n",
    "8:InceptionResNetV2\n",
    "\n",
    "\n",
    "Models to experiment: DenseNet, Xception, InceptionV3, InceptionResNetV2, senet, resnext"
   ]
  },
  {
   "cell_type": "markdown",
   "metadata": {
    "_uuid": "03d0dd6baf411efbb62a6aef0b43dc846668d2ca"
   },
   "source": [
    "## TL;DR [0.681 with ResNet50 150 epochs]\n",
    "\n",
    "Credits to Khoi Nguyen.\n",
    "Things to try fixing \"A smelly part is the DIY image augmentation, you can try albumetation or Keras's own apply_transform() utility.\"\n",
    "\n",
    "I tried to refactor [@martinpiotte](https://kaggle.com/martinpiotte)'s original kernel [here](https://www.kaggle.com/martinpiotte/whale-recognition-model-with-score-0-78563).\n",
    "\n",
    "I changed almost nothing beside commenting out the latter 380 epochs since it can't fit into a kernel. I also generated the new bounding boxes in my kernel [here](https://www.kaggle.com/suicaokhoailang/generating-whale-bounding-boxes) and saved it as a **.csv** instead of **pickle** for readability. \n",
    "\n",
    "A few things to point out:\n",
    "\n",
    "- Training more will probably improve your score, maybe as many as 500 epochs.\n",
    "\n",
    "- You may try to improve your training time by applying this technique (thanks **Brian**): https://www.kaggle.com/c/humpback-whale-identification/discussion/74402#444476 .\n",
    "\n",
    "- Consider using a pretrained model(s), good for blending.\n",
    "\n",
    "\n",
    "\n",
    "TO CONSIDER:\n",
    "Try more sophisticated models such as resnext, possibly with helps from https://github.com/osmr/imgclsmob"
   ]
  },
  {
   "cell_type": "code",
   "execution_count": 1,
   "metadata": {},
   "outputs": [
    {
     "data": {
      "text/plain": [
       "35"
      ]
     },
     "execution_count": 1,
     "metadata": {},
     "output_type": "execute_result"
    }
   ],
   "source": [
    "import gc\n",
    "gc.enable()\n",
    "gc.collect()"
   ]
  },
  {
   "cell_type": "code",
   "execution_count": 2,
   "metadata": {
    "_cell_guid": "b1076dfc-b9ad-4769-8c92-a6c4dae69d19",
    "_uuid": "8f2839f25d086af736a60e9eeb907d3b93b6e0e5"
   },
   "outputs": [
    {
     "name": "stderr",
     "output_type": "stream",
     "text": [
      "C:\\Users\\JoonH\\AppData\\Local\\conda\\conda\\envs\\TF\\lib\\site-packages\\h5py\\__init__.py:34: FutureWarning: Conversion of the second argument of issubdtype from `float` to `np.floating` is deprecated. In future, it will be treated as `np.float64 == np.dtype(float).type`.\n",
      "  from ._conv import register_converters as _register_converters\n",
      "Using TensorFlow backend.\n"
     ]
    }
   ],
   "source": [
    "#!pip install lapjv\n",
    "import os\n",
    "import math\n",
    "# Read the dataset description\n",
    "import gzip\n",
    "# Read or generate p2h, a dictionary of image name to image id (picture to hash)\n",
    "import pickle\n",
    "import platform\n",
    "import random\n",
    "# Suppress annoying stderr output when importing keras.\n",
    "import sys\n",
    "from lapjv import lapjv\n",
    "#from lap import lapjv\n",
    "from math import sqrt\n",
    "# Determine the size of each image\n",
    "from os.path import isfile\n",
    "import keras\n",
    "import matplotlib.pyplot as plt\n",
    "import numpy as np\n",
    "import pandas as pd\n",
    "from PIL import Image as pil_image\n",
    "from imagehash import phash\n",
    "from keras import backend as K\n",
    "from keras import regularizers\n",
    "from keras.engine.topology import Input\n",
    "from keras.layers import Activation, Add, BatchNormalization, Concatenate, Conv2D, Dense, Flatten, GlobalMaxPooling2D, \\\n",
    "    Lambda, MaxPooling2D, Reshape\n",
    "from keras import layers as nn\n",
    "from keras.models import Model\n",
    "from keras.optimizers import *\n",
    "from keras.preprocessing.image import img_to_array\n",
    "from keras.utils import Sequence\n",
    "from pandas import read_csv\n",
    "from scipy.ndimage import affine_transform\n",
    "from tqdm import tqdm_notebook as tqdm"
   ]
  },
  {
   "cell_type": "code",
   "execution_count": 3,
   "metadata": {
    "_cell_guid": "79c7e3d0-c299-4dcb-8224-4455121ee9b0",
    "_uuid": "d629ff2d2480ee46fbb7e2d37f6b5fab8052498a"
   },
   "outputs": [],
   "source": [
    "TRAIN_DF = '/Users/JoonH/Desktop/whale/train.csv'\n",
    "SUB_Df = '/Users/JoonH/Desktop/whale/sample_submission.csv'\n",
    "TRAIN = '/Users/JoonH/Desktop/whale/train_original/'\n",
    "TEST = '/Users/JoonH/Desktop/whale/test/'\n",
    "P2H = '/Users/JoonH/Desktop/whale/metadata/p2h.pickle'\n",
    "P2SIZE = '/Users/JoonH/Desktop/whale/metadata/p2size.pickle'\n",
    "BB_DF = \"/Users/JoonH/Desktop/whale/metadata/bounding_boxes.csv\"\n",
    "tagged = dict([(p, w) for _, p, w in read_csv(TRAIN_DF).to_records()])\n",
    "submit = [p for _, p, _ in read_csv(SUB_Df).to_records()]\n",
    "join = list(tagged.keys()) + submit"
   ]
  },
  {
   "cell_type": "code",
   "execution_count": 4,
   "metadata": {
    "_uuid": "dd0e004efca215f2d92242a17535f0b4c6f3e323"
   },
   "outputs": [],
   "source": [
    "def expand_path(p):\n",
    "    if isfile(TRAIN + p):\n",
    "        return TRAIN + p\n",
    "    if isfile(TEST + p):\n",
    "        return TEST + p\n",
    "    return p"
   ]
  },
  {
   "cell_type": "markdown",
   "metadata": {
    "_uuid": "7ee3c6a569bfe93b81bcbb97a40e3e78363c79d2"
   },
   "source": [
    "## Duplicate image identification\n",
    "\n",
    "This part was from the original kernel, seems like in the playground competition dulicated images was a real issue. I don't know the case about this one but I took one for the team and generated the results anyway. I'm such a nice chap."
   ]
  },
  {
   "cell_type": "code",
   "execution_count": 5,
   "metadata": {
    "_uuid": "aa24819e1cc9ef98db60d218cc01e56f8d4e5046"
   },
   "outputs": [
    {
     "name": "stdout",
     "output_type": "stream",
     "text": [
      "P2SIZE exists.\n"
     ]
    }
   ],
   "source": [
    "if isfile(P2SIZE):\n",
    "    print(\"P2SIZE exists.\")\n",
    "    with open(P2SIZE, 'rb') as f:\n",
    "        p2size = pickle.load(f)\n",
    "else:\n",
    "    p2size = {}\n",
    "    for p in tqdm(join):\n",
    "        size = pil_image.open(expand_path(p)).size\n",
    "        p2size[p] = size"
   ]
  },
  {
   "cell_type": "code",
   "execution_count": 6,
   "metadata": {
    "_uuid": "cdc36543403de9841a8af37f40c0044e17f6aa69"
   },
   "outputs": [
    {
     "name": "stdout",
     "output_type": "stream",
     "text": [
      "P2H exists.\n"
     ]
    }
   ],
   "source": [
    "def match(h1, h2):\n",
    "    for p1 in h2ps[h1]:\n",
    "        for p2 in h2ps[h2]:\n",
    "            i1 = pil_image.open(expand_path(p1))\n",
    "            i2 = pil_image.open(expand_path(p2))\n",
    "            if i1.mode != i2.mode or i1.size != i2.size: return False\n",
    "            a1 = np.array(i1)\n",
    "            a1 = a1 - a1.mean()\n",
    "            a1 = a1 / sqrt((a1 ** 2).mean())\n",
    "            a2 = np.array(i2)\n",
    "            a2 = a2 - a2.mean()\n",
    "            a2 = a2 / sqrt((a2 ** 2).mean())\n",
    "            a = ((a1 - a2) ** 2).mean()\n",
    "            if a > 0.1: return False\n",
    "    return True\n",
    "\n",
    "\n",
    "if isfile(P2H):\n",
    "    print(\"P2H exists.\")\n",
    "    with open(P2H, 'rb') as f:\n",
    "        p2h = pickle.load(f)\n",
    "else:\n",
    "    # Compute phash for each image in the training and test set.\n",
    "    p2h = {}\n",
    "    for p in tqdm(join):\n",
    "        img = pil_image.open(expand_path(p))\n",
    "        h = phash(img)\n",
    "        p2h[p] = h\n",
    "\n",
    "    # Find all images associated with a given phash value.\n",
    "    h2ps = {}\n",
    "    for p, h in p2h.items():\n",
    "        if h not in h2ps: h2ps[h] = []\n",
    "        if p not in h2ps[h]: h2ps[h].append(p)\n",
    "\n",
    "    # Find all distinct phash values\n",
    "    hs = list(h2ps.keys())\n",
    "\n",
    "    # If the images are close enough, associate the two phash values (this is the slow part: n^2 algorithm)\n",
    "    h2h = {}\n",
    "    for i, h1 in enumerate(tqdm(hs)):\n",
    "        for h2 in hs[:i]:\n",
    "            if h1 - h2 <= 6 and match(h1, h2):\n",
    "                s1 = str(h1)\n",
    "                s2 = str(h2)\n",
    "                if s1 < s2: s1, s2 = s2, s1\n",
    "                h2h[s1] = s2\n",
    "\n",
    "    # Group together images with equivalent phash, and replace by string format of phash (faster and more readable)\n",
    "    for p, h in p2h.items():\n",
    "        h = str(h)\n",
    "        if h in h2h: h = h2h[h]\n",
    "        p2h[p] = h\n",
    "#     with open(P2H, 'wb') as f:\n",
    "#         pickle.dump(p2h, f)\n",
    "# For each image id, determine the list of pictures\n",
    "h2ps = {}\n",
    "for p, h in p2h.items():\n",
    "    if h not in h2ps: h2ps[h] = []\n",
    "    if p not in h2ps[h]: h2ps[h].append(p)"
   ]
  },
  {
   "cell_type": "code",
   "execution_count": 7,
   "metadata": {
    "_uuid": "62cc064dede5463c4f553da833020bee789f0de5"
   },
   "outputs": [],
   "source": [
    "def show_whale(imgs, per_row=2):\n",
    "    n = len(imgs)\n",
    "    rows = (n + per_row - 1) // per_row\n",
    "    cols = min(per_row, n)\n",
    "    fig, axes = plt.subplots(rows, cols, figsize=(24 // per_row * cols, 24 // per_row * rows))\n",
    "    for ax in axes.flatten(): ax.axis('off')\n",
    "    for i, (img, ax) in enumerate(zip(imgs, axes.flatten())): ax.imshow(img.convert('RGB'))\n",
    "        \n",
    "\n",
    "def read_raw_image(p):\n",
    "    img = pil_image.open(expand_path(p))\n",
    "    return img"
   ]
  },
  {
   "cell_type": "code",
   "execution_count": 8,
   "metadata": {
    "_uuid": "87e36806009c7252803a2f49d7a071dbacfafda9"
   },
   "outputs": [
    {
     "data": {
      "text/plain": [
       "(33317,\n",
       " [('d26698c3271c757c', '0000e88ab.jpg'),\n",
       "  ('ba8cc231ad489b77', '0001f9222.jpg'),\n",
       "  ('bbcad234a52d0f0b', '00029d126.jpg'),\n",
       "  ('c09ae7dc09f33a29', '00050a15a.jpg'),\n",
       "  ('d02f65ba9f74a08a', '0005c1ef8.jpg')])"
      ]
     },
     "execution_count": 8,
     "metadata": {},
     "output_type": "execute_result"
    }
   ],
   "source": [
    "# For each images id, select the prefered image\n",
    "def prefer(ps):\n",
    "    if len(ps) == 1: return ps[0]\n",
    "    best_p = ps[0]\n",
    "    best_s = p2size[best_p]\n",
    "    for i in range(1, len(ps)):\n",
    "        p = ps[i]\n",
    "        s = p2size[p]\n",
    "        if s[0] * s[1] > best_s[0] * best_s[1]:  # Select the image with highest resolution\n",
    "            best_p = p\n",
    "            best_s = s\n",
    "    return best_p\n",
    "\n",
    "h2p = {}\n",
    "for h, ps in h2ps.items():\n",
    "    h2p[h] = prefer(ps)\n",
    "len(h2p), list(h2p.items())[:5]"
   ]
  },
  {
   "cell_type": "code",
   "execution_count": 9,
   "metadata": {
    "_uuid": "208f5d98270a8081f7024c52f4dad14791e48182"
   },
   "outputs": [],
   "source": [
    "# Read the bounding box data from the bounding box kernel (see reference above)\n",
    "p2bb = pd.read_csv(BB_DF).set_index(\"Image\")\n",
    "\n",
    "old_stderr = sys.stderr\n",
    "sys.stderr = open('/dev/null' if platform.system() != 'Windows' else 'nul', 'w')\n",
    "\n",
    "sys.stderr = old_stderr\n",
    "\n",
    "img_shape = (132, 132, 1)  # The image shape used by the model\n",
    "#img_shape = (200, 200, 1) #grayscale version\n",
    "img_shape2 = (128, 128, 1) # used during affine\n",
    "anisotropy = 2.15  # The horizontal compression ratio\n",
    "crop_margin = 0.05  # The margin added around the bounding box to compensate for bounding box inaccuracy"
   ]
  },
  {
   "cell_type": "code",
   "execution_count": 10,
   "metadata": {
    "_uuid": "0b0629a511b86810a0106f23c5e25710242edf11"
   },
   "outputs": [],
   "source": [
    "def build_transform(rotation, shear, height_zoom, width_zoom, height_shift, width_shift):\n",
    "    \"\"\"\n",
    "    Build a transformation matrix with the specified characteristics.\n",
    "    \"\"\"\n",
    "    rotation = np.deg2rad(rotation)\n",
    "    shear = np.deg2rad(shear)\n",
    "    rotation_matrix = np.array(\n",
    "        [[np.cos(rotation), np.sin(rotation), 0], [-np.sin(rotation), np.cos(rotation), 0], [0, 0, 1]])\n",
    "    shift_matrix = np.array([[1, 0, height_shift], [0, 1, width_shift], [0, 0, 1]])\n",
    "    shear_matrix = np.array([[1, np.sin(shear), 0], [0, np.cos(shear), 0], [0, 0, 1]])\n",
    "    zoom_matrix = np.array([[1.0 / height_zoom, 0, 0], [0, 1.0 / width_zoom, 0], [0, 0, 1]])\n",
    "    shift_matrix = np.array([[1, 0, -height_shift], [0, 1, -width_shift], [0, 0, 1]])\n",
    "    return np.dot(np.dot(rotation_matrix, shear_matrix), np.dot(zoom_matrix, shift_matrix))"
   ]
  },
  {
   "cell_type": "code",
   "execution_count": 11,
   "metadata": {},
   "outputs": [],
   "source": [
    "def read_cropped_image(p, augment):\n",
    "    \"\"\"\n",
    "    @param p : the name of the picture to read\n",
    "    @param augment: True/False if data augmentation should be performed\n",
    "    @return a numpy array with the transformed image\n",
    "    \"\"\"\n",
    "    # If an image id was given, convert to filename\n",
    "    if p in h2p:\n",
    "        p = h2p[p]\n",
    "    size_x, size_y = p2size[p]\n",
    "\n",
    "    # Determine the region of the original image we want to capture based on the bounding box.\n",
    "    row = p2bb.loc[p]\n",
    "    x0, y0, x1, y1 = row['x0'], row['y0'], row['x1'], row['y1']\n",
    "    dx = x1 - x0\n",
    "    dy = y1 - y0\n",
    "    x0 -= dx * crop_margin\n",
    "    x1 += dx * crop_margin + 1\n",
    "    y0 -= dy * crop_margin\n",
    "    y1 += dy * crop_margin + 1\n",
    "    if x0 < 0:\n",
    "        x0 = 0\n",
    "    if x1 > size_x:\n",
    "        x1 = size_x\n",
    "    if y0 < 0:\n",
    "        y0 = 0\n",
    "    if y1 > size_y:\n",
    "        y1 = size_y\n",
    "    dx = x1 - x0\n",
    "    dy = y1 - y0\n",
    "    if dx > dy * anisotropy:\n",
    "        dy = 0.5 * (dx / anisotropy - dy)\n",
    "        y0 -= dy\n",
    "        y1 += dy\n",
    "    else:\n",
    "        dx = 0.5 * (dy * anisotropy - dx)\n",
    "        x0 -= dx\n",
    "        x1 += dx\n",
    "\n",
    "    # Generate the transformation matrix\n",
    "    trans = np.array([[1, 0, -0.5 * img_shape[0]], [0, 1, -0.5 * img_shape[1]], [0, 0, 1]])\n",
    "    trans = np.dot(np.array([[(y1 - y0) / img_shape[0], 0, 0], [0, (x1 - x0) / img_shape[1], 0], [0, 0, 1]]), trans)\n",
    "    if augment:\n",
    "        trans = np.dot(build_transform(\n",
    "            random.uniform(-10, 10), #rotation\n",
    "            random.uniform(-10, 10), #shear\n",
    "            random.uniform(0.8, 1.0), #height_zoom\n",
    "            random.uniform(0.8, 1.0), #width_zoom\n",
    "            random.uniform(-0.05 * (y1 - y0), 0.05 * (y1 - y0)), #height_shift\n",
    "            random.uniform(-0.05 * (x1 - x0), 0.05 * (x1 - x0)) #width_shift\n",
    "        ), trans)\n",
    "    trans = np.dot(np.array([[1, 0, 0.5 * (y1 + y0)], [0, 1, 0.5 * (x1 + x0)], [0, 0, 1]]), trans)\n",
    "\n",
    "    # Read the image, transform to black and white and comvert to numpy array\n",
    "    img = read_raw_image(p).convert('L')\n",
    "    img = img_to_array(img)\n",
    "\n",
    "    # Apply affine transformation\n",
    "    matrix = trans[:2, :2]\n",
    "    offset = trans[:2, 2]\n",
    "    img = img.reshape(img.shape[:-1])\n",
    "    img = affine_transform(img, matrix, offset, output_shape=img_shape[:-1], order=1, mode='constant',\n",
    "                           cval=np.average(img))\n",
    "    img = img.reshape(img_shape)\n",
    "\n",
    "    # Normalize to zero mean and unit variance\n",
    "    img -= np.mean(img, keepdims=True)\n",
    "    img /= np.std(img, keepdims=True) + K.epsilon()\n",
    "    return img\n",
    "\n",
    "def read_for_training(p):\n",
    "    \"\"\"\n",
    "    Read and preprocess an image with data augmentation (random transform).\n",
    "    \"\"\"\n",
    "    return read_cropped_image(p, True)\n",
    "\n",
    "\n",
    "def read_for_validation(p):\n",
    "    \"\"\"\n",
    "    Read and preprocess an image without data augmentation (use for testing).\n",
    "    \"\"\"\n",
    "    return read_cropped_image(p, False)\n",
    "\n",
    "\n",
    "p = list(tagged.keys())[312]"
   ]
  },
  {
   "cell_type": "code",
   "execution_count": 12,
   "metadata": {
    "_uuid": "a9bf0641d287366059c95fcbe0f5e2812f4bf236"
   },
   "outputs": [],
   "source": [
    "def read_cropped_image_rgb(p, augment):\n",
    "    \"\"\"\n",
    "    @param p : the name of the picture to read\n",
    "    @param augment: True/False if data augmentation should be performed\n",
    "    @return a numpy array with the transformed image\n",
    "    \"\"\"\n",
    "    # If an image id was given, convert to filename\n",
    "    if p in h2p:\n",
    "        p = h2p[p]\n",
    "    size_x, size_y = p2size[p]\n",
    "\n",
    "    # Determine the region of the original image we want to capture based on the bounding box.\n",
    "    row = p2bb.loc[p]\n",
    "    x0, y0, x1, y1 = row['x0'], row['y0'], row['x1'], row['y1']\n",
    "    dx = x1 - x0\n",
    "    dy = y1 - y0\n",
    "    x0 -= dx * crop_margin\n",
    "    x1 += dx * crop_margin + 1\n",
    "    y0 -= dy * crop_margin\n",
    "    y1 += dy * crop_margin + 1\n",
    "    if x0 < 0:\n",
    "        x0 = 0\n",
    "    if x1 > size_x:\n",
    "        x1 = size_x\n",
    "    if y0 < 0:\n",
    "        y0 = 0\n",
    "    if y1 > size_y:\n",
    "        y1 = size_y\n",
    "    dx = x1 - x0\n",
    "    dy = y1 - y0\n",
    "    if dx > dy * anisotropy:\n",
    "        dy = 0.5 * (dx / anisotropy - dy)\n",
    "        y0 -= dy\n",
    "        y1 += dy\n",
    "    else:\n",
    "        dx = 0.5 * (dy * anisotropy - dx)\n",
    "        x0 -= dx\n",
    "        x1 += dx\n",
    "\n",
    "    # Generate the transformation matrix\n",
    "    trans = np.array([[1, 0, -0.5 * img_shape[0]], [0, 1, -0.5 * img_shape[1]], [0, 0, 1]])\n",
    "    trans = np.dot(np.array([[(y1 - y0) / img_shape[0], 0, 0], [0, (x1 - x0) / img_shape[1], 0], [0, 0, 1]]), trans)\n",
    "    if augment:\n",
    "        trans = np.dot(build_transform(\n",
    "            random.uniform(-5, 5),\n",
    "            random.uniform(-5, 5),\n",
    "            random.uniform(0.8, 1.0),\n",
    "            random.uniform(0.8, 1.0),\n",
    "            random.uniform(-0.05 * (y1 - y0), 0.05 * (y1 - y0)),\n",
    "            random.uniform(-0.05 * (x1 - x0), 0.05 * (x1 - x0))\n",
    "        ), trans)\n",
    "    trans = np.dot(np.array([[1, 0, 0.5 * (y1 + y0)], [0, 1, 0.5 * (x1 + x0)], [0, 0, 1]]), trans)\n",
    "\n",
    "    # Read the image, transform to black and white and comvert to numpy array\n",
    "    img = read_raw_image(p).convert('RGB')\n",
    "    img = img_to_array(img)\n",
    "    #print(img.shape)\n",
    "    # Apply affine transformation\n",
    "    matrix = trans[:2, :2]\n",
    "    offset = trans[:2, 2]\n",
    "    #since we have RGB channels and scipy.ndimage.affine does not acknowledge spatial info,\n",
    "    #we split the channels to perform affine and stack them back together.\n",
    "    #print(img[:,:,0].shape)\n",
    "    shape = img[:,:,0].shape + (1,)\n",
    "    r = affine(img[:,:,0].reshape(shape), matrix, offset)\n",
    "    g = affine(img[:,:,1].reshape(shape), matrix, offset)\n",
    "    b = affine(img[:,:,2].reshape(shape), matrix, offset)\n",
    "    return np.dstack((r,g,b))\n",
    "    #img = img.reshape(img.shape[:-1])\n",
    "    #img = affine_transform(img, matrix, offset, output_shape=img_shape[:-1], order=1, mode='constant',\n",
    "    #                       cval=np.average(img))\n",
    "    #img = img.reshape(img_shape)\n",
    "\n",
    "    # Normalize to zero mean and unit variance\n",
    "    #img -= np.mean(img, keepdims=True)\n",
    "    #img /= np.std(img, keepdims=True) + K.epsilon()\n",
    "    #return img\n",
    "    \n",
    "\n",
    "def affine(img, m, off):\n",
    "    img = img.reshape(img.shape[:-1])\n",
    "    #img = img.reshape(img.shape)\n",
    "    img = affine_transform(img, m, off, output_shape=img_shape[:-1], order=1, mode='constant',\n",
    "                           cval=np.average(img))\n",
    "    img = img.reshape(img_shape2)\n",
    "\n",
    "    # Normalize to zero mean and unit variance\n",
    "    img -= np.mean(img, keepdims=True)\n",
    "    img /= np.std(img, keepdims=True) + K.epsilon()\n",
    "    return img\n",
    "\n",
    "def read_for_training(p):\n",
    "    \"\"\"\n",
    "    Read and preprocess an image with data augmentation (random transform).\n",
    "    \"\"\"\n",
    "    return read_cropped_image(p, True)\n",
    "\n",
    "def read_for_validation(p):\n",
    "    \"\"\"\n",
    "    Read and preprocess an image without data augmentation (use for testing).\n",
    "    \"\"\"\n",
    "    return read_cropped_image(p, False)\n",
    "\n",
    "\n",
    "p = list(tagged.keys())[312]"
   ]
  },
  {
   "cell_type": "code",
   "execution_count": 17,
   "metadata": {},
   "outputs": [],
   "source": [
    "from keras.regularizers import l2\n",
    "def resnet_layer(inputs,\n",
    "                 num_filters=16,\n",
    "                 kernel_size=3,\n",
    "                 strides=1,\n",
    "                 activation='relu',\n",
    "                 batch_normalization=True,\n",
    "                 conv_first=True):\n",
    "    \"\"\"2D Convolution-Batch Normalization-Activation stack builder\n",
    "\n",
    "    # Arguments\n",
    "        inputs (tensor): input tensor from input image or previous layer\n",
    "        num_filters (int): Conv2D number of filters\n",
    "        kernel_size (int): Conv2D square kernel dimensions\n",
    "        strides (int): Conv2D square stride dimensions\n",
    "        activation (string): activation name\n",
    "        batch_normalization (bool): whether to include batch normalization\n",
    "        conv_first (bool): conv-bn-activation (True) or\n",
    "            bn-activation-conv (False)\n",
    "\n",
    "    # Returns\n",
    "        x (tensor): tensor as input to the next layer\n",
    "    \"\"\"\n",
    "    conv = Conv2D(num_filters,\n",
    "                  kernel_size=kernel_size,\n",
    "                  strides=strides,\n",
    "                  padding='same',\n",
    "                  kernel_initializer='he_normal',\n",
    "                  kernel_regularizer=l2(1e-4))\n",
    "\n",
    "    x = inputs\n",
    "    if conv_first:\n",
    "        x = conv(x)\n",
    "        if batch_normalization:\n",
    "            x = BatchNormalization()(x)\n",
    "        if activation is not None:\n",
    "            x = Activation(activation)(x)\n",
    "    else:\n",
    "        if batch_normalization:\n",
    "            x = BatchNormalization()(x)\n",
    "        if activation is not None:\n",
    "            x = Activation(activation)(x)\n",
    "        x = conv(x)\n",
    "    return x\n",
    "\n",
    "\n",
    "def resnet_v1(input_shape, depth, num_classes=10):\n",
    "    \"\"\"ResNet Version 1 Model builder [a]\n",
    "\n",
    "    Stacks of 2 x (3 x 3) Conv2D-BN-ReLU\n",
    "    Last ReLU is after the shortcut connection.\n",
    "    At the beginning of each stage, the feature map size is halved (downsampled)\n",
    "    by a convolutional layer with strides=2, while the number of filters is\n",
    "    doubled. Within each stage, the layers have the same number filters and the\n",
    "    same number of filters.\n",
    "    Features maps sizes:\n",
    "    stage 0: 32x32, 16\n",
    "    stage 1: 16x16, 32\n",
    "    stage 2:  8x8,  64\n",
    "    The Number of parameters is approx the same as Table 6 of [a]:\n",
    "    ResNet20 0.27M\n",
    "    ResNet32 0.46M\n",
    "    ResNet44 0.66M\n",
    "    ResNet56 0.85M\n",
    "    ResNet110 1.7M\n",
    "\n",
    "    # Arguments\n",
    "        input_shape (tensor): shape of input image tensor\n",
    "        depth (int): number of core convolutional layers\n",
    "        num_classes (int): number of classes (CIFAR10 has 10)\n",
    "\n",
    "    # Returns\n",
    "        model (Model): Keras model instance\n",
    "    \"\"\"\n",
    "    if (depth - 2) % 6 != 0:\n",
    "        raise ValueError('depth should be 6n+2 (eg 20, 32, 44 in [a])')\n",
    "    # Start model definition.\n",
    "    num_filters = 16\n",
    "    num_res_blocks = int((depth - 2) / 6)\n",
    "\n",
    "    inputs = Input(shape=input_shape)\n",
    "    x = resnet_layer(inputs=inputs)\n",
    "    # Instantiate the stack of residual units\n",
    "    for stack in range(3):\n",
    "        for res_block in range(num_res_blocks):\n",
    "            strides = 1\n",
    "            if stack > 0 and res_block == 0:  # first layer but not first stack\n",
    "                strides = 2  # downsample\n",
    "            y = resnet_layer(inputs=x,\n",
    "                             num_filters=num_filters,\n",
    "                             strides=strides)\n",
    "            y = resnet_layer(inputs=y,\n",
    "                             num_filters=num_filters,\n",
    "                             activation=None)\n",
    "            if stack > 0 and res_block == 0:  # first layer but not first stack\n",
    "                # linear projection residual shortcut connection to match\n",
    "                # changed dims\n",
    "                x = resnet_layer(inputs=x,\n",
    "                                 num_filters=num_filters,\n",
    "                                 kernel_size=1,\n",
    "                                 strides=strides,\n",
    "                                 activation=None,\n",
    "                                 batch_normalization=False)\n",
    "            x = keras.layers.add([x, y])\n",
    "            x = Activation('relu')(x)\n",
    "        num_filters *= 2\n",
    "\n",
    "    # Add classifier on top.\n",
    "    # v1 does not use BN after last shortcut connection-ReLU\n",
    "    x = AveragePooling2D(pool_size=8)(x)\n",
    "    y = Flatten()(x)\n",
    "    outputs = Dense(num_classes,\n",
    "                    activation='softmax',\n",
    "                    kernel_initializer='he_normal')(y)\n",
    "\n",
    "    # Instantiate model.\n",
    "    model = Model(inputs=inputs, outputs=outputs)\n",
    "    return model\n",
    "\n",
    "\n",
    "def resnet_v2(input_shape, depth, num_classes=10):\n",
    "    \"\"\"ResNet Version 2 Model builder [b]\n",
    "\n",
    "    Stacks of (1 x 1)-(3 x 3)-(1 x 1) BN-ReLU-Conv2D or also known as\n",
    "    bottleneck layer\n",
    "    First shortcut connection per layer is 1 x 1 Conv2D.\n",
    "    Second and onwards shortcut connection is identity.\n",
    "    At the beginning of each stage, the feature map size is halved (downsampled)\n",
    "    by a convolutional layer with strides=2, while the number of filter maps is\n",
    "    doubled. Within each stage, the layers have the same number filters and the\n",
    "    same filter map sizes.\n",
    "    Features maps sizes:\n",
    "    conv1  : 32x32,  16\n",
    "    stage 0: 32x32,  64\n",
    "    stage 1: 16x16, 128\n",
    "    stage 2:  8x8,  256\n",
    "\n",
    "    # Arguments\n",
    "        input_shape (tensor): shape of input image tensor\n",
    "        depth (int): number of core convolutional layers\n",
    "        num_classes (int): number of classes (CIFAR10 has 10)\n",
    "\n",
    "    # Returns\n",
    "        model (Model): Keras model instance\n",
    "    \"\"\"\n",
    "    if (depth - 2) % 9 != 0:\n",
    "        raise ValueError('depth should be 9n+2 (eg 56 or 110 in [b])')\n",
    "    # Start model definition.\n",
    "    num_filters_in = 16\n",
    "    num_res_blocks = int((depth - 2) / 9)\n",
    "\n",
    "    inputs = Input(shape=input_shape)\n",
    "    # v2 performs Conv2D with BN-ReLU on input before splitting into 2 paths\n",
    "    x = resnet_layer(inputs=inputs,\n",
    "                     num_filters=num_filters_in,\n",
    "                     conv_first=True)\n",
    "\n",
    "    # Instantiate the stack of residual units\n",
    "    for stage in range(3):\n",
    "        for res_block in range(num_res_blocks):\n",
    "            activation = 'relu'\n",
    "            batch_normalization = True\n",
    "            strides = 1\n",
    "            if stage == 0:\n",
    "                num_filters_out = num_filters_in * 4\n",
    "                if res_block == 0:  # first layer and first stage\n",
    "                    activation = None\n",
    "                    batch_normalization = False\n",
    "            else:\n",
    "                num_filters_out = num_filters_in * 2\n",
    "                if res_block == 0:  # first layer but not first stage\n",
    "                    strides = 2    # downsample\n",
    "\n",
    "            # bottleneck residual unit\n",
    "            y = resnet_layer(inputs=x,\n",
    "                             num_filters=num_filters_in,\n",
    "                             kernel_size=1,\n",
    "                             strides=strides,\n",
    "                             activation=activation,\n",
    "                             batch_normalization=batch_normalization,\n",
    "                             conv_first=False)\n",
    "            y = resnet_layer(inputs=y,\n",
    "                             num_filters=num_filters_in,\n",
    "                             conv_first=False)\n",
    "            y = resnet_layer(inputs=y,\n",
    "                             num_filters=num_filters_out,\n",
    "                             kernel_size=1,\n",
    "                             conv_first=False)\n",
    "            if res_block == 0:\n",
    "                # linear projection residual shortcut connection to match\n",
    "                # changed dims\n",
    "                x = resnet_layer(inputs=x,\n",
    "                                 num_filters=num_filters_out,\n",
    "                                 kernel_size=1,\n",
    "                                 strides=strides,\n",
    "                                 activation=None,\n",
    "                                 batch_normalization=False)\n",
    "            x = keras.layers.add([x, y])\n",
    "\n",
    "        num_filters_in = num_filters_out\n",
    "\n",
    "    # Add classifier on top.\n",
    "    # v2 has BN-ReLU before Pooling\n",
    "    x = BatchNormalization()(x)\n",
    "    x = Activation('relu')(x)\n",
    "    #x = AveragePooling2D(pool_size=8)(x)\n",
    "    y = GlobalMaxPooling2D()(x)\n",
    "    #y = Flatten()(x)\n",
    "    #outputs = Dense(num_classes,\n",
    "    #                activation='softmax',\n",
    "    #                kernel_initializer='he_normal')(y)\n",
    "\n",
    "    # Instantiate model.\n",
    "    model = Model(inputs=inputs, outputs=y)\n",
    "    return model"
   ]
  },
  {
   "cell_type": "code",
   "execution_count": 12,
   "metadata": {},
   "outputs": [],
   "source": [
    "from keras import layers\n",
    "def Xception(include_top=True,\n",
    "             input_shape=None,\n",
    "             pooling=None,\n",
    "             classes=1000,\n",
    "             reg = 0.0,\n",
    "             **kwargs):\n",
    "    \"\"\"Instantiates the Xception architecture.\n",
    "    Optionally loads weights pre-trained on ImageNet. This model can\n",
    "    only be used with the data format `(width, height, channels)`.\n",
    "    You should set `image_data_format='channels_last'` in your Keras config\n",
    "    located at ~/.keras/keras.json.\n",
    "    Note that the default input image size for this model is 299x299.\n",
    "    # Arguments\n",
    "        include_top: whether to include the fully-connected\n",
    "            layer at the top of the network.\n",
    "        weights: one of `None` (random initialization),\n",
    "              'imagenet' (pre-training on ImageNet),\n",
    "              or the path to the weights file to be loaded.\n",
    "        input_tensor: optional Keras tensor\n",
    "            (i.e. output of `layers.Input()`)\n",
    "            to use as image input for the model.\n",
    "        input_shape: optional shape tuple, only to be specified\n",
    "            if `include_top` is False (otherwise the input shape\n",
    "            has to be `(299, 299, 3)`.\n",
    "            It should have exactly 3 inputs channels,\n",
    "            and width and height should be no smaller than 71.\n",
    "            E.g. `(150, 150, 3)` would be one valid value.\n",
    "        pooling: Optional pooling mode for feature extraction\n",
    "            when `include_top` is `False`.\n",
    "            - `None` means that the output of the model will be\n",
    "                the 4D tensor output of the\n",
    "                last convolutional block.\n",
    "            - `avg` means that global average pooling\n",
    "                will be applied to the output of the\n",
    "                last convolutional block, and thus\n",
    "                the output of the model will be a 2D tensor.\n",
    "            - `max` means that global max pooling will\n",
    "                be applied.\n",
    "        classes: optional number of classes to classify images\n",
    "            into, only to be specified if `include_top` is True,\n",
    "            and if no `weights` argument is specified.\n",
    "    # Returns\n",
    "        A Keras model instance.\n",
    "    # Raises\n",
    "        ValueError: in case of invalid argument for `weights`,\n",
    "            or invalid input shape.\n",
    "        RuntimeError: If attempting to run this model with a\n",
    "            backend that does not support separable convolutions.\n",
    "    \"\"\"\n",
    "\n",
    "    # Determine proper input shape\n",
    "\n",
    "    img_input = layers.Input(shape=input_shape)\n",
    "\n",
    "    x = layers.Conv2D(32, (3, 3),\n",
    "                      strides=(2, 2),\n",
    "                      use_bias=False,\n",
    "                      name='block1_conv1')(img_input)\n",
    "    x = layers.BatchNormalization(name='block1_conv1_bn')(x)\n",
    "    x = layers.Activation('relu', name='block1_conv1_act')(x)\n",
    "    x = layers.Conv2D(64, (3, 3), use_bias=False, name='block1_conv2',kernel_regularizer=l2(reg))(x)\n",
    "    x = layers.BatchNormalization(name='block1_conv2_bn')(x)\n",
    "    x = layers.Activation('relu', name='block1_conv2_act')(x)\n",
    "\n",
    "    residual = layers.Conv2D(128, (1, 1),\n",
    "                             strides=(2, 2),\n",
    "                             padding='same',\n",
    "                             use_bias=False,\n",
    "                             kernel_regularizer=l2(reg))(x)\n",
    "    residual = layers.BatchNormalization()(residual)\n",
    "\n",
    "    x = layers.SeparableConv2D(128, (3, 3),\n",
    "                               padding='same',\n",
    "                               use_bias=False,\n",
    "                               name='block2_sepconv1')(x)\n",
    "    x = layers.BatchNormalization(name='block2_sepconv1_bn')(x)\n",
    "    x = layers.Activation('relu', name='block2_sepconv2_act')(x)\n",
    "    x = layers.SeparableConv2D(128, (3, 3),\n",
    "                               padding='same',\n",
    "                               use_bias=False,\n",
    "                               name='block2_sepconv2')(x)\n",
    "    x = layers.BatchNormalization(name='block2_sepconv2_bn')(x)\n",
    "\n",
    "    x = layers.MaxPooling2D((3, 3),\n",
    "                            strides=(2, 2),\n",
    "                            padding='same',\n",
    "                            name='block2_pool')(x)\n",
    "    x = layers.add([x, residual])\n",
    "\n",
    "    residual = layers.Conv2D(256, (1, 1), strides=(2, 2),\n",
    "                             padding='same', use_bias=False, kernel_regularizer=l2(reg))(x)\n",
    "    residual = layers.BatchNormalization()(residual)\n",
    "\n",
    "    x = layers.Activation('relu', name='block3_sepconv1_act')(x)\n",
    "    x = layers.SeparableConv2D(256, (3, 3),\n",
    "                               padding='same',\n",
    "                               use_bias=False,\n",
    "                               name='block3_sepconv1')(x)\n",
    "    x = layers.BatchNormalization(name='block3_sepconv1_bn')(x)\n",
    "    x = layers.Activation('relu', name='block3_sepconv2_act')(x)\n",
    "    x = layers.SeparableConv2D(256, (3, 3),\n",
    "                               padding='same',\n",
    "                               use_bias=False,\n",
    "                               name='block3_sepconv2')(x)\n",
    "    x = layers.BatchNormalization(name='block3_sepconv2_bn')(x)\n",
    "\n",
    "    x = layers.MaxPooling2D((3, 3), strides=(2, 2),\n",
    "                            padding='same',\n",
    "                            name='block3_pool')(x)\n",
    "    x = layers.add([x, residual])\n",
    "\n",
    "    residual = layers.Conv2D(728, (1, 1),\n",
    "                             strides=(2, 2),\n",
    "                             padding='same',\n",
    "                             use_bias=False,\n",
    "                             kernel_regularizer=l2(reg))(x)\n",
    "    residual = layers.BatchNormalization()(residual)\n",
    "\n",
    "    x = layers.Activation('relu', name='block4_sepconv1_act')(x)\n",
    "    x = layers.SeparableConv2D(728, (3, 3),\n",
    "                               padding='same',\n",
    "                               use_bias=False,\n",
    "                               name='block4_sepconv1')(x)\n",
    "    x = layers.BatchNormalization(name='block4_sepconv1_bn')(x)\n",
    "    x = layers.Activation('relu', name='block4_sepconv2_act')(x)\n",
    "    x = layers.SeparableConv2D(728, (3, 3),\n",
    "                               padding='same',\n",
    "                               use_bias=False,\n",
    "                               name='block4_sepconv2')(x)\n",
    "    x = layers.BatchNormalization(name='block4_sepconv2_bn')(x)\n",
    "\n",
    "    x = layers.MaxPooling2D((3, 3), strides=(2, 2),\n",
    "                            padding='same',\n",
    "                            name='block4_pool')(x)\n",
    "    x = layers.add([x, residual])\n",
    "\n",
    "    for i in range(8):\n",
    "        residual = x\n",
    "        prefix = 'block' + str(i + 5)\n",
    "\n",
    "        x = layers.Activation('relu', name=prefix + '_sepconv1_act')(x)\n",
    "        x = layers.SeparableConv2D(728, (3, 3),\n",
    "                                   padding='same',\n",
    "                                   use_bias=False,\n",
    "                                   name=prefix + '_sepconv1')(x)\n",
    "        x = layers.BatchNormalization(name=prefix + '_sepconv1_bn')(x)\n",
    "        x = layers.Activation('relu', name=prefix + '_sepconv2_act')(x)\n",
    "        x = layers.SeparableConv2D(728, (3, 3),\n",
    "                                   padding='same',\n",
    "                                   use_bias=False,\n",
    "                                   name=prefix + '_sepconv2')(x)\n",
    "        x = layers.BatchNormalization(name=prefix + '_sepconv2_bn')(x)\n",
    "        x = layers.Activation('relu', name=prefix + '_sepconv3_act')(x)\n",
    "        x = layers.SeparableConv2D(728, (3, 3),\n",
    "                                   padding='same',\n",
    "                                   use_bias=False,\n",
    "                                   name=prefix + '_sepconv3')(x)\n",
    "        x = layers.BatchNormalization(name=prefix + '_sepconv3_bn')(x)\n",
    "\n",
    "        x = layers.add([x, residual])\n",
    "\n",
    "    residual = layers.Conv2D(1024, (1, 1), strides=(2, 2),\n",
    "                             padding='same', use_bias=False,\n",
    "                             kernel_regularizer=l2(reg))(x)\n",
    "    residual = layers.BatchNormalization()(residual)\n",
    "\n",
    "    x = layers.Activation('relu', name='block13_sepconv1_act')(x)\n",
    "    x = layers.SeparableConv2D(728, (3, 3),\n",
    "                               padding='same',\n",
    "                               use_bias=False,\n",
    "                               name='block13_sepconv1')(x)\n",
    "    x = layers.BatchNormalization(name='block13_sepconv1_bn')(x)\n",
    "    x = layers.Activation('relu', name='block13_sepconv2_act')(x)\n",
    "    x = layers.SeparableConv2D(1024, (3, 3),\n",
    "                               padding='same',\n",
    "                               use_bias=False,\n",
    "                               name='block13_sepconv2')(x)\n",
    "    x = layers.BatchNormalization(name='block13_sepconv2_bn')(x)\n",
    "\n",
    "    x = layers.MaxPooling2D((3, 3),\n",
    "                            strides=(2, 2),\n",
    "                            padding='same',\n",
    "                            name='block13_pool')(x)\n",
    "    x = layers.add([x, residual])\n",
    "\n",
    "    x = layers.SeparableConv2D(1536, (3, 3),\n",
    "                               padding='same',\n",
    "                               use_bias=False,\n",
    "                               name='block14_sepconv1')(x)\n",
    "    x = layers.BatchNormalization(name='block14_sepconv1_bn')(x)\n",
    "    x = layers.Activation('relu', name='block14_sepconv1_act')(x)\n",
    "\n",
    "    x = layers.SeparableConv2D(2048, (3, 3),\n",
    "                               padding='same',\n",
    "                               use_bias=False,\n",
    "                               name='block14_sepconv2')(x)\n",
    "    x = layers.BatchNormalization(name='block14_sepconv2_bn')(x)\n",
    "    x = layers.Activation('relu', name='block14_sepconv2_act')(x)\n",
    "\n",
    "    if include_top:\n",
    "        x = layers.GlobalAveragePooling2D(name='avg_pool')(x)\n",
    "        x = layers.Dense(classes, activation='softmax', name='predictions')(x)\n",
    "    else:\n",
    "        if pooling == 'avg':\n",
    "            x = layers.GlobalAveragePooling2D()(x)\n",
    "        elif pooling == 'max':\n",
    "            x = layers.GlobalMaxPooling2D()(x)\n",
    "\n",
    "    # Ensure that the model takes into account\n",
    "    # any potential predecessors of `input_tensor`.\n",
    "    inputs = img_input\n",
    "    # Create model.\n",
    "    model = Model(inputs, x, name='xception')\n",
    "\n",
    "    # Load weights\n",
    "    return model"
   ]
  },
  {
   "cell_type": "code",
   "execution_count": 39,
   "metadata": {},
   "outputs": [],
   "source": [
    "# https://gist.github.com/mjdietzx/0cb95922aac14d446a6530f87b3a04ce\n",
    "\"\"\"\n",
    "Clean and simple Keras implementation of network architectures described in:\n",
    "    - (ResNet-50) [Deep Residual Learning for Image Recognition](https://arxiv.org/pdf/1512.03385.pdf).\n",
    "    - (ResNeXt-50 32x4d) [Aggregated Residual Transformations for Deep Neural Networks](https://arxiv.org/pdf/1611.05431.pdf).\n",
    "    \n",
    "Python 3.\n",
    "\"\"\"\n",
    "\n",
    "from keras import layers\n",
    "\n",
    "#\n",
    "# image dimensions\n",
    "#\n",
    "\n",
    "img_height = 132\n",
    "img_width = 132\n",
    "img_channels = 3\n",
    "\n",
    "#\n",
    "# network params\n",
    "#\n",
    "\n",
    "cardinality = 32\n",
    "\n",
    "\n",
    "def residual_network(x, reg = 0.0):\n",
    "    \"\"\"\n",
    "    ResNeXt by default. For ResNet set `cardinality` = 1 above.\n",
    "    \n",
    "    \"\"\"\n",
    "    def add_common_layers(y):\n",
    "        y = layers.BatchNormalization()(y)\n",
    "        y = layers.LeakyReLU()(y)\n",
    "\n",
    "        return y\n",
    "\n",
    "    def grouped_convolution(y, nb_channels, _strides, reg = reg):\n",
    "        # when `cardinality` == 1 this is just a standard convolution\n",
    "        if cardinality == 1:\n",
    "            return layers.Conv2D(nb_channels, kernel_size=(3, 3), strides=_strides, padding='same')(y)\n",
    "        \n",
    "        assert not nb_channels % cardinality\n",
    "        _d = nb_channels // cardinality\n",
    "\n",
    "        # in a grouped convolution layer, input and output channels are divided into `cardinality` groups,\n",
    "        # and convolutions are separately performed within each group\n",
    "        groups = []\n",
    "        for j in range(cardinality):\n",
    "            group = layers.Lambda(lambda z: z[:, :, :, j * _d:j * _d + _d])(y)\n",
    "            groups.append(layers.Conv2D(_d, kernel_size=(3, 3), strides=_strides, padding='same', kernel_regularizer=l2(reg))(group))\n",
    "            \n",
    "        # the grouped convolutional layer concatenates them as the outputs of the layer\n",
    "        y = layers.concatenate(groups)\n",
    "\n",
    "        return y\n",
    "\n",
    "    def residual_block(y, nb_channels_in, nb_channels_out, _strides=(1, 1), _project_shortcut=False, reg = reg):\n",
    "        \"\"\"\n",
    "        Our network consists of a stack of residual blocks. These blocks have the same topology,\n",
    "        and are subject to two simple rules:\n",
    "\n",
    "        - If producing spatial maps of the same size, the blocks share the same hyper-parameters (width and filter sizes).\n",
    "        - Each time the spatial map is down-sampled by a factor of 2, the width of the blocks is multiplied by a factor of 2.\n",
    "        \"\"\"\n",
    "        shortcut = y\n",
    "\n",
    "        # we modify the residual building block as a bottleneck design to make the network more economical\n",
    "        y = layers.Conv2D(nb_channels_in, kernel_size=(1, 1), strides=(1, 1), padding='same', kernel_regularizer=l2(reg))(y)\n",
    "        y = add_common_layers(y)\n",
    "\n",
    "        # ResNeXt (identical to ResNet when `cardinality` == 1)\n",
    "        y = grouped_convolution(y, nb_channels_in, _strides=_strides, reg = reg)\n",
    "        y = add_common_layers(y)\n",
    "\n",
    "        y = layers.Conv2D(nb_channels_out, kernel_size=(1, 1), strides=(1, 1), padding='same', kernel_regularizer=l2(reg))(y)\n",
    "        # batch normalization is employed after aggregating the transformations and before adding to the shortcut\n",
    "        y = layers.BatchNormalization()(y)\n",
    "\n",
    "        # identity shortcuts used directly when the input and output are of the same dimensions\n",
    "        if _project_shortcut or _strides != (1, 1):\n",
    "            # when the dimensions increase projection shortcut is used to match dimensions (done by 1×1 convolutions)\n",
    "            # when the shortcuts go across feature maps of two sizes, they are performed with a stride of 2\n",
    "            shortcut = layers.Conv2D(nb_channels_out, kernel_size=(1, 1), strides=_strides, padding='same', kernel_regularizer=l2(reg))(shortcut)\n",
    "            shortcut = layers.BatchNormalization()(shortcut)\n",
    "\n",
    "        y = layers.add([shortcut, y])\n",
    "\n",
    "        # relu is performed right after each batch normalization,\n",
    "        # expect for the output of the block where relu is performed after the adding to the shortcut\n",
    "        y = layers.LeakyReLU()(y)\n",
    "\n",
    "        return y\n",
    "\n",
    "    # conv1\n",
    "    x = layers.Conv2D(64, kernel_size=(7, 7), strides=(2, 2), padding='same', kernel_regularizer=l2(reg))(x)\n",
    "    x = add_common_layers(x)\n",
    "\n",
    "    # conv2\n",
    "    x = layers.MaxPool2D(pool_size=(3, 3), strides=(2, 2), padding='same')(x)\n",
    "    for i in range(3):\n",
    "        project_shortcut = True if i == 0 else False\n",
    "        x = residual_block(x, 128, 256, _project_shortcut=project_shortcut, reg = reg)\n",
    "\n",
    "    # conv3\n",
    "    for i in range(4):\n",
    "        # down-sampling is performed by conv3_1, conv4_1, and conv5_1 with a stride of 2\n",
    "        strides = (2, 2) if i == 0 else (1, 1)\n",
    "        x = residual_block(x, 256, 512, _strides=strides, reg = reg)\n",
    "\n",
    "    # conv4\n",
    "    for i in range(6):\n",
    "        strides = (2, 2) if i == 0 else (1, 1)\n",
    "        x = residual_block(x, 512, 1024, _strides=strides, reg = reg)\n",
    "\n",
    "    # conv5\n",
    "    for i in range(3):\n",
    "        strides = (2, 2) if i == 0 else (1, 1)\n",
    "        x = residual_block(x, 1024, 2048, _strides=strides, reg = reg)\n",
    "\n",
    "    x = layers.GlobalAveragePooling2D()(x)\n",
    "    # x = layers.Dense(1)(x)\n",
    "\n",
    "    return x\n",
    "\n",
    "\n",
    "#image_tensor = layers.Input(shape=(img_height, img_width, img_channels))\n",
    "#network_output = residual_network(image_tensor)\n",
    "  \n",
    "#model = models.Model(inputs=[image_tensor], outputs=[network_output])\n",
    "#print(model.summary())"
   ]
  },
  {
   "cell_type": "code",
   "execution_count": null,
   "metadata": {},
   "outputs": [],
   "source": []
  },
  {
   "cell_type": "code",
   "execution_count": 43,
   "metadata": {
    "_uuid": "725e7e521b6bf776e8a165614dba50cb597d3a1c"
   },
   "outputs": [],
   "source": [
    "from keras.regularizers import *\n",
    "def subblock(x, filter, **kwargs):\n",
    "    x = BatchNormalization()(x)\n",
    "    y = x\n",
    "    y = Conv2D(filter, (1, 1), activation='relu', **kwargs)(y)  # Reduce the number of features to 'filter'\n",
    "    y = BatchNormalization()(y)\n",
    "    y = Conv2D(filter, (3, 3), activation='relu', **kwargs)(y)  # Extend the feature field\n",
    "    y = BatchNormalization()(y)\n",
    "    y = Conv2D(K.int_shape(x)[-1], (1, 1), **kwargs)(y)  # no activation # Restore the number of original features\n",
    "    y = Add()([x, y])  # Add the bypass connection\n",
    "    y = Activation('relu')(y)\n",
    "    return y\n",
    "\n",
    "\n",
    "def build_model(lr, l2, activation='sigmoid'):\n",
    "    K.clear_session()\n",
    "    ##############\n",
    "    # BRANCH MODEL\n",
    "    ##############\n",
    "    regul = regularizers.l2(l2)\n",
    "    optim = Adamax(lr=lr)#Adam(lr=lr)\n",
    "    kwargs = {'padding': 'same', 'kernel_regularizer': regul}\n",
    "    \n",
    "    '''inp = Input(shape=img_shape)  # 384x384x1\n",
    "    x = Conv2D(64, (9, 9), strides=2, activation='elu', **kwargs)(inp)\n",
    "\n",
    "    x = MaxPooling2D((2, 2), strides=(2, 2))(x)  # 96x96x64\n",
    "    for _ in range(2):\n",
    "        x = BatchNormalization()(x)\n",
    "        x = Conv2D(64, (3, 3), activation='elu', **kwargs)(x)\n",
    "\n",
    "    x = MaxPooling2D((2, 2), strides=(2, 2))(x)  # 48x48x64\n",
    "    x = BatchNormalization()(x)\n",
    "    x = Conv2D(128, (1, 1), activation='elu', **kwargs)(x)  # 48x48x128\n",
    "    for _ in range(4):\n",
    "        x = subblock(x, 64, **kwargs)\n",
    "\n",
    "    x = MaxPooling2D((2, 2), strides=(2, 2))(x)  # 24x24x128\n",
    "    x = BatchNormalization()(x)\n",
    "    x = Conv2D(256, (1, 1), activation='elu', **kwargs)(x)  # 24x24x256\n",
    "    for _ in range(4):\n",
    "        x = subblock(x, 64, **kwargs)\n",
    "\n",
    "    x = MaxPooling2D((2, 2), strides=(2, 2))(x)  # 12x12x256\n",
    "    x = BatchNormalization()(x)\n",
    "    x = Conv2D(384, (1, 1), activation='elu', **kwargs)(x)  # 12x12x384\n",
    "    for _ in range(4):\n",
    "        x = subblock(x, 96, **kwargs)\n",
    "\n",
    "    x = MaxPooling2D((2, 2), strides=(2, 2))(x)  # 6x6x384\n",
    "    x = BatchNormalization()(x)\n",
    "    x = Conv2D(512, (1, 1), activation='elu', **kwargs)(x)  # 6x6x512\n",
    "    for _ in range(4):\n",
    "        x = subblock(x, 128, **kwargs)\n",
    "\n",
    "    x = GlobalMaxPooling2D()(x)  # 512\n",
    "    branch_model = Model(inp, x)'''\n",
    "    \n",
    "    #from keras.applications.xception import Xception\n",
    "    #from keras.applications.resnet50 import ResNet50\n",
    "    #branch_model = ResNet50(input_shape = img_shape, include_top = False, weights = None, pooling='max')\n",
    "    #branch_model = Xception(include_top=False,input_shape=img_shape, pooling='max', reg = l2)\n",
    "    image_tensor = Input(shape=(img_height, img_width, 1))\n",
    "    network_output = residual_network(image_tensor, reg = l2)\n",
    "    branch_model = Model(inputs=[image_tensor], outputs=[network_output])\n",
    "    #for layer in branch_model.layers:\n",
    "    #    layer.trainable = True\n",
    "    #branch_model = Xception(input_shape = img_shape, include_top = False, weights = None, pooling='max')\n",
    "    #branch_model =  ResNext(input_shape=img_shape, depth=20, cardinality=5, width=64, weight_decay=5e-4,\n",
    "    #        include_top=False, weights=None, input_tensor=None,\n",
    "    #        pooling='max')\n",
    "    ############\n",
    "    # HEAD MODEL\n",
    "    ############\n",
    "    mid = 32\n",
    "    xa_inp = Input(shape=branch_model.output_shape[1:])\n",
    "    xb_inp = Input(shape=branch_model.output_shape[1:])\n",
    "    x1 = Lambda(lambda x: x[0] * x[1])([xa_inp, xb_inp])\n",
    "    x2 = Lambda(lambda x: x[0] + x[1])([xa_inp, xb_inp])\n",
    "    x3 = Lambda(lambda x: K.abs(x[0] - x[1]))([xa_inp, xb_inp])\n",
    "    x4 = Lambda(lambda x: K.square(x))(x3)\n",
    "    x = Concatenate()([x1, x2, x3, x4])\n",
    "    x = Reshape((4, branch_model.output_shape[1], 1), name='reshape1')(x)\n",
    "\n",
    "    # Per feature NN with shared weight is implemented using CONV2D with appropriate stride.\n",
    "    x = Conv2D(mid, (4, 1), activation='elu', padding='valid')(x)\n",
    "    x = Reshape((branch_model.output_shape[1], mid, 1))(x)\n",
    "    x = Conv2D(1, (1, mid), activation='linear', padding='valid')(x)\n",
    "    x = Flatten(name='flatten')(x)\n",
    "\n",
    "    # Weighted sum implemented as a Dense layer.\n",
    "    x = Dense(1, use_bias=True, activation=activation, name='weighted-average')(x)\n",
    "    head_model = Model([xa_inp, xb_inp], x, name='head')\n",
    "\n",
    "    ########################\n",
    "    # SIAMESE NEURAL NETWORK\n",
    "    ########################\n",
    "    # Complete model is constructed by calling the branch model on each input image,\n",
    "    # and then the head model on the resulting 512-vectors.\n",
    "    img_a = Input(shape=img_shape)\n",
    "    img_b = Input(shape=img_shape)\n",
    "    xa = branch_model(img_a)\n",
    "    xb = branch_model(img_b)\n",
    "    x = head_model([xa, xb])\n",
    "    model = Model([img_a, img_b], x)\n",
    "    model.compile(optim, loss='binary_crossentropy', metrics=['binary_crossentropy', 'acc'])\n",
    "    \n",
    "    for layer in model.layers:\n",
    "        layer.trainable = True\n",
    "    return model, branch_model, head_model\n",
    "\n",
    "\n",
    "model, branch_model, head_model = build_model(64e-5, 0)"
   ]
  },
  {
   "cell_type": "code",
   "execution_count": 44,
   "metadata": {},
   "outputs": [
    {
     "name": "stdout",
     "output_type": "stream",
     "text": [
      "__________________________________________________________________________________________________\n",
      "Layer (type)                    Output Shape         Param #     Connected to                     \n",
      "==================================================================================================\n",
      "input_4 (InputLayer)            (None, 132, 132, 1)  0                                            \n",
      "__________________________________________________________________________________________________\n",
      "input_5 (InputLayer)            (None, 132, 132, 1)  0                                            \n",
      "__________________________________________________________________________________________________\n",
      "model_1 (Model)                 (None, 2048)         23075968    input_4[0][0]                    \n",
      "                                                                 input_5[0][0]                    \n",
      "__________________________________________________________________________________________________\n",
      "head (Model)                    (None, 1)            2242        model_1[1][0]                    \n",
      "                                                                 model_1[2][0]                    \n",
      "==================================================================================================\n",
      "Total params: 23,078,210\n",
      "Trainable params: 23,009,986\n",
      "Non-trainable params: 68,224\n",
      "__________________________________________________________________________________________________\n"
     ]
    }
   ],
   "source": [
    "model.summary()"
   ]
  },
  {
   "cell_type": "code",
   "execution_count": 15,
   "metadata": {},
   "outputs": [
    {
     "name": "stdout",
     "output_type": "stream",
     "text": [
      "__________________________________________________________________________________________________\n",
      "Layer (type)                    Output Shape         Param #     Connected to                     \n",
      "==================================================================================================\n",
      "input_1 (InputLayer)            (None, 324, 324, 1)  0                                            \n",
      "__________________________________________________________________________________________________\n",
      "conv2d_1 (Conv2D)               (None, 162, 162, 64) 5248        input_1[0][0]                    \n",
      "__________________________________________________________________________________________________\n",
      "max_pooling2d_1 (MaxPooling2D)  (None, 81, 81, 64)   0           conv2d_1[0][0]                   \n",
      "__________________________________________________________________________________________________\n",
      "batch_normalization_1 (BatchNor (None, 81, 81, 64)   256         max_pooling2d_1[0][0]            \n",
      "__________________________________________________________________________________________________\n",
      "conv2d_2 (Conv2D)               (None, 81, 81, 64)   36928       batch_normalization_1[0][0]      \n",
      "__________________________________________________________________________________________________\n",
      "batch_normalization_2 (BatchNor (None, 81, 81, 64)   256         conv2d_2[0][0]                   \n",
      "__________________________________________________________________________________________________\n",
      "conv2d_3 (Conv2D)               (None, 81, 81, 64)   36928       batch_normalization_2[0][0]      \n",
      "__________________________________________________________________________________________________\n",
      "max_pooling2d_2 (MaxPooling2D)  (None, 40, 40, 64)   0           conv2d_3[0][0]                   \n",
      "__________________________________________________________________________________________________\n",
      "batch_normalization_3 (BatchNor (None, 40, 40, 64)   256         max_pooling2d_2[0][0]            \n",
      "__________________________________________________________________________________________________\n",
      "conv2d_4 (Conv2D)               (None, 40, 40, 128)  8320        batch_normalization_3[0][0]      \n",
      "__________________________________________________________________________________________________\n",
      "batch_normalization_4 (BatchNor (None, 40, 40, 128)  512         conv2d_4[0][0]                   \n",
      "__________________________________________________________________________________________________\n",
      "conv2d_5 (Conv2D)               (None, 40, 40, 64)   8256        batch_normalization_4[0][0]      \n",
      "__________________________________________________________________________________________________\n",
      "batch_normalization_5 (BatchNor (None, 40, 40, 64)   256         conv2d_5[0][0]                   \n",
      "__________________________________________________________________________________________________\n",
      "conv2d_6 (Conv2D)               (None, 40, 40, 64)   36928       batch_normalization_5[0][0]      \n",
      "__________________________________________________________________________________________________\n",
      "batch_normalization_6 (BatchNor (None, 40, 40, 64)   256         conv2d_6[0][0]                   \n",
      "__________________________________________________________________________________________________\n",
      "conv2d_7 (Conv2D)               (None, 40, 40, 128)  8320        batch_normalization_6[0][0]      \n",
      "__________________________________________________________________________________________________\n",
      "add_1 (Add)                     (None, 40, 40, 128)  0           batch_normalization_4[0][0]      \n",
      "                                                                 conv2d_7[0][0]                   \n",
      "__________________________________________________________________________________________________\n",
      "activation_1 (Activation)       (None, 40, 40, 128)  0           add_1[0][0]                      \n",
      "__________________________________________________________________________________________________\n",
      "batch_normalization_7 (BatchNor (None, 40, 40, 128)  512         activation_1[0][0]               \n",
      "__________________________________________________________________________________________________\n",
      "conv2d_8 (Conv2D)               (None, 40, 40, 64)   8256        batch_normalization_7[0][0]      \n",
      "__________________________________________________________________________________________________\n",
      "batch_normalization_8 (BatchNor (None, 40, 40, 64)   256         conv2d_8[0][0]                   \n",
      "__________________________________________________________________________________________________\n",
      "conv2d_9 (Conv2D)               (None, 40, 40, 64)   36928       batch_normalization_8[0][0]      \n",
      "__________________________________________________________________________________________________\n",
      "batch_normalization_9 (BatchNor (None, 40, 40, 64)   256         conv2d_9[0][0]                   \n",
      "__________________________________________________________________________________________________\n",
      "conv2d_10 (Conv2D)              (None, 40, 40, 128)  8320        batch_normalization_9[0][0]      \n",
      "__________________________________________________________________________________________________\n",
      "add_2 (Add)                     (None, 40, 40, 128)  0           batch_normalization_7[0][0]      \n",
      "                                                                 conv2d_10[0][0]                  \n",
      "__________________________________________________________________________________________________\n",
      "activation_2 (Activation)       (None, 40, 40, 128)  0           add_2[0][0]                      \n",
      "__________________________________________________________________________________________________\n",
      "batch_normalization_10 (BatchNo (None, 40, 40, 128)  512         activation_2[0][0]               \n",
      "__________________________________________________________________________________________________\n",
      "conv2d_11 (Conv2D)              (None, 40, 40, 64)   8256        batch_normalization_10[0][0]     \n",
      "__________________________________________________________________________________________________\n",
      "batch_normalization_11 (BatchNo (None, 40, 40, 64)   256         conv2d_11[0][0]                  \n",
      "__________________________________________________________________________________________________\n",
      "conv2d_12 (Conv2D)              (None, 40, 40, 64)   36928       batch_normalization_11[0][0]     \n",
      "__________________________________________________________________________________________________\n",
      "batch_normalization_12 (BatchNo (None, 40, 40, 64)   256         conv2d_12[0][0]                  \n",
      "__________________________________________________________________________________________________\n",
      "conv2d_13 (Conv2D)              (None, 40, 40, 128)  8320        batch_normalization_12[0][0]     \n",
      "__________________________________________________________________________________________________\n",
      "add_3 (Add)                     (None, 40, 40, 128)  0           batch_normalization_10[0][0]     \n",
      "                                                                 conv2d_13[0][0]                  \n",
      "__________________________________________________________________________________________________\n",
      "activation_3 (Activation)       (None, 40, 40, 128)  0           add_3[0][0]                      \n",
      "__________________________________________________________________________________________________\n",
      "batch_normalization_13 (BatchNo (None, 40, 40, 128)  512         activation_3[0][0]               \n",
      "__________________________________________________________________________________________________\n",
      "conv2d_14 (Conv2D)              (None, 40, 40, 64)   8256        batch_normalization_13[0][0]     \n",
      "__________________________________________________________________________________________________\n",
      "batch_normalization_14 (BatchNo (None, 40, 40, 64)   256         conv2d_14[0][0]                  \n",
      "__________________________________________________________________________________________________\n",
      "conv2d_15 (Conv2D)              (None, 40, 40, 64)   36928       batch_normalization_14[0][0]     \n",
      "__________________________________________________________________________________________________\n",
      "batch_normalization_15 (BatchNo (None, 40, 40, 64)   256         conv2d_15[0][0]                  \n",
      "__________________________________________________________________________________________________\n",
      "conv2d_16 (Conv2D)              (None, 40, 40, 128)  8320        batch_normalization_15[0][0]     \n",
      "__________________________________________________________________________________________________\n",
      "add_4 (Add)                     (None, 40, 40, 128)  0           batch_normalization_13[0][0]     \n",
      "                                                                 conv2d_16[0][0]                  \n",
      "__________________________________________________________________________________________________\n",
      "activation_4 (Activation)       (None, 40, 40, 128)  0           add_4[0][0]                      \n",
      "__________________________________________________________________________________________________\n",
      "max_pooling2d_3 (MaxPooling2D)  (None, 20, 20, 128)  0           activation_4[0][0]               \n",
      "__________________________________________________________________________________________________\n",
      "batch_normalization_16 (BatchNo (None, 20, 20, 128)  512         max_pooling2d_3[0][0]            \n",
      "__________________________________________________________________________________________________\n",
      "conv2d_17 (Conv2D)              (None, 20, 20, 256)  33024       batch_normalization_16[0][0]     \n",
      "__________________________________________________________________________________________________\n",
      "batch_normalization_17 (BatchNo (None, 20, 20, 256)  1024        conv2d_17[0][0]                  \n",
      "__________________________________________________________________________________________________\n",
      "conv2d_18 (Conv2D)              (None, 20, 20, 64)   16448       batch_normalization_17[0][0]     \n",
      "__________________________________________________________________________________________________\n",
      "batch_normalization_18 (BatchNo (None, 20, 20, 64)   256         conv2d_18[0][0]                  \n",
      "__________________________________________________________________________________________________\n",
      "conv2d_19 (Conv2D)              (None, 20, 20, 64)   36928       batch_normalization_18[0][0]     \n",
      "__________________________________________________________________________________________________\n",
      "batch_normalization_19 (BatchNo (None, 20, 20, 64)   256         conv2d_19[0][0]                  \n",
      "__________________________________________________________________________________________________\n",
      "conv2d_20 (Conv2D)              (None, 20, 20, 256)  16640       batch_normalization_19[0][0]     \n",
      "__________________________________________________________________________________________________\n",
      "add_5 (Add)                     (None, 20, 20, 256)  0           batch_normalization_17[0][0]     \n",
      "                                                                 conv2d_20[0][0]                  \n",
      "__________________________________________________________________________________________________\n",
      "activation_5 (Activation)       (None, 20, 20, 256)  0           add_5[0][0]                      \n",
      "__________________________________________________________________________________________________\n",
      "batch_normalization_20 (BatchNo (None, 20, 20, 256)  1024        activation_5[0][0]               \n",
      "__________________________________________________________________________________________________\n",
      "conv2d_21 (Conv2D)              (None, 20, 20, 64)   16448       batch_normalization_20[0][0]     \n",
      "__________________________________________________________________________________________________\n",
      "batch_normalization_21 (BatchNo (None, 20, 20, 64)   256         conv2d_21[0][0]                  \n",
      "__________________________________________________________________________________________________\n",
      "conv2d_22 (Conv2D)              (None, 20, 20, 64)   36928       batch_normalization_21[0][0]     \n",
      "__________________________________________________________________________________________________\n",
      "batch_normalization_22 (BatchNo (None, 20, 20, 64)   256         conv2d_22[0][0]                  \n",
      "__________________________________________________________________________________________________\n",
      "conv2d_23 (Conv2D)              (None, 20, 20, 256)  16640       batch_normalization_22[0][0]     \n",
      "__________________________________________________________________________________________________\n",
      "add_6 (Add)                     (None, 20, 20, 256)  0           batch_normalization_20[0][0]     \n",
      "                                                                 conv2d_23[0][0]                  \n",
      "__________________________________________________________________________________________________\n",
      "activation_6 (Activation)       (None, 20, 20, 256)  0           add_6[0][0]                      \n",
      "__________________________________________________________________________________________________\n",
      "batch_normalization_23 (BatchNo (None, 20, 20, 256)  1024        activation_6[0][0]               \n",
      "__________________________________________________________________________________________________\n",
      "conv2d_24 (Conv2D)              (None, 20, 20, 64)   16448       batch_normalization_23[0][0]     \n",
      "__________________________________________________________________________________________________\n",
      "batch_normalization_24 (BatchNo (None, 20, 20, 64)   256         conv2d_24[0][0]                  \n",
      "__________________________________________________________________________________________________\n",
      "conv2d_25 (Conv2D)              (None, 20, 20, 64)   36928       batch_normalization_24[0][0]     \n",
      "__________________________________________________________________________________________________\n",
      "batch_normalization_25 (BatchNo (None, 20, 20, 64)   256         conv2d_25[0][0]                  \n",
      "__________________________________________________________________________________________________\n",
      "conv2d_26 (Conv2D)              (None, 20, 20, 256)  16640       batch_normalization_25[0][0]     \n",
      "__________________________________________________________________________________________________\n",
      "add_7 (Add)                     (None, 20, 20, 256)  0           batch_normalization_23[0][0]     \n",
      "                                                                 conv2d_26[0][0]                  \n",
      "__________________________________________________________________________________________________\n",
      "activation_7 (Activation)       (None, 20, 20, 256)  0           add_7[0][0]                      \n",
      "__________________________________________________________________________________________________\n",
      "batch_normalization_26 (BatchNo (None, 20, 20, 256)  1024        activation_7[0][0]               \n",
      "__________________________________________________________________________________________________\n",
      "conv2d_27 (Conv2D)              (None, 20, 20, 64)   16448       batch_normalization_26[0][0]     \n",
      "__________________________________________________________________________________________________\n",
      "batch_normalization_27 (BatchNo (None, 20, 20, 64)   256         conv2d_27[0][0]                  \n",
      "__________________________________________________________________________________________________\n",
      "conv2d_28 (Conv2D)              (None, 20, 20, 64)   36928       batch_normalization_27[0][0]     \n",
      "__________________________________________________________________________________________________\n",
      "batch_normalization_28 (BatchNo (None, 20, 20, 64)   256         conv2d_28[0][0]                  \n",
      "__________________________________________________________________________________________________\n",
      "conv2d_29 (Conv2D)              (None, 20, 20, 256)  16640       batch_normalization_28[0][0]     \n",
      "__________________________________________________________________________________________________\n",
      "add_8 (Add)                     (None, 20, 20, 256)  0           batch_normalization_26[0][0]     \n",
      "                                                                 conv2d_29[0][0]                  \n",
      "__________________________________________________________________________________________________\n",
      "activation_8 (Activation)       (None, 20, 20, 256)  0           add_8[0][0]                      \n"
     ]
    },
    {
     "name": "stdout",
     "output_type": "stream",
     "text": [
      "__________________________________________________________________________________________________\n",
      "max_pooling2d_4 (MaxPooling2D)  (None, 10, 10, 256)  0           activation_8[0][0]               \n",
      "__________________________________________________________________________________________________\n",
      "batch_normalization_29 (BatchNo (None, 10, 10, 256)  1024        max_pooling2d_4[0][0]            \n",
      "__________________________________________________________________________________________________\n",
      "conv2d_30 (Conv2D)              (None, 10, 10, 384)  98688       batch_normalization_29[0][0]     \n",
      "__________________________________________________________________________________________________\n",
      "batch_normalization_30 (BatchNo (None, 10, 10, 384)  1536        conv2d_30[0][0]                  \n",
      "__________________________________________________________________________________________________\n",
      "conv2d_31 (Conv2D)              (None, 10, 10, 96)   36960       batch_normalization_30[0][0]     \n",
      "__________________________________________________________________________________________________\n",
      "batch_normalization_31 (BatchNo (None, 10, 10, 96)   384         conv2d_31[0][0]                  \n",
      "__________________________________________________________________________________________________\n",
      "conv2d_32 (Conv2D)              (None, 10, 10, 96)   83040       batch_normalization_31[0][0]     \n",
      "__________________________________________________________________________________________________\n",
      "batch_normalization_32 (BatchNo (None, 10, 10, 96)   384         conv2d_32[0][0]                  \n",
      "__________________________________________________________________________________________________\n",
      "conv2d_33 (Conv2D)              (None, 10, 10, 384)  37248       batch_normalization_32[0][0]     \n",
      "__________________________________________________________________________________________________\n",
      "add_9 (Add)                     (None, 10, 10, 384)  0           batch_normalization_30[0][0]     \n",
      "                                                                 conv2d_33[0][0]                  \n",
      "__________________________________________________________________________________________________\n",
      "activation_9 (Activation)       (None, 10, 10, 384)  0           add_9[0][0]                      \n",
      "__________________________________________________________________________________________________\n",
      "batch_normalization_33 (BatchNo (None, 10, 10, 384)  1536        activation_9[0][0]               \n",
      "__________________________________________________________________________________________________\n",
      "conv2d_34 (Conv2D)              (None, 10, 10, 96)   36960       batch_normalization_33[0][0]     \n",
      "__________________________________________________________________________________________________\n",
      "batch_normalization_34 (BatchNo (None, 10, 10, 96)   384         conv2d_34[0][0]                  \n",
      "__________________________________________________________________________________________________\n",
      "conv2d_35 (Conv2D)              (None, 10, 10, 96)   83040       batch_normalization_34[0][0]     \n",
      "__________________________________________________________________________________________________\n",
      "batch_normalization_35 (BatchNo (None, 10, 10, 96)   384         conv2d_35[0][0]                  \n",
      "__________________________________________________________________________________________________\n",
      "conv2d_36 (Conv2D)              (None, 10, 10, 384)  37248       batch_normalization_35[0][0]     \n",
      "__________________________________________________________________________________________________\n",
      "add_10 (Add)                    (None, 10, 10, 384)  0           batch_normalization_33[0][0]     \n",
      "                                                                 conv2d_36[0][0]                  \n",
      "__________________________________________________________________________________________________\n",
      "activation_10 (Activation)      (None, 10, 10, 384)  0           add_10[0][0]                     \n",
      "__________________________________________________________________________________________________\n",
      "batch_normalization_36 (BatchNo (None, 10, 10, 384)  1536        activation_10[0][0]              \n",
      "__________________________________________________________________________________________________\n",
      "conv2d_37 (Conv2D)              (None, 10, 10, 96)   36960       batch_normalization_36[0][0]     \n",
      "__________________________________________________________________________________________________\n",
      "batch_normalization_37 (BatchNo (None, 10, 10, 96)   384         conv2d_37[0][0]                  \n",
      "__________________________________________________________________________________________________\n",
      "conv2d_38 (Conv2D)              (None, 10, 10, 96)   83040       batch_normalization_37[0][0]     \n",
      "__________________________________________________________________________________________________\n",
      "batch_normalization_38 (BatchNo (None, 10, 10, 96)   384         conv2d_38[0][0]                  \n",
      "__________________________________________________________________________________________________\n",
      "conv2d_39 (Conv2D)              (None, 10, 10, 384)  37248       batch_normalization_38[0][0]     \n",
      "__________________________________________________________________________________________________\n",
      "add_11 (Add)                    (None, 10, 10, 384)  0           batch_normalization_36[0][0]     \n",
      "                                                                 conv2d_39[0][0]                  \n",
      "__________________________________________________________________________________________________\n",
      "activation_11 (Activation)      (None, 10, 10, 384)  0           add_11[0][0]                     \n",
      "__________________________________________________________________________________________________\n",
      "batch_normalization_39 (BatchNo (None, 10, 10, 384)  1536        activation_11[0][0]              \n",
      "__________________________________________________________________________________________________\n",
      "conv2d_40 (Conv2D)              (None, 10, 10, 96)   36960       batch_normalization_39[0][0]     \n",
      "__________________________________________________________________________________________________\n",
      "batch_normalization_40 (BatchNo (None, 10, 10, 96)   384         conv2d_40[0][0]                  \n",
      "__________________________________________________________________________________________________\n",
      "conv2d_41 (Conv2D)              (None, 10, 10, 96)   83040       batch_normalization_40[0][0]     \n",
      "__________________________________________________________________________________________________\n",
      "batch_normalization_41 (BatchNo (None, 10, 10, 96)   384         conv2d_41[0][0]                  \n",
      "__________________________________________________________________________________________________\n",
      "conv2d_42 (Conv2D)              (None, 10, 10, 384)  37248       batch_normalization_41[0][0]     \n",
      "__________________________________________________________________________________________________\n",
      "add_12 (Add)                    (None, 10, 10, 384)  0           batch_normalization_39[0][0]     \n",
      "                                                                 conv2d_42[0][0]                  \n",
      "__________________________________________________________________________________________________\n",
      "activation_12 (Activation)      (None, 10, 10, 384)  0           add_12[0][0]                     \n",
      "__________________________________________________________________________________________________\n",
      "max_pooling2d_5 (MaxPooling2D)  (None, 5, 5, 384)    0           activation_12[0][0]              \n",
      "__________________________________________________________________________________________________\n",
      "batch_normalization_42 (BatchNo (None, 5, 5, 384)    1536        max_pooling2d_5[0][0]            \n",
      "__________________________________________________________________________________________________\n",
      "conv2d_43 (Conv2D)              (None, 5, 5, 512)    197120      batch_normalization_42[0][0]     \n",
      "__________________________________________________________________________________________________\n",
      "batch_normalization_43 (BatchNo (None, 5, 5, 512)    2048        conv2d_43[0][0]                  \n",
      "__________________________________________________________________________________________________\n",
      "conv2d_44 (Conv2D)              (None, 5, 5, 128)    65664       batch_normalization_43[0][0]     \n",
      "__________________________________________________________________________________________________\n",
      "batch_normalization_44 (BatchNo (None, 5, 5, 128)    512         conv2d_44[0][0]                  \n",
      "__________________________________________________________________________________________________\n",
      "conv2d_45 (Conv2D)              (None, 5, 5, 128)    147584      batch_normalization_44[0][0]     \n",
      "__________________________________________________________________________________________________\n",
      "batch_normalization_45 (BatchNo (None, 5, 5, 128)    512         conv2d_45[0][0]                  \n",
      "__________________________________________________________________________________________________\n",
      "conv2d_46 (Conv2D)              (None, 5, 5, 512)    66048       batch_normalization_45[0][0]     \n",
      "__________________________________________________________________________________________________\n",
      "add_13 (Add)                    (None, 5, 5, 512)    0           batch_normalization_43[0][0]     \n",
      "                                                                 conv2d_46[0][0]                  \n",
      "__________________________________________________________________________________________________\n",
      "activation_13 (Activation)      (None, 5, 5, 512)    0           add_13[0][0]                     \n",
      "__________________________________________________________________________________________________\n",
      "batch_normalization_46 (BatchNo (None, 5, 5, 512)    2048        activation_13[0][0]              \n",
      "__________________________________________________________________________________________________\n",
      "conv2d_47 (Conv2D)              (None, 5, 5, 128)    65664       batch_normalization_46[0][0]     \n",
      "__________________________________________________________________________________________________\n",
      "batch_normalization_47 (BatchNo (None, 5, 5, 128)    512         conv2d_47[0][0]                  \n",
      "__________________________________________________________________________________________________\n",
      "conv2d_48 (Conv2D)              (None, 5, 5, 128)    147584      batch_normalization_47[0][0]     \n",
      "__________________________________________________________________________________________________\n",
      "batch_normalization_48 (BatchNo (None, 5, 5, 128)    512         conv2d_48[0][0]                  \n",
      "__________________________________________________________________________________________________\n",
      "conv2d_49 (Conv2D)              (None, 5, 5, 512)    66048       batch_normalization_48[0][0]     \n",
      "__________________________________________________________________________________________________\n",
      "add_14 (Add)                    (None, 5, 5, 512)    0           batch_normalization_46[0][0]     \n",
      "                                                                 conv2d_49[0][0]                  \n",
      "__________________________________________________________________________________________________\n",
      "activation_14 (Activation)      (None, 5, 5, 512)    0           add_14[0][0]                     \n",
      "__________________________________________________________________________________________________\n",
      "batch_normalization_49 (BatchNo (None, 5, 5, 512)    2048        activation_14[0][0]              \n",
      "__________________________________________________________________________________________________\n",
      "conv2d_50 (Conv2D)              (None, 5, 5, 128)    65664       batch_normalization_49[0][0]     \n",
      "__________________________________________________________________________________________________\n",
      "batch_normalization_50 (BatchNo (None, 5, 5, 128)    512         conv2d_50[0][0]                  \n",
      "__________________________________________________________________________________________________\n",
      "conv2d_51 (Conv2D)              (None, 5, 5, 128)    147584      batch_normalization_50[0][0]     \n",
      "__________________________________________________________________________________________________\n",
      "batch_normalization_51 (BatchNo (None, 5, 5, 128)    512         conv2d_51[0][0]                  \n",
      "__________________________________________________________________________________________________\n",
      "conv2d_52 (Conv2D)              (None, 5, 5, 512)    66048       batch_normalization_51[0][0]     \n",
      "__________________________________________________________________________________________________\n",
      "add_15 (Add)                    (None, 5, 5, 512)    0           batch_normalization_49[0][0]     \n",
      "                                                                 conv2d_52[0][0]                  \n",
      "__________________________________________________________________________________________________\n",
      "activation_15 (Activation)      (None, 5, 5, 512)    0           add_15[0][0]                     \n",
      "__________________________________________________________________________________________________\n",
      "batch_normalization_52 (BatchNo (None, 5, 5, 512)    2048        activation_15[0][0]              \n",
      "__________________________________________________________________________________________________\n",
      "conv2d_53 (Conv2D)              (None, 5, 5, 128)    65664       batch_normalization_52[0][0]     \n",
      "__________________________________________________________________________________________________\n",
      "batch_normalization_53 (BatchNo (None, 5, 5, 128)    512         conv2d_53[0][0]                  \n",
      "__________________________________________________________________________________________________\n",
      "conv2d_54 (Conv2D)              (None, 5, 5, 128)    147584      batch_normalization_53[0][0]     \n",
      "__________________________________________________________________________________________________\n",
      "batch_normalization_54 (BatchNo (None, 5, 5, 128)    512         conv2d_54[0][0]                  \n",
      "__________________________________________________________________________________________________\n",
      "conv2d_55 (Conv2D)              (None, 5, 5, 512)    66048       batch_normalization_54[0][0]     \n",
      "__________________________________________________________________________________________________\n",
      "add_16 (Add)                    (None, 5, 5, 512)    0           batch_normalization_52[0][0]     \n",
      "                                                                 conv2d_55[0][0]                  \n",
      "__________________________________________________________________________________________________\n",
      "activation_16 (Activation)      (None, 5, 5, 512)    0           add_16[0][0]                     \n",
      "__________________________________________________________________________________________________\n",
      "global_max_pooling2d_1 (GlobalM (None, 512)          0           activation_16[0][0]              \n",
      "==================================================================================================\n",
      "Total params: 2,692,096\n",
      "Trainable params: 2,674,304\n",
      "Non-trainable params: 17,792\n",
      "__________________________________________________________________________________________________\n"
     ]
    }
   ],
   "source": [
    "branch_model.summary()"
   ]
  },
  {
   "cell_type": "code",
   "execution_count": 16,
   "metadata": {},
   "outputs": [
    {
     "name": "stdout",
     "output_type": "stream",
     "text": [
      "__________________________________________________________________________________________________\n",
      "Layer (type)                    Output Shape         Param #     Connected to                     \n",
      "==================================================================================================\n",
      "input_2 (InputLayer)            (None, 512)          0                                            \n",
      "__________________________________________________________________________________________________\n",
      "input_3 (InputLayer)            (None, 512)          0                                            \n",
      "__________________________________________________________________________________________________\n",
      "lambda_3 (Lambda)               (None, 512)          0           input_2[0][0]                    \n",
      "                                                                 input_3[0][0]                    \n",
      "__________________________________________________________________________________________________\n",
      "lambda_1 (Lambda)               (None, 512)          0           input_2[0][0]                    \n",
      "                                                                 input_3[0][0]                    \n",
      "__________________________________________________________________________________________________\n",
      "lambda_2 (Lambda)               (None, 512)          0           input_2[0][0]                    \n",
      "                                                                 input_3[0][0]                    \n",
      "__________________________________________________________________________________________________\n",
      "lambda_4 (Lambda)               (None, 512)          0           lambda_3[0][0]                   \n",
      "__________________________________________________________________________________________________\n",
      "concatenate_1 (Concatenate)     (None, 2048)         0           lambda_1[0][0]                   \n",
      "                                                                 lambda_2[0][0]                   \n",
      "                                                                 lambda_3[0][0]                   \n",
      "                                                                 lambda_4[0][0]                   \n",
      "__________________________________________________________________________________________________\n",
      "reshape1 (Reshape)              (None, 4, 512, 1)    0           concatenate_1[0][0]              \n",
      "__________________________________________________________________________________________________\n",
      "conv2d_56 (Conv2D)              (None, 1, 512, 32)   160         reshape1[0][0]                   \n",
      "__________________________________________________________________________________________________\n",
      "reshape_1 (Reshape)             (None, 512, 32, 1)   0           conv2d_56[0][0]                  \n",
      "__________________________________________________________________________________________________\n",
      "conv2d_57 (Conv2D)              (None, 512, 1, 1)    33          reshape_1[0][0]                  \n",
      "__________________________________________________________________________________________________\n",
      "flatten (Flatten)               (None, 512)          0           conv2d_57[0][0]                  \n",
      "__________________________________________________________________________________________________\n",
      "weighted-average (Dense)        (None, 1)            513         flatten[0][0]                    \n",
      "==================================================================================================\n",
      "Total params: 706\n",
      "Trainable params: 706\n",
      "Non-trainable params: 0\n",
      "__________________________________________________________________________________________________\n"
     ]
    }
   ],
   "source": [
    "head_model.summary()"
   ]
  },
  {
   "cell_type": "code",
   "execution_count": 15,
   "metadata": {
    "_uuid": "d8266e1cc94c9c56ff75352aef4194aa37574972"
   },
   "outputs": [],
   "source": [
    "h2ws = {}\n",
    "new_whale = 'new_whale'\n",
    "for p, w in tagged.items():\n",
    "    if w != new_whale:  # Use only identified whales\n",
    "        h = p2h[p]\n",
    "        if h not in h2ws: h2ws[h] = []\n",
    "        if w not in h2ws[h]: h2ws[h].append(w)\n",
    "for h, ws in h2ws.items():\n",
    "    if len(ws) > 1:\n",
    "        h2ws[h] = sorted(ws)\n",
    "\n",
    "# For each whale, find the unambiguous images ids.\n",
    "w2hs = {}\n",
    "for h, ws in h2ws.items():\n",
    "    if len(ws) == 1:  # Use only unambiguous pictures\n",
    "        w = ws[0]\n",
    "        if w not in w2hs: w2hs[w] = []\n",
    "        if h not in w2hs[w]: w2hs[w].append(h)\n",
    "for w, hs in w2hs.items():\n",
    "    if len(hs) > 1:\n",
    "        w2hs[w] = sorted(hs)"
   ]
  },
  {
   "cell_type": "code",
   "execution_count": 16,
   "metadata": {
    "_uuid": "f122bcb1d87721a96a18c31aa2f46aaad4037039"
   },
   "outputs": [],
   "source": [
    "train = []  # A list of training image ids\n",
    "for hs in w2hs.values():\n",
    "    if len(hs) > 1:\n",
    "        train += hs\n",
    "random.shuffle(train)\n",
    "train_set = set(train)\n",
    "\n",
    "w2ts = {}  # Associate the image ids from train to each whale id.\n",
    "for w, hs in w2hs.items():\n",
    "    for h in hs:\n",
    "        if h in train_set:\n",
    "            if w not in w2ts:\n",
    "                w2ts[w] = []\n",
    "            if h not in w2ts[w]:\n",
    "                w2ts[w].append(h)\n",
    "for w, ts in w2ts.items():\n",
    "    w2ts[w] = np.array(ts)\n",
    "\n",
    "t2i = {}  # The position in train of each training image id\n",
    "for i, t in enumerate(train):\n",
    "    t2i[t] = i"
   ]
  },
  {
   "cell_type": "code",
   "execution_count": 45,
   "metadata": {
    "_uuid": "aa16cfd51fdbce44271883869486c1cad32f1091"
   },
   "outputs": [],
   "source": [
    "import threading\n",
    "\n",
    "class TrainingData(Sequence):\n",
    "    def __init__(self, score, steps=1000, batch_size=8): #batchsize = 32\n",
    "        \"\"\"\n",
    "        @param score the cost matrix for the picture matching\n",
    "        @param steps the number of epoch we are planning with this score matrix\n",
    "        \"\"\"\n",
    "        super(TrainingData, self).__init__()\n",
    "        self.score = -score  # Maximizing the score is the same as minimuzing -score.\n",
    "        self.steps = steps\n",
    "        self.batch_size = batch_size\n",
    "        for ts in w2ts.values():\n",
    "            idxs = [t2i[t] for t in ts]\n",
    "            for i in idxs:\n",
    "                for j in idxs:\n",
    "                    self.score[\n",
    "                        i, j] = 10000.0  # Set a large value for matching whales -- eliminates this potential pairing\n",
    "        self.on_epoch_end()\n",
    "\n",
    "    def __getitem__(self, index):\n",
    "        start = self.batch_size * index\n",
    "        end = min(start + self.batch_size, len(self.match) + len(self.unmatch))\n",
    "        size = end - start\n",
    "        assert size > 0\n",
    "        a = np.zeros((size,) + img_shape, dtype=K.floatx())\n",
    "        b = np.zeros((size,) + img_shape, dtype=K.floatx())\n",
    "        c = np.zeros((size, 1), dtype=K.floatx())\n",
    "        j = start // 2\n",
    "        for i in range(0, size, 2):\n",
    "            a[i, :, :, :] = read_for_training(self.match[j][0])\n",
    "            b[i, :, :, :] = read_for_training(self.match[j][1])\n",
    "            c[i, 0] = 1  # This is a match\n",
    "            a[i + 1, :, :, :] = read_for_training(self.unmatch[j][0])\n",
    "            b[i + 1, :, :, :] = read_for_training(self.unmatch[j][1])\n",
    "            c[i + 1, 0] = 0  # Different whales\n",
    "            j += 1\n",
    "        return [a, b], c\n",
    "\n",
    "    def on_epoch_end(self):\n",
    "        if self.steps <= 0: return  # Skip this on the last epoch.\n",
    "        self.steps -= 1\n",
    "        self.match = []\n",
    "        self.unmatch = []\n",
    "        #Note: Martin uses y to assign scores, but it is likely that x will hold same value as y\n",
    "        # lap outputs cost,x,y while lapjv outputs x,y,cost\n",
    "        #_, _,x  = lapjv(self.score) use this in case of lap\n",
    "        #_, x, _  = lapjv(self.score) use this one for lapjv.lapjv\n",
    "        #_, _, x  = lapjv(self.score) # Solve the linear assignment problem\n",
    "        #y = np.arange(len(x), dtype=np.int32)\n",
    "        \n",
    "        #==============threading code starts here============\n",
    "        #Also note, threading essentially splits the set into multiple for comparison, meaning more splits by getting more threads\n",
    "        # will essentially lead to more inaccurate comparisons. do not use the threading solution for best results.\n",
    "        num_threads = 3\n",
    "        tmp   = num_threads*[None]\n",
    "        threads   = []\n",
    "        thread_input   = num_threads*[None]\n",
    "        thread_idx = 0\n",
    "        batch = score.shape[0] // (num_threads-1)\n",
    "        for start in range(0, score.shape[0], batch):\n",
    "            end = min(score.shape[0], start + batch)\n",
    "            thread_input[thread_idx]  = self.score[start:end, start:end]\n",
    "            thread_idx += 1\n",
    "\n",
    "        def worker(data_idx):\n",
    "            #x,_,_ = lapjv(thread_input[data_idx])\n",
    "            _,x,_ = lapjv(thread_input[data_idx])\n",
    "            tmp[data_idx] = x\n",
    "\n",
    "        #print(\"Start worker threads\")\n",
    "        for i in range(num_threads):\n",
    "            t = threading.Thread(target=worker, args=(i,), daemon=True)\n",
    "            t.start()\n",
    "            threads.append(t)\n",
    "        for t in threads:\n",
    "            if t is not None:\n",
    "                t.join()\n",
    "        x = np.concatenate(tmp)\n",
    "        #print(\"LAP completed\")\n",
    "        y = np.arange(len(x), dtype=np.int32)\n",
    "        #y = np.arange(x, dtype=np.int32)S\n",
    "        #==============thrading section ends here=\n",
    "        \n",
    "        # Compute a derangement for matching whales\n",
    "        for ts in w2ts.values():\n",
    "            d = ts.copy()\n",
    "            while True:\n",
    "                random.shuffle(d)\n",
    "                if not np.any(ts == d): break\n",
    "            for ab in zip(ts, d): self.match.append(ab)\n",
    "\n",
    "        # Construct unmatched whale pairs from the LAP solution.\n",
    "        for i, j in zip(x, y):\n",
    "            if i == j:\n",
    "                print(self.score)\n",
    "                print(x)\n",
    "                print(y)\n",
    "                print(i, j)\n",
    "            #assert i != j\n",
    "            self.unmatch.append((train[i], train[j]))\n",
    "\n",
    "        # Force a different choice for an eventual next epoch.\n",
    "        self.score[x, y] = 10000.0\n",
    "        self.score[y, x] = 10000.0\n",
    "        random.shuffle(self.match)\n",
    "        random.shuffle(self.unmatch)\n",
    "        # print(len(self.match), len(train), len(self.unmatch), len(train))\n",
    "        assert len(self.match) == len(train) and len(self.unmatch) == len(train)\n",
    "\n",
    "    def __len__(self):\n",
    "        return (len(self.match) + len(self.unmatch) + self.batch_size - 1) // self.batch_size\n",
    "\n",
    "\n",
    "# Test on a batch of 32 with random costs.\n",
    "score = np.random.random_sample(size=(len(train), len(train)))\n",
    "data = TrainingData(score)\n",
    "(a, b), c = data[0]"
   ]
  },
  {
   "cell_type": "code",
   "execution_count": 18,
   "metadata": {
    "_uuid": "005d041475be5ec97ac8e1d937bea6e7253226af"
   },
   "outputs": [],
   "source": [
    "# A Keras generator to evaluate only the BRANCH MODEL\n",
    "class FeatureGen(Sequence):\n",
    "    def __init__(self, data, batch_size=64, verbose=1):\n",
    "        super(FeatureGen, self).__init__()\n",
    "        self.data = data\n",
    "        self.batch_size = batch_size\n",
    "        self.verbose = verbose\n",
    "        if self.verbose > 0: self.progress = tqdm(total=len(self), desc='Features')\n",
    "\n",
    "    def __getitem__(self, index):\n",
    "        start = self.batch_size * index\n",
    "        size = min(len(self.data) - start, self.batch_size)\n",
    "        a = np.zeros((size,) + img_shape, dtype=K.floatx())\n",
    "        for i in range(size): a[i, :, :, :] = read_for_validation(self.data[start + i])\n",
    "        if self.verbose > 0:\n",
    "            self.progress.update()\n",
    "            if self.progress.n >= len(self): self.progress.close()\n",
    "        return a\n",
    "\n",
    "    def __len__(self):\n",
    "        return (len(self.data) + self.batch_size - 1) // self.batch_size\n",
    "\n",
    "\n",
    "class ScoreGen(Sequence):\n",
    "    def __init__(self, x, y=None, batch_size=2048, verbose=1):\n",
    "        super(ScoreGen, self).__init__()\n",
    "        self.x = x\n",
    "        self.y = y\n",
    "        self.batch_size = batch_size\n",
    "        self.verbose = verbose\n",
    "        if y is None:\n",
    "            self.y = self.x\n",
    "            self.ix, self.iy = np.triu_indices(x.shape[0], 1)\n",
    "        else:\n",
    "            self.iy, self.ix = np.indices((y.shape[0], x.shape[0]))\n",
    "            self.ix = self.ix.reshape((self.ix.size,))\n",
    "            self.iy = self.iy.reshape((self.iy.size,))\n",
    "        self.subbatch = (len(self.x) + self.batch_size - 1) // self.batch_size\n",
    "        if self.verbose > 0:\n",
    "            self.progress = tqdm(total=len(self), desc='Scores')\n",
    "\n",
    "    def __getitem__(self, index):\n",
    "        start = index * self.batch_size\n",
    "        end = min(start + self.batch_size, len(self.ix))\n",
    "        a = self.y[self.iy[start:end], :]\n",
    "        b = self.x[self.ix[start:end], :]\n",
    "        if self.verbose > 0:\n",
    "            self.progress.update()\n",
    "            if self.progress.n >= len(self): self.progress.close()\n",
    "        return [a, b]\n",
    "\n",
    "    def __len__(self):\n",
    "        return (len(self.ix) + self.batch_size - 1) // self.batch_size\n"
   ]
  },
  {
   "cell_type": "code",
   "execution_count": 21,
   "metadata": {
    "_uuid": "7ac5f82779a71cca2bc2cd1bac8bac385cb48a23"
   },
   "outputs": [],
   "source": [
    "def set_lr(model, lr):\n",
    "    K.set_value(model.optimizer.lr, float(lr))\n",
    "\n",
    "def get_lr(model):\n",
    "    return K.get_value(model.optimizer.lr)\n",
    "\n",
    "\n",
    "def score_reshape(score, x, y=None):\n",
    "    \"\"\"\n",
    "    Tranformed the packed matrix 'score' into a square matrix.\n",
    "    @param score the packed matrix\n",
    "    @param x the first image feature tensor\n",
    "    @param y the second image feature tensor if different from x\n",
    "    @result the square matrix\n",
    "    \"\"\"\n",
    "    if y is None:\n",
    "        # When y is None, score is a packed upper triangular matrix.\n",
    "        # Unpack, and transpose to form the symmetrical lower triangular matrix.\n",
    "        m = np.zeros((x.shape[0], x.shape[0]), dtype=K.floatx())\n",
    "        m[np.triu_indices(x.shape[0], 1)] = score.squeeze()\n",
    "        m += m.transpose()\n",
    "    else:\n",
    "        m = np.zeros((y.shape[0], x.shape[0]), dtype=K.floatx())\n",
    "        iy, ix = np.indices((y.shape[0], x.shape[0]))\n",
    "        ix = ix.reshape((ix.size,))\n",
    "        iy = iy.reshape((iy.size,))\n",
    "        m[iy, ix] = score.squeeze()\n",
    "    return m\n",
    "\n",
    "\n",
    "def compute_score(verbose=1):\n",
    "    \"\"\"\n",
    "    Compute the score matrix by scoring every pictures from the training set against every other picture O(n^2).\n",
    "    \"\"\"\n",
    "    features = branch_model.predict_generator(FeatureGen(train, verbose=verbose), max_queue_size=12, workers=6,\n",
    "                                              verbose=0)\n",
    "    score = head_model.predict_generator(ScoreGen(features, verbose=verbose), max_queue_size=12, workers=6, verbose=0)\n",
    "    score = score_reshape(score, features)\n",
    "    return features, score\n",
    "\n",
    "def make_steps(step, ampl):\n",
    "    \"\"\"\n",
    "    Perform training epochs\n",
    "    @param step Number of epochs to perform\n",
    "    @param ampl the K, the randomized component of the score matrix.\n",
    "    \"\"\"\n",
    "    global w2ts, t2i, steps, features, score, histories\n",
    "\n",
    "    # shuffle the training pictures\n",
    "    random.shuffle(train)\n",
    "\n",
    "    # Map whale id to the list of associated training picture hash value\n",
    "    w2ts = {}\n",
    "    for w, hs in w2hs.items():\n",
    "        for h in hs:\n",
    "            if h in train_set:\n",
    "                if w not in w2ts: w2ts[w] = []\n",
    "                if h not in w2ts[w]: w2ts[w].append(h)\n",
    "    for w, ts in w2ts.items(): w2ts[w] = np.array(ts)\n",
    "\n",
    "    # Map training picture hash value to index in 'train' array    \n",
    "    t2i = {}\n",
    "    for i, t in enumerate(train): t2i[t] = i\n",
    "\n",
    "    # Compute the match score for each picture pair\n",
    "    features, score = compute_score()\n",
    "    \n",
    "    # Train the model for 'step' epochs\n",
    "    history = model.fit_generator(\n",
    "        TrainingData(score + ampl * np.random.random_sample(size=score.shape), steps=step, batch_size=16),\n",
    "        initial_epoch=steps, epochs=steps + step, max_queue_size=12, workers=6, verbose=2).history\n",
    "    steps += step\n",
    "\n",
    "    # Collect history data\n",
    "    history['epochs'] = steps\n",
    "    history['ms'] = np.mean(score)\n",
    "    history['lr'] = get_lr(model)\n",
    "    print(history['epochs'], history['lr'], history['ms'])\n",
    "    histories.append(history)"
   ]
  },
  {
   "cell_type": "code",
   "execution_count": 46,
   "metadata": {},
   "outputs": [
    {
     "data": {
      "text/plain": [
       "71"
      ]
     },
     "execution_count": 46,
     "metadata": {},
     "output_type": "execute_result"
    }
   ],
   "source": [
    "gc.collect()"
   ]
  },
  {
   "cell_type": "code",
   "execution_count": 48,
   "metadata": {},
   "outputs": [],
   "source": [
    "#model.load_weights(\"/Users/JoonH/models/martin-piotte-v3epoch210.hdf5\", by_name = True)"
   ]
  },
  {
   "cell_type": "code",
   "execution_count": 47,
   "metadata": {
    "_uuid": "87091f9dcd5a0d11dc255d427abd42cb6ba7506e",
    "scrolled": true
   },
   "outputs": [
    {
     "data": {
      "application/vnd.jupyter.widget-view+json": {
       "model_id": "be5a84938ca84e57bcd01ca91a05edc7",
       "version_major": 2,
       "version_minor": 0
      },
      "text/plain": [
       "HBox(children=(IntProgress(value=0, description='Features', max=852, style=ProgressStyle(description_width='in…"
      ]
     },
     "metadata": {},
     "output_type": "display_data"
    },
    {
     "name": "stdout",
     "output_type": "stream",
     "text": [
      "\n"
     ]
    },
    {
     "data": {
      "application/vnd.jupyter.widget-view+json": {
       "model_id": "82632d7449e346be8ebccf244d740381",
       "version_major": 2,
       "version_minor": 0
      },
      "text/plain": [
       "HBox(children=(IntProgress(value=0, description='Scores', max=45306, style=ProgressStyle(description_width='in…"
      ]
     },
     "metadata": {},
     "output_type": "display_data"
    },
    {
     "name": "stdout",
     "output_type": "stream",
     "text": [
      "\n",
      "Epoch 1/10\n",
      " - 1376s - loss: 0.5796 - binary_crossentropy: 0.5796 - acc: 0.6815\n",
      "Epoch 2/10\n",
      " - 1326s - loss: 0.4902 - binary_crossentropy: 0.4902 - acc: 0.7604\n",
      "Epoch 3/10\n",
      " - 1326s - loss: 0.4506 - binary_crossentropy: 0.4506 - acc: 0.7877\n",
      "Epoch 4/10\n",
      " - 1326s - loss: 0.4221 - binary_crossentropy: 0.4221 - acc: 0.8068\n",
      "Epoch 5/10\n",
      " - 1326s - loss: 0.3963 - binary_crossentropy: 0.3963 - acc: 0.8231\n",
      "Epoch 6/10\n",
      " - 1326s - loss: 0.3731 - binary_crossentropy: 0.3731 - acc: 0.8305\n",
      "Epoch 7/10\n",
      " - 1326s - loss: 0.3492 - binary_crossentropy: 0.3492 - acc: 0.8478\n",
      "Epoch 8/10\n",
      " - 1327s - loss: 0.3329 - binary_crossentropy: 0.3329 - acc: 0.8547\n",
      "Epoch 9/10\n",
      " - 1326s - loss: 0.3192 - binary_crossentropy: 0.3192 - acc: 0.8633\n",
      "Epoch 10/10\n",
      " - 1327s - loss: 0.3142 - binary_crossentropy: 0.3142 - acc: 0.8653\n",
      "10 0.00064 0.4990483\n"
     ]
    },
    {
     "data": {
      "application/vnd.jupyter.widget-view+json": {
       "model_id": "35b2af1f686745519f1086639caa4e2c",
       "version_major": 2,
       "version_minor": 0
      },
      "text/plain": [
       "HBox(children=(IntProgress(value=0, description='Features', max=852, style=ProgressStyle(description_width='in…"
      ]
     },
     "metadata": {},
     "output_type": "display_data"
    },
    {
     "name": "stdout",
     "output_type": "stream",
     "text": [
      "\n"
     ]
    },
    {
     "data": {
      "application/vnd.jupyter.widget-view+json": {
       "model_id": "f2f38106e36040d08b03f71919b13301",
       "version_major": 2,
       "version_minor": 0
      },
      "text/plain": [
       "HBox(children=(IntProgress(value=0, description='Scores', max=45306, style=ProgressStyle(description_width='in…"
      ]
     },
     "metadata": {},
     "output_type": "display_data"
    },
    {
     "name": "stdout",
     "output_type": "stream",
     "text": [
      "\n",
      "Epoch 11/15\n",
      " - 1326s - loss: 0.3011 - binary_crossentropy: 0.3011 - acc: 0.8726\n",
      "Epoch 12/15\n",
      " - 1328s - loss: 0.2897 - binary_crossentropy: 0.2897 - acc: 0.8783\n",
      "Epoch 13/15\n",
      " - 1327s - loss: 0.2791 - binary_crossentropy: 0.2791 - acc: 0.8850\n",
      "Epoch 14/15\n",
      " - 1327s - loss: 0.2751 - binary_crossentropy: 0.2751 - acc: 0.8855\n",
      "Epoch 15/15\n",
      " - 1327s - loss: 0.2710 - binary_crossentropy: 0.2710 - acc: 0.8840\n",
      "15 0.00064 0.9833429\n"
     ]
    },
    {
     "data": {
      "application/vnd.jupyter.widget-view+json": {
       "model_id": "34bead190557468d8e9068253fcecf3a",
       "version_major": 2,
       "version_minor": 0
      },
      "text/plain": [
       "HBox(children=(IntProgress(value=0, description='Features', max=852, style=ProgressStyle(description_width='in…"
      ]
     },
     "metadata": {},
     "output_type": "display_data"
    },
    {
     "name": "stdout",
     "output_type": "stream",
     "text": [
      "\n"
     ]
    },
    {
     "data": {
      "application/vnd.jupyter.widget-view+json": {
       "model_id": "3e70cb1492034686b00f3ec74549e7dc",
       "version_major": 2,
       "version_minor": 0
      },
      "text/plain": [
       "HBox(children=(IntProgress(value=0, description='Scores', max=45306, style=ProgressStyle(description_width='in…"
      ]
     },
     "metadata": {},
     "output_type": "display_data"
    },
    {
     "name": "stdout",
     "output_type": "stream",
     "text": [
      "\n",
      "Epoch 16/20\n",
      " - 1326s - loss: 0.2622 - binary_crossentropy: 0.2622 - acc: 0.8901\n",
      "Epoch 17/20\n",
      " - 1328s - loss: 0.2591 - binary_crossentropy: 0.2591 - acc: 0.8930\n",
      "Epoch 18/20\n",
      " - 1327s - loss: 0.2480 - binary_crossentropy: 0.2480 - acc: 0.8968\n",
      "Epoch 19/20\n",
      " - 1328s - loss: 0.2414 - binary_crossentropy: 0.2414 - acc: 0.9019\n",
      "Epoch 20/20\n",
      " - 1328s - loss: 0.2339 - binary_crossentropy: 0.2339 - acc: 0.9031\n",
      "20 0.00064 0.9881846\n"
     ]
    },
    {
     "data": {
      "application/vnd.jupyter.widget-view+json": {
       "model_id": "325549d1722944db825a836ec6799da0",
       "version_major": 2,
       "version_minor": 0
      },
      "text/plain": [
       "HBox(children=(IntProgress(value=0, description='Features', max=852, style=ProgressStyle(description_width='in…"
      ]
     },
     "metadata": {},
     "output_type": "display_data"
    },
    {
     "name": "stdout",
     "output_type": "stream",
     "text": [
      "\n"
     ]
    },
    {
     "data": {
      "application/vnd.jupyter.widget-view+json": {
       "model_id": "06b3fcd2db1044dfa487526175a10311",
       "version_major": 2,
       "version_minor": 0
      },
      "text/plain": [
       "HBox(children=(IntProgress(value=0, description='Scores', max=45306, style=ProgressStyle(description_width='in…"
      ]
     },
     "metadata": {},
     "output_type": "display_data"
    },
    {
     "name": "stdout",
     "output_type": "stream",
     "text": [
      "\n",
      "Epoch 21/25\n",
      " - 1331s - loss: 0.2391 - binary_crossentropy: 0.2391 - acc: 0.9008\n",
      "Epoch 22/25\n",
      " - 1334s - loss: 0.2291 - binary_crossentropy: 0.2291 - acc: 0.9058\n",
      "Epoch 23/25\n",
      " - 1334s - loss: 0.2226 - binary_crossentropy: 0.2226 - acc: 0.9075\n",
      "Epoch 24/25\n",
      " - 1334s - loss: 0.2193 - binary_crossentropy: 0.2193 - acc: 0.9118\n",
      "Epoch 25/25\n",
      " - 1334s - loss: 0.2144 - binary_crossentropy: 0.2144 - acc: 0.9120\n",
      "25 0.00064 0.9978457\n"
     ]
    },
    {
     "data": {
      "application/vnd.jupyter.widget-view+json": {
       "model_id": "cd24cd5add4648d7926e1a83f0764cbd",
       "version_major": 2,
       "version_minor": 0
      },
      "text/plain": [
       "HBox(children=(IntProgress(value=0, description='Features', max=852, style=ProgressStyle(description_width='in…"
      ]
     },
     "metadata": {},
     "output_type": "display_data"
    },
    {
     "name": "stdout",
     "output_type": "stream",
     "text": [
      "\n"
     ]
    },
    {
     "data": {
      "application/vnd.jupyter.widget-view+json": {
       "model_id": "0b2874a5a1da4365b53b02f687ca51e5",
       "version_major": 2,
       "version_minor": 0
      },
      "text/plain": [
       "HBox(children=(IntProgress(value=0, description='Scores', max=45306, style=ProgressStyle(description_width='in…"
      ]
     },
     "metadata": {},
     "output_type": "display_data"
    },
    {
     "name": "stdout",
     "output_type": "stream",
     "text": [
      "\n",
      "Epoch 26/30\n",
      " - 1333s - loss: 0.2191 - binary_crossentropy: 0.2191 - acc: 0.9110\n",
      "Epoch 27/30\n",
      " - 1334s - loss: 0.2065 - binary_crossentropy: 0.2065 - acc: 0.9155\n",
      "Epoch 28/30\n",
      " - 1334s - loss: 0.2048 - binary_crossentropy: 0.2048 - acc: 0.9165\n",
      "Epoch 29/30\n",
      " - 1334s - loss: 0.2002 - binary_crossentropy: 0.2002 - acc: 0.9179\n",
      "Epoch 30/30\n",
      " - 1334s - loss: 0.1955 - binary_crossentropy: 0.1955 - acc: 0.9206\n",
      "30 0.00064 0.99811924\n"
     ]
    },
    {
     "data": {
      "application/vnd.jupyter.widget-view+json": {
       "model_id": "70bf5ac2d24c4fd59d47e0b23824e2b0",
       "version_major": 2,
       "version_minor": 0
      },
      "text/plain": [
       "HBox(children=(IntProgress(value=0, description='Features', max=852, style=ProgressStyle(description_width='in…"
      ]
     },
     "metadata": {},
     "output_type": "display_data"
    },
    {
     "name": "stdout",
     "output_type": "stream",
     "text": [
      "\n"
     ]
    },
    {
     "data": {
      "application/vnd.jupyter.widget-view+json": {
       "model_id": "0e12a1a4f2eb44d59f9758beb00bf35a",
       "version_major": 2,
       "version_minor": 0
      },
      "text/plain": [
       "HBox(children=(IntProgress(value=0, description='Scores', max=45306, style=ProgressStyle(description_width='in…"
      ]
     },
     "metadata": {},
     "output_type": "display_data"
    },
    {
     "name": "stdout",
     "output_type": "stream",
     "text": [
      "\n",
      "Epoch 31/35\n",
      " - 1332s - loss: 0.2010 - binary_crossentropy: 0.2010 - acc: 0.9190\n",
      "Epoch 32/35\n",
      " - 1332s - loss: 0.1908 - binary_crossentropy: 0.1908 - acc: 0.9219\n",
      "Epoch 33/35\n",
      " - 1332s - loss: 0.1866 - binary_crossentropy: 0.1866 - acc: 0.9257\n",
      "Epoch 34/35\n",
      " - 1331s - loss: 0.1834 - binary_crossentropy: 0.1834 - acc: 0.9267\n",
      "Epoch 35/35\n",
      " - 1332s - loss: 0.1791 - binary_crossentropy: 0.1791 - acc: 0.9280\n",
      "35 0.00064 0.9986505\n"
     ]
    },
    {
     "data": {
      "application/vnd.jupyter.widget-view+json": {
       "model_id": "c4ce8f464bd84238aec536f6c7f3747f",
       "version_major": 2,
       "version_minor": 0
      },
      "text/plain": [
       "HBox(children=(IntProgress(value=0, description='Features', max=852, style=ProgressStyle(description_width='in…"
      ]
     },
     "metadata": {},
     "output_type": "display_data"
    },
    {
     "name": "stdout",
     "output_type": "stream",
     "text": [
      "\n"
     ]
    },
    {
     "data": {
      "application/vnd.jupyter.widget-view+json": {
       "model_id": "bac43e9e04d043c88584606d33fbf485",
       "version_major": 2,
       "version_minor": 0
      },
      "text/plain": [
       "HBox(children=(IntProgress(value=0, description='Scores', max=45306, style=ProgressStyle(description_width='in…"
      ]
     },
     "metadata": {},
     "output_type": "display_data"
    },
    {
     "name": "stdout",
     "output_type": "stream",
     "text": [
      "\n",
      "Epoch 36/40\n",
      " - 1328s - loss: 0.1870 - binary_crossentropy: 0.1870 - acc: 0.9245\n",
      "Epoch 37/40\n",
      " - 1332s - loss: 0.1823 - binary_crossentropy: 0.1823 - acc: 0.9278\n",
      "Epoch 38/40\n",
      " - 1332s - loss: 0.1738 - binary_crossentropy: 0.1738 - acc: 0.9310\n",
      "Epoch 39/40\n",
      " - 1332s - loss: 0.1726 - binary_crossentropy: 0.1726 - acc: 0.9313\n",
      "Epoch 40/40\n",
      " - 1332s - loss: 0.1688 - binary_crossentropy: 0.1688 - acc: 0.9332\n",
      "40 0.00064 0.99864525\n"
     ]
    },
    {
     "data": {
      "application/vnd.jupyter.widget-view+json": {
       "model_id": "bdd785af13114deca510e0dfec5f77d7",
       "version_major": 2,
       "version_minor": 0
      },
      "text/plain": [
       "HBox(children=(IntProgress(value=0, description='Features', max=852, style=ProgressStyle(description_width='in…"
      ]
     },
     "metadata": {},
     "output_type": "display_data"
    },
    {
     "name": "stdout",
     "output_type": "stream",
     "text": [
      "\n"
     ]
    },
    {
     "data": {
      "application/vnd.jupyter.widget-view+json": {
       "model_id": "64d649302dc247c5ab183e62345dd844",
       "version_major": 2,
       "version_minor": 0
      },
      "text/plain": [
       "HBox(children=(IntProgress(value=0, description='Scores', max=45306, style=ProgressStyle(description_width='in…"
      ]
     },
     "metadata": {},
     "output_type": "display_data"
    },
    {
     "name": "stdout",
     "output_type": "stream",
     "text": [
      "\n",
      "Epoch 41/45\n",
      " - 1326s - loss: 0.1764 - binary_crossentropy: 0.1764 - acc: 0.9288\n",
      "Epoch 42/45\n",
      " - 1327s - loss: 0.1676 - binary_crossentropy: 0.1676 - acc: 0.9326\n",
      "Epoch 43/45\n",
      " - 1328s - loss: 0.1616 - binary_crossentropy: 0.1616 - acc: 0.9358\n",
      "Epoch 44/45\n",
      " - 1328s - loss: 0.1515 - binary_crossentropy: 0.1515 - acc: 0.9404\n",
      "Epoch 45/45\n",
      " - 1328s - loss: 0.1531 - binary_crossentropy: 0.1531 - acc: 0.9394\n",
      "45 0.00064 0.9994466\n"
     ]
    },
    {
     "data": {
      "application/vnd.jupyter.widget-view+json": {
       "model_id": "a04cf2ffdf5e4af98a2fb688d99f128a",
       "version_major": 2,
       "version_minor": 0
      },
      "text/plain": [
       "HBox(children=(IntProgress(value=0, description='Features', max=852, style=ProgressStyle(description_width='in…"
      ]
     },
     "metadata": {},
     "output_type": "display_data"
    },
    {
     "name": "stdout",
     "output_type": "stream",
     "text": [
      "\n"
     ]
    },
    {
     "data": {
      "application/vnd.jupyter.widget-view+json": {
       "model_id": "91046d5349c749a9a521a4d4f2a67e47",
       "version_major": 2,
       "version_minor": 0
      },
      "text/plain": [
       "HBox(children=(IntProgress(value=0, description='Scores', max=45306, style=ProgressStyle(description_width='in…"
      ]
     },
     "metadata": {},
     "output_type": "display_data"
    },
    {
     "name": "stdout",
     "output_type": "stream",
     "text": [
      "\n",
      "Epoch 46/50\n",
      " - 1327s - loss: 0.1692 - binary_crossentropy: 0.1692 - acc: 0.9331\n",
      "Epoch 47/50\n",
      " - 1328s - loss: 0.1559 - binary_crossentropy: 0.1559 - acc: 0.9363\n",
      "Epoch 48/50\n",
      " - 1327s - loss: 0.1536 - binary_crossentropy: 0.1536 - acc: 0.9390\n",
      "Epoch 49/50\n",
      " - 1333s - loss: 0.1519 - binary_crossentropy: 0.1519 - acc: 0.9404\n",
      "Epoch 50/50\n",
      " - 1334s - loss: 0.1469 - binary_crossentropy: 0.1469 - acc: 0.9428\n",
      "50 0.00064 0.9996254\n"
     ]
    },
    {
     "data": {
      "application/vnd.jupyter.widget-view+json": {
       "model_id": "03e85af13a594c6f8adb0103c66ba532",
       "version_major": 2,
       "version_minor": 0
      },
      "text/plain": [
       "HBox(children=(IntProgress(value=0, description='Features', max=852, style=ProgressStyle(description_width='in…"
      ]
     },
     "metadata": {},
     "output_type": "display_data"
    },
    {
     "name": "stdout",
     "output_type": "stream",
     "text": [
      "\n"
     ]
    },
    {
     "data": {
      "application/vnd.jupyter.widget-view+json": {
       "model_id": "9982dbc57a48493f8b3c61472e2e5bde",
       "version_major": 2,
       "version_minor": 0
      },
      "text/plain": [
       "HBox(children=(IntProgress(value=0, description='Scores', max=45306, style=ProgressStyle(description_width='in…"
      ]
     },
     "metadata": {},
     "output_type": "display_data"
    },
    {
     "name": "stdout",
     "output_type": "stream",
     "text": [
      "\n",
      "Epoch 51/55\n",
      " - 1331s - loss: 0.1497 - binary_crossentropy: 0.1497 - acc: 0.9409\n",
      "Epoch 52/55\n",
      " - 1331s - loss: 0.1480 - binary_crossentropy: 0.1480 - acc: 0.9429\n",
      "Epoch 53/55\n",
      " - 1332s - loss: 0.1469 - binary_crossentropy: 0.1469 - acc: 0.9414\n",
      "Epoch 54/55\n",
      " - 1332s - loss: 0.1390 - binary_crossentropy: 0.1390 - acc: 0.9434\n",
      "Epoch 55/55\n",
      " - 1333s - loss: 0.1361 - binary_crossentropy: 0.1361 - acc: 0.9481\n",
      "55 0.00064 0.9998417\n"
     ]
    },
    {
     "data": {
      "application/vnd.jupyter.widget-view+json": {
       "model_id": "58846b73eee644858bfc329431ae473e",
       "version_major": 2,
       "version_minor": 0
      },
      "text/plain": [
       "HBox(children=(IntProgress(value=0, description='Features', max=852, style=ProgressStyle(description_width='in…"
      ]
     },
     "metadata": {},
     "output_type": "display_data"
    },
    {
     "name": "stdout",
     "output_type": "stream",
     "text": [
      "\n"
     ]
    },
    {
     "data": {
      "application/vnd.jupyter.widget-view+json": {
       "model_id": "5adae991716349a7b9a1eca95cad3010",
       "version_major": 2,
       "version_minor": 0
      },
      "text/plain": [
       "HBox(children=(IntProgress(value=0, description='Scores', max=45306, style=ProgressStyle(description_width='in…"
      ]
     },
     "metadata": {},
     "output_type": "display_data"
    },
    {
     "name": "stdout",
     "output_type": "stream",
     "text": [
      "\n",
      "Epoch 56/60\n",
      " - 1331s - loss: 0.1462 - binary_crossentropy: 0.1462 - acc: 0.9436\n",
      "Epoch 57/60\n",
      " - 1331s - loss: 0.1373 - binary_crossentropy: 0.1373 - acc: 0.9455\n",
      "Epoch 58/60\n",
      " - 1330s - loss: 0.1315 - binary_crossentropy: 0.1315 - acc: 0.9478\n",
      "Epoch 59/60\n",
      " - 1330s - loss: 0.1276 - binary_crossentropy: 0.1276 - acc: 0.9495\n",
      "Epoch 60/60\n",
      " - 1331s - loss: 0.1269 - binary_crossentropy: 0.1269 - acc: 0.9517\n",
      "60 0.00064 0.9998981\n"
     ]
    },
    {
     "data": {
      "application/vnd.jupyter.widget-view+json": {
       "model_id": "a6b938ae3fcb4fc09b8179ff8437cc8e",
       "version_major": 2,
       "version_minor": 0
      },
      "text/plain": [
       "HBox(children=(IntProgress(value=0, description='Features', max=852, style=ProgressStyle(description_width='in…"
      ]
     },
     "metadata": {},
     "output_type": "display_data"
    },
    {
     "name": "stdout",
     "output_type": "stream",
     "text": [
      "\n"
     ]
    },
    {
     "data": {
      "application/vnd.jupyter.widget-view+json": {
       "model_id": "6409b9d27af44ed9a7e3aaa946a9294a",
       "version_major": 2,
       "version_minor": 0
      },
      "text/plain": [
       "HBox(children=(IntProgress(value=0, description='Scores', max=45306, style=ProgressStyle(description_width='in…"
      ]
     },
     "metadata": {},
     "output_type": "display_data"
    },
    {
     "name": "stdout",
     "output_type": "stream",
     "text": [
      "\n",
      "Epoch 61/65\n",
      " - 1324s - loss: 0.1370 - binary_crossentropy: 0.1370 - acc: 0.9461\n",
      "Epoch 62/65\n",
      " - 1326s - loss: 0.1326 - binary_crossentropy: 0.1326 - acc: 0.9476\n",
      "Epoch 63/65\n",
      " - 1326s - loss: 0.1248 - binary_crossentropy: 0.1248 - acc: 0.9517\n",
      "Epoch 64/65\n",
      " - 1326s - loss: 0.1223 - binary_crossentropy: 0.1223 - acc: 0.9526\n",
      "Epoch 65/65\n",
      " - 1327s - loss: 0.1195 - binary_crossentropy: 0.1195 - acc: 0.9542\n",
      "65 0.00064 0.99989885\n"
     ]
    },
    {
     "data": {
      "application/vnd.jupyter.widget-view+json": {
       "model_id": "5e73ddf54ed3481fa1394ff6a122d065",
       "version_major": 2,
       "version_minor": 0
      },
      "text/plain": [
       "HBox(children=(IntProgress(value=0, description='Features', max=852, style=ProgressStyle(description_width='in…"
      ]
     },
     "metadata": {},
     "output_type": "display_data"
    },
    {
     "name": "stdout",
     "output_type": "stream",
     "text": [
      "\n"
     ]
    },
    {
     "data": {
      "application/vnd.jupyter.widget-view+json": {
       "model_id": "01981c57ae6f4b35a385d46bdb6a2947",
       "version_major": 2,
       "version_minor": 0
      },
      "text/plain": [
       "HBox(children=(IntProgress(value=0, description='Scores', max=45306, style=ProgressStyle(description_width='in…"
      ]
     },
     "metadata": {},
     "output_type": "display_data"
    },
    {
     "name": "stdout",
     "output_type": "stream",
     "text": [
      "\n",
      "Epoch 66/70\n",
      " - 1326s - loss: 0.1260 - binary_crossentropy: 0.1260 - acc: 0.9520\n",
      "Epoch 67/70\n",
      " - 1327s - loss: 0.1223 - binary_crossentropy: 0.1223 - acc: 0.9544\n",
      "Epoch 68/70\n",
      " - 1328s - loss: 0.1220 - binary_crossentropy: 0.1220 - acc: 0.9528\n",
      "Epoch 69/70\n",
      " - 1330s - loss: 0.1182 - binary_crossentropy: 0.1182 - acc: 0.9542\n",
      "Epoch 70/70\n",
      " - 1333s - loss: 0.1192 - binary_crossentropy: 0.1192 - acc: 0.9533\n",
      "70 0.00064 0.9999795\n"
     ]
    },
    {
     "data": {
      "application/vnd.jupyter.widget-view+json": {
       "model_id": "d00ab978092b4bee911ae6e1480d2df1",
       "version_major": 2,
       "version_minor": 0
      },
      "text/plain": [
       "HBox(children=(IntProgress(value=0, description='Features', max=852, style=ProgressStyle(description_width='in…"
      ]
     },
     "metadata": {},
     "output_type": "display_data"
    },
    {
     "name": "stdout",
     "output_type": "stream",
     "text": [
      "\n"
     ]
    },
    {
     "data": {
      "application/vnd.jupyter.widget-view+json": {
       "model_id": "eb344ea350524380bc0ca022d97eba8a",
       "version_major": 2,
       "version_minor": 0
      },
      "text/plain": [
       "HBox(children=(IntProgress(value=0, description='Scores', max=45306, style=ProgressStyle(description_width='in…"
      ]
     },
     "metadata": {},
     "output_type": "display_data"
    },
    {
     "name": "stdout",
     "output_type": "stream",
     "text": [
      "\n",
      "Epoch 71/75\n",
      " - 1330s - loss: 0.1208 - binary_crossentropy: 0.1208 - acc: 0.9529\n",
      "Epoch 72/75\n",
      " - 1331s - loss: 0.1154 - binary_crossentropy: 0.1154 - acc: 0.9564\n",
      "Epoch 73/75\n",
      " - 1332s - loss: 0.1134 - binary_crossentropy: 0.1134 - acc: 0.9570\n",
      "Epoch 74/75\n",
      " - 1331s - loss: 0.1095 - binary_crossentropy: 0.1095 - acc: 0.9583\n",
      "Epoch 75/75\n",
      " - 1332s - loss: 0.1045 - binary_crossentropy: 0.1045 - acc: 0.9611\n",
      "75 0.00064 0.9998448\n"
     ]
    },
    {
     "data": {
      "application/vnd.jupyter.widget-view+json": {
       "model_id": "806dd5e0c1fd4f779e95fa6da53911e0",
       "version_major": 2,
       "version_minor": 0
      },
      "text/plain": [
       "HBox(children=(IntProgress(value=0, description='Features', max=852, style=ProgressStyle(description_width='in…"
      ]
     },
     "metadata": {},
     "output_type": "display_data"
    },
    {
     "name": "stdout",
     "output_type": "stream",
     "text": [
      "\n"
     ]
    },
    {
     "data": {
      "application/vnd.jupyter.widget-view+json": {
       "model_id": "b40dd51e45c7468b8b9528ac4e851793",
       "version_major": 2,
       "version_minor": 0
      },
      "text/plain": [
       "HBox(children=(IntProgress(value=0, description='Scores', max=45306, style=ProgressStyle(description_width='in…"
      ]
     },
     "metadata": {},
     "output_type": "display_data"
    },
    {
     "name": "stdout",
     "output_type": "stream",
     "text": [
      "\n",
      "Epoch 76/80\n",
      " - 1330s - loss: 0.1119 - binary_crossentropy: 0.1119 - acc: 0.9558\n",
      "Epoch 77/80\n",
      " - 1332s - loss: 0.1105 - binary_crossentropy: 0.1105 - acc: 0.9578\n",
      "Epoch 78/80\n",
      " - 1332s - loss: 0.1058 - binary_crossentropy: 0.1058 - acc: 0.9598\n",
      "Epoch 79/80\n",
      " - 1332s - loss: 0.1031 - binary_crossentropy: 0.1031 - acc: 0.9601\n",
      "Epoch 80/80\n",
      " - 1333s - loss: 0.1031 - binary_crossentropy: 0.1031 - acc: 0.9606\n",
      "80 0.00064 0.99998\n"
     ]
    },
    {
     "data": {
      "application/vnd.jupyter.widget-view+json": {
       "model_id": "7b07f97178604dbc85b12b85d95a0b1e",
       "version_major": 2,
       "version_minor": 0
      },
      "text/plain": [
       "HBox(children=(IntProgress(value=0, description='Features', max=852, style=ProgressStyle(description_width='in…"
      ]
     },
     "metadata": {},
     "output_type": "display_data"
    },
    {
     "name": "stdout",
     "output_type": "stream",
     "text": [
      "\n"
     ]
    },
    {
     "data": {
      "application/vnd.jupyter.widget-view+json": {
       "model_id": "bfaf10cda97a48cb8f70fac55891d082",
       "version_major": 2,
       "version_minor": 0
      },
      "text/plain": [
       "HBox(children=(IntProgress(value=0, description='Scores', max=45306, style=ProgressStyle(description_width='in…"
      ]
     },
     "metadata": {},
     "output_type": "display_data"
    },
    {
     "name": "stdout",
     "output_type": "stream",
     "text": [
      "\n",
      "Epoch 81/85\n",
      " - 1333s - loss: 0.1112 - binary_crossentropy: 0.1112 - acc: 0.9567\n",
      "Epoch 82/85\n",
      " - 1334s - loss: 0.1057 - binary_crossentropy: 0.1057 - acc: 0.9601\n",
      "Epoch 83/85\n",
      " - 1334s - loss: 0.1036 - binary_crossentropy: 0.1036 - acc: 0.9613\n",
      "Epoch 84/85\n",
      " - 1333s - loss: 0.1021 - binary_crossentropy: 0.1021 - acc: 0.9614\n",
      "Epoch 85/85\n",
      " - 1333s - loss: 0.0948 - binary_crossentropy: 0.0948 - acc: 0.9640\n",
      "85 0.00064 0.9998996\n"
     ]
    },
    {
     "data": {
      "application/vnd.jupyter.widget-view+json": {
       "model_id": "a15010cd78ea4d0c9c33b9daf6d8fd7e",
       "version_major": 2,
       "version_minor": 0
      },
      "text/plain": [
       "HBox(children=(IntProgress(value=0, description='Features', max=852, style=ProgressStyle(description_width='in…"
      ]
     },
     "metadata": {},
     "output_type": "display_data"
    },
    {
     "name": "stdout",
     "output_type": "stream",
     "text": [
      "\n"
     ]
    },
    {
     "data": {
      "application/vnd.jupyter.widget-view+json": {
       "model_id": "70e0f12c9749412e976071be4820b9f6",
       "version_major": 2,
       "version_minor": 0
      },
      "text/plain": [
       "HBox(children=(IntProgress(value=0, description='Scores', max=45306, style=ProgressStyle(description_width='in…"
      ]
     },
     "metadata": {},
     "output_type": "display_data"
    },
    {
     "name": "stdout",
     "output_type": "stream",
     "text": [
      "\n",
      "Epoch 86/90\n",
      " - 1331s - loss: 0.1096 - binary_crossentropy: 0.1096 - acc: 0.9594\n",
      "Epoch 87/90\n",
      " - 1334s - loss: 0.1031 - binary_crossentropy: 0.1031 - acc: 0.9621\n",
      "Epoch 88/90\n",
      " - 1331s - loss: 0.1034 - binary_crossentropy: 0.1034 - acc: 0.9610\n",
      "Epoch 89/90\n",
      " - 1331s - loss: 0.0972 - binary_crossentropy: 0.0972 - acc: 0.9639\n",
      "Epoch 90/90\n",
      " - 1331s - loss: 0.0951 - binary_crossentropy: 0.0951 - acc: 0.9651\n",
      "90 0.00064 0.9999801\n"
     ]
    },
    {
     "data": {
      "application/vnd.jupyter.widget-view+json": {
       "model_id": "b25434c90ae64404bba6817ec8d7269e",
       "version_major": 2,
       "version_minor": 0
      },
      "text/plain": [
       "HBox(children=(IntProgress(value=0, description='Features', max=852, style=ProgressStyle(description_width='in…"
      ]
     },
     "metadata": {},
     "output_type": "display_data"
    },
    {
     "name": "stdout",
     "output_type": "stream",
     "text": [
      "\n"
     ]
    },
    {
     "data": {
      "application/vnd.jupyter.widget-view+json": {
       "model_id": "a6f863c37a134d798af3f93ff0625c94",
       "version_major": 2,
       "version_minor": 0
      },
      "text/plain": [
       "HBox(children=(IntProgress(value=0, description='Scores', max=45306, style=ProgressStyle(description_width='in…"
      ]
     },
     "metadata": {},
     "output_type": "display_data"
    },
    {
     "name": "stdout",
     "output_type": "stream",
     "text": [
      "\n",
      "Epoch 91/95\n",
      " - 1338s - loss: 0.1008 - binary_crossentropy: 0.1008 - acc: 0.9633\n",
      "Epoch 92/95\n",
      " - 1333s - loss: 0.1001 - binary_crossentropy: 0.1001 - acc: 0.9615\n",
      "Epoch 93/95\n",
      " - 1330s - loss: 0.0944 - binary_crossentropy: 0.0944 - acc: 0.9644\n",
      "Epoch 94/95\n",
      " - 1330s - loss: 0.0923 - binary_crossentropy: 0.0923 - acc: 0.9652\n",
      "Epoch 95/95\n",
      " - 1331s - loss: 0.0884 - binary_crossentropy: 0.0884 - acc: 0.9676\n",
      "95 0.00064 0.9999737\n"
     ]
    },
    {
     "data": {
      "application/vnd.jupyter.widget-view+json": {
       "model_id": "4b342c05163144aaa1fe71560c46d5c2",
       "version_major": 2,
       "version_minor": 0
      },
      "text/plain": [
       "HBox(children=(IntProgress(value=0, description='Features', max=852, style=ProgressStyle(description_width='in…"
      ]
     },
     "metadata": {},
     "output_type": "display_data"
    },
    {
     "name": "stdout",
     "output_type": "stream",
     "text": [
      "\n"
     ]
    },
    {
     "data": {
      "application/vnd.jupyter.widget-view+json": {
       "model_id": "0eca53c26b164c50802a7f69850df6c0",
       "version_major": 2,
       "version_minor": 0
      },
      "text/plain": [
       "HBox(children=(IntProgress(value=0, description='Scores', max=45306, style=ProgressStyle(description_width='in…"
      ]
     },
     "metadata": {},
     "output_type": "display_data"
    },
    {
     "name": "stdout",
     "output_type": "stream",
     "text": [
      "\n",
      "Epoch 96/100\n",
      " - 1332s - loss: 0.0990 - binary_crossentropy: 0.0990 - acc: 0.9645\n",
      "Epoch 97/100\n",
      " - 1337s - loss: 0.0913 - binary_crossentropy: 0.0913 - acc: 0.9655\n",
      "Epoch 98/100\n",
      " - 1333s - loss: 0.0927 - binary_crossentropy: 0.0927 - acc: 0.9650\n",
      "Epoch 99/100\n",
      " - 1333s - loss: 0.0916 - binary_crossentropy: 0.0916 - acc: 0.9651\n",
      "Epoch 100/100\n",
      " - 1333s - loss: 0.0896 - binary_crossentropy: 0.0896 - acc: 0.9659\n",
      "100 0.00064 0.9999801\n"
     ]
    },
    {
     "data": {
      "application/vnd.jupyter.widget-view+json": {
       "model_id": "0eea814d2fd04bfdba1c4b6c01a8cfc0",
       "version_major": 2,
       "version_minor": 0
      },
      "text/plain": [
       "HBox(children=(IntProgress(value=0, description='Features', max=852, style=ProgressStyle(description_width='in…"
      ]
     },
     "metadata": {},
     "output_type": "display_data"
    },
    {
     "name": "stdout",
     "output_type": "stream",
     "text": [
      "\n"
     ]
    },
    {
     "data": {
      "application/vnd.jupyter.widget-view+json": {
       "model_id": "21c64e39933a4f2e80ee66ac8c0daa5d",
       "version_major": 2,
       "version_minor": 0
      },
      "text/plain": [
       "HBox(children=(IntProgress(value=0, description='Scores', max=45306, style=ProgressStyle(description_width='in…"
      ]
     },
     "metadata": {},
     "output_type": "display_data"
    },
    {
     "name": "stdout",
     "output_type": "stream",
     "text": [
      "\n",
      "Epoch 101/105\n",
      " - 1331s - loss: 0.0954 - binary_crossentropy: 0.0954 - acc: 0.9645\n",
      "Epoch 102/105\n",
      " - 1331s - loss: 0.0905 - binary_crossentropy: 0.0905 - acc: 0.9659\n",
      "Epoch 103/105\n",
      " - 1331s - loss: 0.0880 - binary_crossentropy: 0.0880 - acc: 0.9677\n",
      "Epoch 104/105\n",
      " - 1331s - loss: 0.0833 - binary_crossentropy: 0.0833 - acc: 0.9694\n",
      "Epoch 105/105\n",
      " - 1331s - loss: 0.0828 - binary_crossentropy: 0.0828 - acc: 0.9703\n",
      "105 0.00064 0.9999703\n"
     ]
    },
    {
     "data": {
      "application/vnd.jupyter.widget-view+json": {
       "model_id": "ea0fd8e46d474b46a49272034b544e68",
       "version_major": 2,
       "version_minor": 0
      },
      "text/plain": [
       "HBox(children=(IntProgress(value=0, description='Features', max=852, style=ProgressStyle(description_width='in…"
      ]
     },
     "metadata": {},
     "output_type": "display_data"
    },
    {
     "name": "stdout",
     "output_type": "stream",
     "text": [
      "\n"
     ]
    },
    {
     "data": {
      "application/vnd.jupyter.widget-view+json": {
       "model_id": "5a7666ce412f4036a94119d452ebc6a9",
       "version_major": 2,
       "version_minor": 0
      },
      "text/plain": [
       "HBox(children=(IntProgress(value=0, description='Scores', max=45306, style=ProgressStyle(description_width='in…"
      ]
     },
     "metadata": {},
     "output_type": "display_data"
    },
    {
     "name": "stdout",
     "output_type": "stream",
     "text": [
      "\n",
      "Epoch 106/110\n",
      " - 1328s - loss: 0.0984 - binary_crossentropy: 0.0984 - acc: 0.9629\n",
      "Epoch 107/110\n",
      " - 1330s - loss: 0.0901 - binary_crossentropy: 0.0901 - acc: 0.9663\n",
      "Epoch 108/110\n",
      " - 1332s - loss: 0.0858 - binary_crossentropy: 0.0858 - acc: 0.9690\n",
      "Epoch 109/110\n",
      " - 1330s - loss: 0.0823 - binary_crossentropy: 0.0823 - acc: 0.9703\n",
      "Epoch 110/110\n",
      " - 1330s - loss: 0.0767 - binary_crossentropy: 0.0767 - acc: 0.9708\n",
      "110 0.00064 0.99998\n"
     ]
    },
    {
     "data": {
      "application/vnd.jupyter.widget-view+json": {
       "model_id": "7b566933cccc4335a6fe52ce229369c0",
       "version_major": 2,
       "version_minor": 0
      },
      "text/plain": [
       "HBox(children=(IntProgress(value=0, description='Features', max=852, style=ProgressStyle(description_width='in…"
      ]
     },
     "metadata": {},
     "output_type": "display_data"
    },
    {
     "name": "stdout",
     "output_type": "stream",
     "text": [
      "\n"
     ]
    },
    {
     "data": {
      "application/vnd.jupyter.widget-view+json": {
       "model_id": "f15fc4d05b5e46a8af46ffa4e86c8312",
       "version_major": 2,
       "version_minor": 0
      },
      "text/plain": [
       "HBox(children=(IntProgress(value=0, description='Scores', max=45306, style=ProgressStyle(description_width='in…"
      ]
     },
     "metadata": {},
     "output_type": "display_data"
    },
    {
     "name": "stdout",
     "output_type": "stream",
     "text": [
      "\n",
      "Epoch 111/115\n",
      " - 1325s - loss: 0.0906 - binary_crossentropy: 0.0906 - acc: 0.9668\n",
      "Epoch 112/115\n",
      " - 1325s - loss: 0.0880 - binary_crossentropy: 0.0880 - acc: 0.9683\n",
      "Epoch 113/115\n",
      " - 1324s - loss: 0.0849 - binary_crossentropy: 0.0849 - acc: 0.9684\n",
      "Epoch 114/115\n",
      " - 1325s - loss: 0.0843 - binary_crossentropy: 0.0843 - acc: 0.9701\n",
      "Epoch 115/115\n",
      " - 1326s - loss: 0.0801 - binary_crossentropy: 0.0801 - acc: 0.9705\n",
      "115 0.00064 0.9999795\n"
     ]
    },
    {
     "data": {
      "application/vnd.jupyter.widget-view+json": {
       "model_id": "55d1f3266b3e4771ba2922d03eb58fa7",
       "version_major": 2,
       "version_minor": 0
      },
      "text/plain": [
       "HBox(children=(IntProgress(value=0, description='Features', max=852, style=ProgressStyle(description_width='in…"
      ]
     },
     "metadata": {},
     "output_type": "display_data"
    },
    {
     "name": "stdout",
     "output_type": "stream",
     "text": [
      "\n"
     ]
    },
    {
     "data": {
      "application/vnd.jupyter.widget-view+json": {
       "model_id": "906034ee7e6f4f86abf365df6ec22708",
       "version_major": 2,
       "version_minor": 0
      },
      "text/plain": [
       "HBox(children=(IntProgress(value=0, description='Scores', max=45306, style=ProgressStyle(description_width='in…"
      ]
     },
     "metadata": {},
     "output_type": "display_data"
    },
    {
     "name": "stdout",
     "output_type": "stream",
     "text": [
      "\n",
      "Epoch 116/120\n",
      " - 1323s - loss: 0.0899 - binary_crossentropy: 0.0899 - acc: 0.9675\n",
      "Epoch 117/120\n",
      " - 1326s - loss: 0.0814 - binary_crossentropy: 0.0814 - acc: 0.9698\n",
      "Epoch 118/120\n",
      " - 1328s - loss: 0.0785 - binary_crossentropy: 0.0785 - acc: 0.9704\n",
      "Epoch 119/120\n",
      " - 1333s - loss: 0.0805 - binary_crossentropy: 0.0805 - acc: 0.9709\n",
      "Epoch 120/120\n",
      " - 1329s - loss: 0.0758 - binary_crossentropy: 0.0758 - acc: 0.9730\n",
      "120 0.00064 0.9999801\n"
     ]
    },
    {
     "data": {
      "application/vnd.jupyter.widget-view+json": {
       "model_id": "4b35bed8a4e744d7866a954cd3f23278",
       "version_major": 2,
       "version_minor": 0
      },
      "text/plain": [
       "HBox(children=(IntProgress(value=0, description='Features', max=852, style=ProgressStyle(description_width='in…"
      ]
     },
     "metadata": {},
     "output_type": "display_data"
    },
    {
     "name": "stdout",
     "output_type": "stream",
     "text": [
      "\n"
     ]
    },
    {
     "data": {
      "application/vnd.jupyter.widget-view+json": {
       "model_id": "9fcacf9ffa7f496cb58488b1b3666cca",
       "version_major": 2,
       "version_minor": 0
      },
      "text/plain": [
       "HBox(children=(IntProgress(value=0, description='Scores', max=45306, style=ProgressStyle(description_width='in…"
      ]
     },
     "metadata": {},
     "output_type": "display_data"
    },
    {
     "name": "stdout",
     "output_type": "stream",
     "text": [
      "\n",
      "Epoch 121/125\n",
      " - 1329s - loss: 0.0856 - binary_crossentropy: 0.0856 - acc: 0.9692\n",
      "Epoch 122/125\n",
      " - 1331s - loss: 0.0840 - binary_crossentropy: 0.0840 - acc: 0.9687\n",
      "Epoch 123/125\n",
      " - 1331s - loss: 0.0793 - binary_crossentropy: 0.0793 - acc: 0.9717\n",
      "Epoch 124/125\n",
      " - 1330s - loss: 0.0774 - binary_crossentropy: 0.0774 - acc: 0.9715\n",
      "Epoch 125/125\n",
      " - 1331s - loss: 0.0715 - binary_crossentropy: 0.0715 - acc: 0.9732\n",
      "125 0.00064 0.9999794\n"
     ]
    },
    {
     "data": {
      "application/vnd.jupyter.widget-view+json": {
       "model_id": "bbd88b5807e34cdfab066e4b0f8b8ea3",
       "version_major": 2,
       "version_minor": 0
      },
      "text/plain": [
       "HBox(children=(IntProgress(value=0, description='Features', max=852, style=ProgressStyle(description_width='in…"
      ]
     },
     "metadata": {},
     "output_type": "display_data"
    },
    {
     "name": "stdout",
     "output_type": "stream",
     "text": [
      "\n"
     ]
    },
    {
     "data": {
      "application/vnd.jupyter.widget-view+json": {
       "model_id": "e9043b866c7f462da1d547b2a090009f",
       "version_major": 2,
       "version_minor": 0
      },
      "text/plain": [
       "HBox(children=(IntProgress(value=0, description='Scores', max=45306, style=ProgressStyle(description_width='in…"
      ]
     },
     "metadata": {},
     "output_type": "display_data"
    },
    {
     "name": "stdout",
     "output_type": "stream",
     "text": [
      "\n",
      "Epoch 126/130\n",
      " - 1329s - loss: 0.0820 - binary_crossentropy: 0.0820 - acc: 0.9704\n",
      "Epoch 127/130\n",
      " - 1330s - loss: 0.0801 - binary_crossentropy: 0.0801 - acc: 0.9709\n",
      "Epoch 128/130\n",
      " - 1330s - loss: 0.0748 - binary_crossentropy: 0.0748 - acc: 0.9724\n",
      "Epoch 129/130\n",
      " - 1328s - loss: 0.0709 - binary_crossentropy: 0.0709 - acc: 0.9742\n",
      "Epoch 130/130\n",
      " - 1329s - loss: 0.0705 - binary_crossentropy: 0.0705 - acc: 0.9739\n",
      "130 0.00064 0.9999801\n"
     ]
    },
    {
     "data": {
      "application/vnd.jupyter.widget-view+json": {
       "model_id": "ce7bff5073f84d079c11c04b8e320041",
       "version_major": 2,
       "version_minor": 0
      },
      "text/plain": [
       "HBox(children=(IntProgress(value=0, description='Features', max=852, style=ProgressStyle(description_width='in…"
      ]
     },
     "metadata": {},
     "output_type": "display_data"
    },
    {
     "name": "stdout",
     "output_type": "stream",
     "text": [
      "\n"
     ]
    },
    {
     "data": {
      "application/vnd.jupyter.widget-view+json": {
       "model_id": "c65da42379db40b49babfc142518b8fe",
       "version_major": 2,
       "version_minor": 0
      },
      "text/plain": [
       "HBox(children=(IntProgress(value=0, description='Scores', max=45306, style=ProgressStyle(description_width='in…"
      ]
     },
     "metadata": {},
     "output_type": "display_data"
    },
    {
     "name": "stdout",
     "output_type": "stream",
     "text": [
      "\n",
      "Epoch 131/135\n",
      " - 1331s - loss: 0.0810 - binary_crossentropy: 0.0810 - acc: 0.9702\n",
      "Epoch 132/135\n",
      " - 1331s - loss: 0.0725 - binary_crossentropy: 0.0725 - acc: 0.9732\n",
      "Epoch 133/135\n",
      " - 1331s - loss: 0.0736 - binary_crossentropy: 0.0736 - acc: 0.9729\n",
      "Epoch 134/135\n",
      " - 1330s - loss: 0.0675 - binary_crossentropy: 0.0675 - acc: 0.9752\n",
      "Epoch 135/135\n",
      " - 1331s - loss: 0.0642 - binary_crossentropy: 0.0642 - acc: 0.9761\n",
      "135 0.00064 0.99997956\n"
     ]
    },
    {
     "data": {
      "application/vnd.jupyter.widget-view+json": {
       "model_id": "5d27420ef9ee4dc484c776eb559cd584",
       "version_major": 2,
       "version_minor": 0
      },
      "text/plain": [
       "HBox(children=(IntProgress(value=0, description='Features', max=852, style=ProgressStyle(description_width='in…"
      ]
     },
     "metadata": {},
     "output_type": "display_data"
    },
    {
     "name": "stdout",
     "output_type": "stream",
     "text": [
      "\n"
     ]
    },
    {
     "data": {
      "application/vnd.jupyter.widget-view+json": {
       "model_id": "65600142b7bc4a169afdb7a9a3be8eef",
       "version_major": 2,
       "version_minor": 0
      },
      "text/plain": [
       "HBox(children=(IntProgress(value=0, description='Scores', max=45306, style=ProgressStyle(description_width='in…"
      ]
     },
     "metadata": {},
     "output_type": "display_data"
    },
    {
     "name": "stdout",
     "output_type": "stream",
     "text": [
      "\n",
      "Epoch 136/140\n",
      " - 1329s - loss: 0.0775 - binary_crossentropy: 0.0775 - acc: 0.9721\n",
      "Epoch 137/140\n",
      " - 1331s - loss: 0.0718 - binary_crossentropy: 0.0718 - acc: 0.9739\n",
      "Epoch 138/140\n",
      " - 1332s - loss: 0.0722 - binary_crossentropy: 0.0722 - acc: 0.9728\n",
      "Epoch 139/140\n",
      " - 1334s - loss: 0.0699 - binary_crossentropy: 0.0699 - acc: 0.9743\n",
      "Epoch 140/140\n",
      " - 1332s - loss: 0.0664 - binary_crossentropy: 0.0664 - acc: 0.9758\n",
      "140 0.00064 0.9999801\n"
     ]
    },
    {
     "data": {
      "application/vnd.jupyter.widget-view+json": {
       "model_id": "5c299679639f45d8abbe773bf1259685",
       "version_major": 2,
       "version_minor": 0
      },
      "text/plain": [
       "HBox(children=(IntProgress(value=0, description='Features', max=852, style=ProgressStyle(description_width='in…"
      ]
     },
     "metadata": {},
     "output_type": "display_data"
    },
    {
     "name": "stdout",
     "output_type": "stream",
     "text": [
      "\n"
     ]
    },
    {
     "data": {
      "application/vnd.jupyter.widget-view+json": {
       "model_id": "b50cfe6c7fcf4533831144cec9917975",
       "version_major": 2,
       "version_minor": 0
      },
      "text/plain": [
       "HBox(children=(IntProgress(value=0, description='Scores', max=45306, style=ProgressStyle(description_width='in…"
      ]
     },
     "metadata": {},
     "output_type": "display_data"
    },
    {
     "name": "stdout",
     "output_type": "stream",
     "text": [
      "\n",
      "Epoch 141/145\n",
      " - 1330s - loss: 0.0774 - binary_crossentropy: 0.0774 - acc: 0.9723\n",
      "Epoch 142/145\n",
      " - 1333s - loss: 0.0743 - binary_crossentropy: 0.0743 - acc: 0.9727\n",
      "Epoch 143/145\n",
      " - 1334s - loss: 0.0663 - binary_crossentropy: 0.0663 - acc: 0.9757\n",
      "Epoch 144/145\n",
      " - 1334s - loss: 0.0655 - binary_crossentropy: 0.0655 - acc: 0.9781\n",
      "Epoch 145/145\n",
      " - 1332s - loss: 0.0609 - binary_crossentropy: 0.0609 - acc: 0.9779\n",
      "145 0.00064 0.99997795\n"
     ]
    },
    {
     "data": {
      "application/vnd.jupyter.widget-view+json": {
       "model_id": "aa19aeb93a7b4decb98453f0012b1851",
       "version_major": 2,
       "version_minor": 0
      },
      "text/plain": [
       "HBox(children=(IntProgress(value=0, description='Features', max=852, style=ProgressStyle(description_width='in…"
      ]
     },
     "metadata": {},
     "output_type": "display_data"
    },
    {
     "name": "stdout",
     "output_type": "stream",
     "text": [
      "\n"
     ]
    },
    {
     "data": {
      "application/vnd.jupyter.widget-view+json": {
       "model_id": "eefb1dbdc97f41778c3251ad88fcdd0f",
       "version_major": 2,
       "version_minor": 0
      },
      "text/plain": [
       "HBox(children=(IntProgress(value=0, description='Scores', max=45306, style=ProgressStyle(description_width='in…"
      ]
     },
     "metadata": {},
     "output_type": "display_data"
    },
    {
     "name": "stdout",
     "output_type": "stream",
     "text": [
      "\n",
      "Epoch 146/150\n",
      " - 1328s - loss: 0.0739 - binary_crossentropy: 0.0739 - acc: 0.9734\n",
      "Epoch 147/150\n",
      " - 1330s - loss: 0.0698 - binary_crossentropy: 0.0698 - acc: 0.9749\n",
      "Epoch 148/150\n",
      " - 1329s - loss: 0.0645 - binary_crossentropy: 0.0645 - acc: 0.9772\n",
      "Epoch 149/150\n",
      " - 1329s - loss: 0.0661 - binary_crossentropy: 0.0661 - acc: 0.9764\n",
      "Epoch 150/150\n",
      " - 1322s - loss: 0.0627 - binary_crossentropy: 0.0627 - acc: 0.9766\n",
      "150 0.00064 0.9999801\n"
     ]
    },
    {
     "data": {
      "application/vnd.jupyter.widget-view+json": {
       "model_id": "05e16bf653c84ded812b65901b73f90d",
       "version_major": 2,
       "version_minor": 0
      },
      "text/plain": [
       "HBox(children=(IntProgress(value=0, description='Features', max=852, style=ProgressStyle(description_width='in…"
      ]
     },
     "metadata": {},
     "output_type": "display_data"
    },
    {
     "name": "stdout",
     "output_type": "stream",
     "text": [
      "\n"
     ]
    },
    {
     "data": {
      "application/vnd.jupyter.widget-view+json": {
       "model_id": "864e384c7b824277abb6c3a4dd954852",
       "version_major": 2,
       "version_minor": 0
      },
      "text/plain": [
       "HBox(children=(IntProgress(value=0, description='Scores', max=45306, style=ProgressStyle(description_width='in…"
      ]
     },
     "metadata": {},
     "output_type": "display_data"
    },
    {
     "name": "stdout",
     "output_type": "stream",
     "text": [
      "\n",
      "Epoch 151/155\n",
      " - 1321s - loss: 0.0596 - binary_crossentropy: 0.0596 - acc: 0.9780\n",
      "Epoch 152/155\n",
      " - 1323s - loss: 0.0499 - binary_crossentropy: 0.0499 - acc: 0.9820\n",
      "Epoch 153/155\n",
      " - 1323s - loss: 0.0485 - binary_crossentropy: 0.0485 - acc: 0.9831\n",
      "Epoch 154/155\n",
      " - 1323s - loss: 0.0468 - binary_crossentropy: 0.0468 - acc: 0.9839\n",
      "Epoch 155/155\n",
      " - 1324s - loss: 0.0441 - binary_crossentropy: 0.0441 - acc: 0.9844\n",
      "155 0.00016 0.9999697\n"
     ]
    },
    {
     "data": {
      "application/vnd.jupyter.widget-view+json": {
       "model_id": "ee776c7e91004de2987ec5633ac0339b",
       "version_major": 2,
       "version_minor": 0
      },
      "text/plain": [
       "HBox(children=(IntProgress(value=0, description='Features', max=852, style=ProgressStyle(description_width='in…"
      ]
     },
     "metadata": {},
     "output_type": "display_data"
    },
    {
     "name": "stdout",
     "output_type": "stream",
     "text": [
      "\n"
     ]
    },
    {
     "data": {
      "application/vnd.jupyter.widget-view+json": {
       "model_id": "694caf4f6a474f78baf11563dfa5e22a",
       "version_major": 2,
       "version_minor": 0
      },
      "text/plain": [
       "HBox(children=(IntProgress(value=0, description='Scores', max=45306, style=ProgressStyle(description_width='in…"
      ]
     },
     "metadata": {},
     "output_type": "display_data"
    },
    {
     "name": "stdout",
     "output_type": "stream",
     "text": [
      "\n",
      "Epoch 156/160\n",
      " - 1321s - loss: 0.0469 - binary_crossentropy: 0.0469 - acc: 0.9840\n",
      "Epoch 157/160\n",
      " - 1323s - loss: 0.0454 - binary_crossentropy: 0.0454 - acc: 0.9846\n",
      "Epoch 158/160\n",
      " - 1322s - loss: 0.0425 - binary_crossentropy: 0.0425 - acc: 0.9855\n",
      "Epoch 159/160\n",
      " - 1322s - loss: 0.0428 - binary_crossentropy: 0.0428 - acc: 0.9847\n",
      "Epoch 160/160\n",
      " - 1322s - loss: 0.0408 - binary_crossentropy: 0.0408 - acc: 0.9860\n",
      "160 0.00016 0.9999801\n"
     ]
    },
    {
     "data": {
      "application/vnd.jupyter.widget-view+json": {
       "model_id": "8fd480036b86436ba82ee264dd456b29",
       "version_major": 2,
       "version_minor": 0
      },
      "text/plain": [
       "HBox(children=(IntProgress(value=0, description='Features', max=852, style=ProgressStyle(description_width='in…"
      ]
     },
     "metadata": {},
     "output_type": "display_data"
    },
    {
     "name": "stdout",
     "output_type": "stream",
     "text": [
      "\n"
     ]
    },
    {
     "data": {
      "application/vnd.jupyter.widget-view+json": {
       "model_id": "017f84e22f2a47d2a6b1477222ee41b8",
       "version_major": 2,
       "version_minor": 0
      },
      "text/plain": [
       "HBox(children=(IntProgress(value=0, description='Scores', max=45306, style=ProgressStyle(description_width='in…"
      ]
     },
     "metadata": {},
     "output_type": "display_data"
    },
    {
     "name": "stdout",
     "output_type": "stream",
     "text": [
      "\n",
      "Epoch 161/165\n",
      " - 1321s - loss: 0.0438 - binary_crossentropy: 0.0438 - acc: 0.9852\n",
      "Epoch 162/165\n",
      " - 1322s - loss: 0.0439 - binary_crossentropy: 0.0439 - acc: 0.9851\n",
      "Epoch 163/165\n",
      " - 1324s - loss: 0.0407 - binary_crossentropy: 0.0407 - acc: 0.9867\n",
      "Epoch 164/165\n",
      " - 1335s - loss: 0.0424 - binary_crossentropy: 0.0424 - acc: 0.9858\n",
      "Epoch 165/165\n",
      " - 1336s - loss: 0.0418 - binary_crossentropy: 0.0418 - acc: 0.9859\n",
      "165 0.00016 0.99958503\n"
     ]
    },
    {
     "data": {
      "application/vnd.jupyter.widget-view+json": {
       "model_id": "358c29fccf5f47fabb1c1add0546dcfe",
       "version_major": 2,
       "version_minor": 0
      },
      "text/plain": [
       "HBox(children=(IntProgress(value=0, description='Features', max=852, style=ProgressStyle(description_width='in…"
      ]
     },
     "metadata": {},
     "output_type": "display_data"
    },
    {
     "name": "stdout",
     "output_type": "stream",
     "text": [
      "\n"
     ]
    },
    {
     "data": {
      "application/vnd.jupyter.widget-view+json": {
       "model_id": "31bd187750504d7eaf6515e0055e45d8",
       "version_major": 2,
       "version_minor": 0
      },
      "text/plain": [
       "HBox(children=(IntProgress(value=0, description='Scores', max=45306, style=ProgressStyle(description_width='in…"
      ]
     },
     "metadata": {},
     "output_type": "display_data"
    },
    {
     "name": "stdout",
     "output_type": "stream",
     "text": [
      "\n",
      "Epoch 166/170\n",
      " - 1325s - loss: 0.0426 - binary_crossentropy: 0.0426 - acc: 0.9852\n",
      "Epoch 167/170\n",
      " - 1326s - loss: 0.0450 - binary_crossentropy: 0.0450 - acc: 0.9853\n",
      "Epoch 168/170\n",
      " - 1330s - loss: 0.0403 - binary_crossentropy: 0.0403 - acc: 0.9862\n",
      "Epoch 169/170\n",
      " - 1333s - loss: 0.0402 - binary_crossentropy: 0.0402 - acc: 0.9865\n",
      "Epoch 170/170\n",
      " - 1334s - loss: 0.0375 - binary_crossentropy: 0.0375 - acc: 0.9876\n",
      "170 0.00016 0.9999801\n"
     ]
    },
    {
     "data": {
      "application/vnd.jupyter.widget-view+json": {
       "model_id": "47f7f73e849e465a9ee93f54892437a6",
       "version_major": 2,
       "version_minor": 0
      },
      "text/plain": [
       "HBox(children=(IntProgress(value=0, description='Features', max=852, style=ProgressStyle(description_width='in…"
      ]
     },
     "metadata": {},
     "output_type": "display_data"
    },
    {
     "name": "stdout",
     "output_type": "stream",
     "text": [
      "\n"
     ]
    },
    {
     "data": {
      "application/vnd.jupyter.widget-view+json": {
       "model_id": "a108405d8ead4973b6bddd60251534cd",
       "version_major": 2,
       "version_minor": 0
      },
      "text/plain": [
       "HBox(children=(IntProgress(value=0, description='Scores', max=45306, style=ProgressStyle(description_width='in…"
      ]
     },
     "metadata": {},
     "output_type": "display_data"
    },
    {
     "name": "stdout",
     "output_type": "stream",
     "text": [
      "\n",
      "Epoch 171/175\n",
      " - 1330s - loss: 0.0465 - binary_crossentropy: 0.0465 - acc: 0.9852\n",
      "Epoch 172/175\n",
      " - 1333s - loss: 0.0461 - binary_crossentropy: 0.0461 - acc: 0.9847\n",
      "Epoch 173/175\n",
      " - 1333s - loss: 0.0404 - binary_crossentropy: 0.0404 - acc: 0.9870\n",
      "Epoch 174/175\n",
      " - 1334s - loss: 0.0373 - binary_crossentropy: 0.0373 - acc: 0.9879\n",
      "Epoch 175/175\n",
      " - 1332s - loss: 0.0397 - binary_crossentropy: 0.0397 - acc: 0.9864\n",
      "175 0.00016 0.9999516\n"
     ]
    },
    {
     "data": {
      "application/vnd.jupyter.widget-view+json": {
       "model_id": "58e87328157c4ee6870fb18994f64aca",
       "version_major": 2,
       "version_minor": 0
      },
      "text/plain": [
       "HBox(children=(IntProgress(value=0, description='Features', max=852, style=ProgressStyle(description_width='in…"
      ]
     },
     "metadata": {},
     "output_type": "display_data"
    },
    {
     "name": "stdout",
     "output_type": "stream",
     "text": [
      "\n"
     ]
    },
    {
     "data": {
      "application/vnd.jupyter.widget-view+json": {
       "model_id": "ffb67544e093458c987ffd38157f8886",
       "version_major": 2,
       "version_minor": 0
      },
      "text/plain": [
       "HBox(children=(IntProgress(value=0, description='Scores', max=45306, style=ProgressStyle(description_width='in…"
      ]
     },
     "metadata": {},
     "output_type": "display_data"
    },
    {
     "name": "stdout",
     "output_type": "stream",
     "text": [
      "\n",
      "Epoch 176/180\n",
      " - 1328s - loss: 0.0392 - binary_crossentropy: 0.0392 - acc: 0.9871\n",
      "Epoch 177/180\n",
      " - 1330s - loss: 0.0366 - binary_crossentropy: 0.0366 - acc: 0.9878\n",
      "Epoch 178/180\n",
      " - 1331s - loss: 0.0383 - binary_crossentropy: 0.0383 - acc: 0.9877\n",
      "Epoch 179/180\n",
      " - 1329s - loss: 0.0330 - binary_crossentropy: 0.0330 - acc: 0.9884\n",
      "Epoch 180/180\n",
      " - 1330s - loss: 0.0332 - binary_crossentropy: 0.0332 - acc: 0.9885\n",
      "180 0.00016 0.9999801\n"
     ]
    },
    {
     "data": {
      "application/vnd.jupyter.widget-view+json": {
       "model_id": "6cec9e47373647cc8e9794528694b8a1",
       "version_major": 2,
       "version_minor": 0
      },
      "text/plain": [
       "HBox(children=(IntProgress(value=0, description='Features', max=852, style=ProgressStyle(description_width='in…"
      ]
     },
     "metadata": {},
     "output_type": "display_data"
    },
    {
     "name": "stdout",
     "output_type": "stream",
     "text": [
      "\n"
     ]
    },
    {
     "data": {
      "application/vnd.jupyter.widget-view+json": {
       "model_id": "12daefe8f1d343b2b86a9c8340900f20",
       "version_major": 2,
       "version_minor": 0
      },
      "text/plain": [
       "HBox(children=(IntProgress(value=0, description='Scores', max=45306, style=ProgressStyle(description_width='in…"
      ]
     },
     "metadata": {},
     "output_type": "display_data"
    },
    {
     "name": "stdout",
     "output_type": "stream",
     "text": [
      "\n",
      "Epoch 181/185\n",
      " - 1330s - loss: 0.0424 - binary_crossentropy: 0.0424 - acc: 0.9868\n",
      "Epoch 182/185\n",
      " - 1329s - loss: 0.0403 - binary_crossentropy: 0.0403 - acc: 0.9871\n",
      "Epoch 183/185\n",
      " - 1329s - loss: 0.0372 - binary_crossentropy: 0.0372 - acc: 0.9878\n",
      "Epoch 184/185\n",
      " - 1329s - loss: 0.0372 - binary_crossentropy: 0.0372 - acc: 0.9873\n",
      "Epoch 185/185\n",
      " - 1328s - loss: 0.0352 - binary_crossentropy: 0.0352 - acc: 0.9884\n",
      "185 0.00016 0.9998451\n"
     ]
    },
    {
     "data": {
      "application/vnd.jupyter.widget-view+json": {
       "model_id": "db4bbaa5e9f74aada3b9a2e6f854a4d4",
       "version_major": 2,
       "version_minor": 0
      },
      "text/plain": [
       "HBox(children=(IntProgress(value=0, description='Features', max=852, style=ProgressStyle(description_width='in…"
      ]
     },
     "metadata": {},
     "output_type": "display_data"
    },
    {
     "name": "stdout",
     "output_type": "stream",
     "text": [
      "\n"
     ]
    },
    {
     "data": {
      "application/vnd.jupyter.widget-view+json": {
       "model_id": "4f1d383c0a9a44ecb678c2001a9a0ca7",
       "version_major": 2,
       "version_minor": 0
      },
      "text/plain": [
       "HBox(children=(IntProgress(value=0, description='Scores', max=45306, style=ProgressStyle(description_width='in…"
      ]
     },
     "metadata": {},
     "output_type": "display_data"
    },
    {
     "name": "stdout",
     "output_type": "stream",
     "text": [
      "\n",
      "Epoch 186/190\n",
      " - 1330s - loss: 0.0391 - binary_crossentropy: 0.0391 - acc: 0.9869\n",
      "Epoch 187/190\n",
      " - 1331s - loss: 0.0361 - binary_crossentropy: 0.0361 - acc: 0.9874\n",
      "Epoch 188/190\n",
      " - 1331s - loss: 0.0367 - binary_crossentropy: 0.0367 - acc: 0.9876\n",
      "Epoch 189/190\n",
      " - 1331s - loss: 0.0355 - binary_crossentropy: 0.0355 - acc: 0.9882\n",
      "Epoch 190/190\n",
      " - 1334s - loss: 0.0339 - binary_crossentropy: 0.0339 - acc: 0.9883\n",
      "190 0.00016 0.9999934\n"
     ]
    },
    {
     "data": {
      "application/vnd.jupyter.widget-view+json": {
       "model_id": "1d39fd2b1c114e348bdff5c0c681deee",
       "version_major": 2,
       "version_minor": 0
      },
      "text/plain": [
       "HBox(children=(IntProgress(value=0, description='Features', max=852, style=ProgressStyle(description_width='in…"
      ]
     },
     "metadata": {},
     "output_type": "display_data"
    },
    {
     "name": "stdout",
     "output_type": "stream",
     "text": [
      "\n"
     ]
    },
    {
     "data": {
      "application/vnd.jupyter.widget-view+json": {
       "model_id": "3462af93f61e45c3affa4dbbfee286de",
       "version_major": 2,
       "version_minor": 0
      },
      "text/plain": [
       "HBox(children=(IntProgress(value=0, description='Scores', max=45306, style=ProgressStyle(description_width='in…"
      ]
     },
     "metadata": {},
     "output_type": "display_data"
    },
    {
     "name": "stdout",
     "output_type": "stream",
     "text": [
      "\n",
      "Epoch 191/195\n",
      " - 1330s - loss: 0.0404 - binary_crossentropy: 0.0404 - acc: 0.9867\n",
      "Epoch 192/195\n",
      " - 1332s - loss: 0.0366 - binary_crossentropy: 0.0366 - acc: 0.9884\n",
      "Epoch 193/195\n",
      " - 1332s - loss: 0.0332 - binary_crossentropy: 0.0332 - acc: 0.9890\n",
      "Epoch 194/195\n",
      " - 1333s - loss: 0.0336 - binary_crossentropy: 0.0336 - acc: 0.9884\n",
      "Epoch 195/195\n",
      " - 1333s - loss: 0.0324 - binary_crossentropy: 0.0324 - acc: 0.9892\n",
      "195 0.00016 0.99870086\n"
     ]
    },
    {
     "data": {
      "application/vnd.jupyter.widget-view+json": {
       "model_id": "eb624ef3267748b79823cee86b1617c2",
       "version_major": 2,
       "version_minor": 0
      },
      "text/plain": [
       "HBox(children=(IntProgress(value=0, description='Features', max=852, style=ProgressStyle(description_width='in…"
      ]
     },
     "metadata": {},
     "output_type": "display_data"
    },
    {
     "name": "stdout",
     "output_type": "stream",
     "text": [
      "\n"
     ]
    },
    {
     "data": {
      "application/vnd.jupyter.widget-view+json": {
       "model_id": "408e1b897d1d4ab1b221a38a44fc4af6",
       "version_major": 2,
       "version_minor": 0
      },
      "text/plain": [
       "HBox(children=(IntProgress(value=0, description='Scores', max=45306, style=ProgressStyle(description_width='in…"
      ]
     },
     "metadata": {},
     "output_type": "display_data"
    },
    {
     "name": "stdout",
     "output_type": "stream",
     "text": [
      "\n",
      "Epoch 196/200\n",
      " - 1331s - loss: 0.0344 - binary_crossentropy: 0.0344 - acc: 0.9885\n",
      "Epoch 197/200\n",
      " - 1332s - loss: 0.0320 - binary_crossentropy: 0.0320 - acc: 0.9886\n",
      "Epoch 198/200\n",
      " - 1332s - loss: 0.0338 - binary_crossentropy: 0.0338 - acc: 0.9893\n",
      "Epoch 199/200\n",
      " - 1332s - loss: 0.0343 - binary_crossentropy: 0.0343 - acc: 0.9885\n",
      "Epoch 200/200\n",
      " - 1333s - loss: 0.0303 - binary_crossentropy: 0.0303 - acc: 0.9894\n",
      "200 0.00016 0.99998665\n"
     ]
    },
    {
     "data": {
      "application/vnd.jupyter.widget-view+json": {
       "model_id": "d879e49430784966ba11e9f81774bcad",
       "version_major": 2,
       "version_minor": 0
      },
      "text/plain": [
       "HBox(children=(IntProgress(value=0, description='Features', max=852, style=ProgressStyle(description_width='in…"
      ]
     },
     "metadata": {},
     "output_type": "display_data"
    },
    {
     "name": "stdout",
     "output_type": "stream",
     "text": [
      "\n"
     ]
    },
    {
     "data": {
      "application/vnd.jupyter.widget-view+json": {
       "model_id": "e17f0f2403094a21964f2f269e39250e",
       "version_major": 2,
       "version_minor": 0
      },
      "text/plain": [
       "HBox(children=(IntProgress(value=0, description='Scores', max=45306, style=ProgressStyle(description_width='in…"
      ]
     },
     "metadata": {},
     "output_type": "display_data"
    },
    {
     "name": "stdout",
     "output_type": "stream",
     "text": [
      "\n",
      "Epoch 201/205\n",
      " - 1324s - loss: 0.0374 - binary_crossentropy: 0.0374 - acc: 0.9877\n",
      "Epoch 202/205\n",
      " - 1326s - loss: 0.0322 - binary_crossentropy: 0.0322 - acc: 0.9895\n",
      "Epoch 203/205\n",
      " - 1327s - loss: 0.0304 - binary_crossentropy: 0.0304 - acc: 0.9898\n",
      "Epoch 204/205\n",
      " - 1327s - loss: 0.0289 - binary_crossentropy: 0.0289 - acc: 0.9905\n",
      "Epoch 205/205\n",
      " - 1328s - loss: 0.0293 - binary_crossentropy: 0.0293 - acc: 0.9905\n",
      "205 4e-05 0.9984417\n"
     ]
    },
    {
     "data": {
      "application/vnd.jupyter.widget-view+json": {
       "model_id": "34d782442e304708bc74baa1b23c86a5",
       "version_major": 2,
       "version_minor": 0
      },
      "text/plain": [
       "HBox(children=(IntProgress(value=0, description='Features', max=852, style=ProgressStyle(description_width='in…"
      ]
     },
     "metadata": {},
     "output_type": "display_data"
    },
    {
     "name": "stdout",
     "output_type": "stream",
     "text": [
      "\n"
     ]
    },
    {
     "data": {
      "application/vnd.jupyter.widget-view+json": {
       "model_id": "1239a0b85ce64340be791633741ef4c9",
       "version_major": 2,
       "version_minor": 0
      },
      "text/plain": [
       "HBox(children=(IntProgress(value=0, description='Scores', max=45306, style=ProgressStyle(description_width='in…"
      ]
     },
     "metadata": {},
     "output_type": "display_data"
    },
    {
     "name": "stdout",
     "output_type": "stream",
     "text": [
      "\n",
      "Epoch 206/210\n",
      " - 1326s - loss: 0.0336 - binary_crossentropy: 0.0336 - acc: 0.9890\n",
      "Epoch 207/210\n",
      " - 1327s - loss: 0.0357 - binary_crossentropy: 0.0357 - acc: 0.9880\n",
      "Epoch 208/210\n",
      " - 1327s - loss: 0.0290 - binary_crossentropy: 0.0290 - acc: 0.9910\n",
      "Epoch 209/210\n",
      " - 1327s - loss: 0.0330 - binary_crossentropy: 0.0330 - acc: 0.9888\n",
      "Epoch 210/210\n",
      " - 1328s - loss: 0.0295 - binary_crossentropy: 0.0295 - acc: 0.9902\n",
      "210 4e-05 0.9999861\n"
     ]
    },
    {
     "data": {
      "application/vnd.jupyter.widget-view+json": {
       "model_id": "c4ae622a3c8941eb9857670694523e32",
       "version_major": 2,
       "version_minor": 0
      },
      "text/plain": [
       "HBox(children=(IntProgress(value=0, description='Features', max=852, style=ProgressStyle(description_width='in…"
      ]
     },
     "metadata": {},
     "output_type": "display_data"
    },
    {
     "name": "stdout",
     "output_type": "stream",
     "text": [
      "\n"
     ]
    },
    {
     "data": {
      "application/vnd.jupyter.widget-view+json": {
       "model_id": "69c4b165313a451082c79124cb9acb45",
       "version_major": 2,
       "version_minor": 0
      },
      "text/plain": [
       "HBox(children=(IntProgress(value=0, description='Scores', max=45306, style=ProgressStyle(description_width='in…"
      ]
     },
     "metadata": {},
     "output_type": "display_data"
    },
    {
     "name": "stdout",
     "output_type": "stream",
     "text": [
      "\n",
      "Epoch 211/215\n",
      " - 1326s - loss: 0.0340 - binary_crossentropy: 0.0340 - acc: 0.9884\n",
      "Epoch 212/215\n",
      " - 1333s - loss: 0.0348 - binary_crossentropy: 0.0348 - acc: 0.9884\n",
      "Epoch 213/215\n",
      " - 1335s - loss: 0.0323 - binary_crossentropy: 0.0323 - acc: 0.9900\n",
      "Epoch 214/215\n",
      " - 1335s - loss: 0.0340 - binary_crossentropy: 0.0340 - acc: 0.9885\n",
      "Epoch 215/215\n",
      " - 1335s - loss: 0.0318 - binary_crossentropy: 0.0318 - acc: 0.9900\n",
      "215 4e-05 0.99646074\n"
     ]
    },
    {
     "data": {
      "application/vnd.jupyter.widget-view+json": {
       "model_id": "7ea651a3c31d4e9592099f550cf6db91",
       "version_major": 2,
       "version_minor": 0
      },
      "text/plain": [
       "HBox(children=(IntProgress(value=0, description='Features', max=852, style=ProgressStyle(description_width='in…"
      ]
     },
     "metadata": {},
     "output_type": "display_data"
    },
    {
     "name": "stdout",
     "output_type": "stream",
     "text": [
      "\n"
     ]
    },
    {
     "data": {
      "application/vnd.jupyter.widget-view+json": {
       "model_id": "fa49311ab74346ea9d4167ecf8c6e190",
       "version_major": 2,
       "version_minor": 0
      },
      "text/plain": [
       "HBox(children=(IntProgress(value=0, description='Scores', max=45306, style=ProgressStyle(description_width='in…"
      ]
     },
     "metadata": {},
     "output_type": "display_data"
    },
    {
     "name": "stdout",
     "output_type": "stream",
     "text": [
      "\n",
      "Epoch 216/220\n",
      " - 1331s - loss: 0.0349 - binary_crossentropy: 0.0349 - acc: 0.9880\n",
      "Epoch 217/220\n",
      " - 1332s - loss: 0.0325 - binary_crossentropy: 0.0325 - acc: 0.9899\n",
      "Epoch 218/220\n",
      " - 1332s - loss: 0.0314 - binary_crossentropy: 0.0314 - acc: 0.9897\n",
      "Epoch 219/220\n",
      " - 1333s - loss: 0.0306 - binary_crossentropy: 0.0306 - acc: 0.9909\n",
      "Epoch 220/220\n",
      " - 1333s - loss: 0.0289 - binary_crossentropy: 0.0289 - acc: 0.9906\n",
      "220 4e-05 0.99998456\n"
     ]
    },
    {
     "data": {
      "application/vnd.jupyter.widget-view+json": {
       "model_id": "e2655ae5fdae4b8498f8213bb6362a25",
       "version_major": 2,
       "version_minor": 0
      },
      "text/plain": [
       "HBox(children=(IntProgress(value=0, description='Features', max=852, style=ProgressStyle(description_width='in…"
      ]
     },
     "metadata": {},
     "output_type": "display_data"
    },
    {
     "name": "stdout",
     "output_type": "stream",
     "text": [
      "\n"
     ]
    },
    {
     "data": {
      "application/vnd.jupyter.widget-view+json": {
       "model_id": "f8d6628e82a54411b274ad38f45471f2",
       "version_major": 2,
       "version_minor": 0
      },
      "text/plain": [
       "HBox(children=(IntProgress(value=0, description='Scores', max=45306, style=ProgressStyle(description_width='in…"
      ]
     },
     "metadata": {},
     "output_type": "display_data"
    },
    {
     "name": "stdout",
     "output_type": "stream",
     "text": [
      "\n",
      "Epoch 221/225\n",
      " - 1332s - loss: 0.0307 - binary_crossentropy: 0.0307 - acc: 0.9905\n",
      "Epoch 222/225\n",
      " - 1334s - loss: 0.0294 - binary_crossentropy: 0.0294 - acc: 0.9907\n",
      "Epoch 223/225\n",
      " - 1333s - loss: 0.0279 - binary_crossentropy: 0.0279 - acc: 0.9909\n",
      "Epoch 224/225\n",
      " - 1332s - loss: 0.0285 - binary_crossentropy: 0.0285 - acc: 0.9911\n",
      "Epoch 225/225\n",
      " - 1332s - loss: 0.0291 - binary_crossentropy: 0.0291 - acc: 0.9909\n",
      "225 4e-05 0.99667287\n"
     ]
    },
    {
     "data": {
      "application/vnd.jupyter.widget-view+json": {
       "model_id": "074839aa194d4bd5adccfb468a7611be",
       "version_major": 2,
       "version_minor": 0
      },
      "text/plain": [
       "HBox(children=(IntProgress(value=0, description='Features', max=852, style=ProgressStyle(description_width='in…"
      ]
     },
     "metadata": {},
     "output_type": "display_data"
    },
    {
     "name": "stdout",
     "output_type": "stream",
     "text": [
      "\n"
     ]
    },
    {
     "data": {
      "application/vnd.jupyter.widget-view+json": {
       "model_id": "fa9f1f0838d54dd3804b72f2982f7522",
       "version_major": 2,
       "version_minor": 0
      },
      "text/plain": [
       "HBox(children=(IntProgress(value=0, description='Scores', max=45306, style=ProgressStyle(description_width='in…"
      ]
     },
     "metadata": {},
     "output_type": "display_data"
    },
    {
     "name": "stdout",
     "output_type": "stream",
     "text": [
      "\n",
      "Epoch 226/230\n",
      " - 1333s - loss: 0.0317 - binary_crossentropy: 0.0317 - acc: 0.9902\n",
      "Epoch 227/230\n",
      " - 1333s - loss: 0.0301 - binary_crossentropy: 0.0301 - acc: 0.9905\n",
      "Epoch 228/230\n",
      " - 1334s - loss: 0.0313 - binary_crossentropy: 0.0313 - acc: 0.9901\n",
      "Epoch 229/230\n",
      " - 1334s - loss: 0.0299 - binary_crossentropy: 0.0299 - acc: 0.9910\n",
      "Epoch 230/230\n",
      " - 1335s - loss: 0.0298 - binary_crossentropy: 0.0298 - acc: 0.9907\n",
      "230 4e-05 0.9999898\n"
     ]
    },
    {
     "data": {
      "application/vnd.jupyter.widget-view+json": {
       "model_id": "03134c0b3fa646cfaa6a546231cc53c3",
       "version_major": 2,
       "version_minor": 0
      },
      "text/plain": [
       "HBox(children=(IntProgress(value=0, description='Features', max=852, style=ProgressStyle(description_width='in…"
      ]
     },
     "metadata": {},
     "output_type": "display_data"
    },
    {
     "name": "stdout",
     "output_type": "stream",
     "text": [
      "\n"
     ]
    },
    {
     "data": {
      "application/vnd.jupyter.widget-view+json": {
       "model_id": "14add6c580744778ac4b8be30910353a",
       "version_major": 2,
       "version_minor": 0
      },
      "text/plain": [
       "HBox(children=(IntProgress(value=0, description='Scores', max=45306, style=ProgressStyle(description_width='in…"
      ]
     },
     "metadata": {},
     "output_type": "display_data"
    },
    {
     "name": "stdout",
     "output_type": "stream",
     "text": [
      "\n",
      "Epoch 231/235\n",
      " - 1334s - loss: 0.0341 - binary_crossentropy: 0.0341 - acc: 0.9885\n",
      "Epoch 232/235\n",
      " - 1338s - loss: 0.0328 - binary_crossentropy: 0.0328 - acc: 0.9900\n",
      "Epoch 233/235\n",
      " - 1338s - loss: 0.0298 - binary_crossentropy: 0.0298 - acc: 0.9902\n",
      "Epoch 234/235\n",
      " - 1338s - loss: 0.0315 - binary_crossentropy: 0.0315 - acc: 0.9900\n",
      "Epoch 235/235\n",
      " - 1338s - loss: 0.0290 - binary_crossentropy: 0.0290 - acc: 0.9906\n",
      "235 4e-05 0.9898069\n"
     ]
    },
    {
     "data": {
      "application/vnd.jupyter.widget-view+json": {
       "model_id": "3cbc72911d274054820cdda564b9a1c5",
       "version_major": 2,
       "version_minor": 0
      },
      "text/plain": [
       "HBox(children=(IntProgress(value=0, description='Features', max=852, style=ProgressStyle(description_width='in…"
      ]
     },
     "metadata": {},
     "output_type": "display_data"
    },
    {
     "name": "stdout",
     "output_type": "stream",
     "text": [
      "\n"
     ]
    },
    {
     "data": {
      "application/vnd.jupyter.widget-view+json": {
       "model_id": "bad30e076ba84034b85c46ad1df6f911",
       "version_major": 2,
       "version_minor": 0
      },
      "text/plain": [
       "HBox(children=(IntProgress(value=0, description='Scores', max=45306, style=ProgressStyle(description_width='in…"
      ]
     },
     "metadata": {},
     "output_type": "display_data"
    },
    {
     "name": "stdout",
     "output_type": "stream",
     "text": [
      "\n",
      "Epoch 236/240\n",
      " - 1334s - loss: 0.0323 - binary_crossentropy: 0.0323 - acc: 0.9899\n",
      "Epoch 237/240\n",
      " - 1334s - loss: 0.0309 - binary_crossentropy: 0.0309 - acc: 0.9904\n",
      "Epoch 238/240\n",
      " - 1335s - loss: 0.0312 - binary_crossentropy: 0.0312 - acc: 0.9904\n",
      "Epoch 239/240\n",
      " - 1335s - loss: 0.0328 - binary_crossentropy: 0.0328 - acc: 0.9899\n",
      "Epoch 240/240\n",
      " - 1335s - loss: 0.0274 - binary_crossentropy: 0.0274 - acc: 0.9914\n",
      "240 4e-05 0.99998975\n"
     ]
    },
    {
     "data": {
      "application/vnd.jupyter.widget-view+json": {
       "model_id": "6bd4e0f40fa84058a8dc4a5bb1415c83",
       "version_major": 2,
       "version_minor": 0
      },
      "text/plain": [
       "HBox(children=(IntProgress(value=0, description='Features', max=852, style=ProgressStyle(description_width='in…"
      ]
     },
     "metadata": {},
     "output_type": "display_data"
    },
    {
     "name": "stdout",
     "output_type": "stream",
     "text": [
      "\n"
     ]
    },
    {
     "data": {
      "application/vnd.jupyter.widget-view+json": {
       "model_id": "a7d723381b8d4120b326d01221ddc94d",
       "version_major": 2,
       "version_minor": 0
      },
      "text/plain": [
       "HBox(children=(IntProgress(value=0, description='Scores', max=45306, style=ProgressStyle(description_width='in…"
      ]
     },
     "metadata": {},
     "output_type": "display_data"
    },
    {
     "name": "stdout",
     "output_type": "stream",
     "text": [
      "\n",
      "Epoch 241/245\n",
      " - 1328s - loss: 0.0330 - binary_crossentropy: 0.0330 - acc: 0.9895\n",
      "Epoch 242/245\n",
      " - 1333s - loss: 0.0315 - binary_crossentropy: 0.0315 - acc: 0.9900\n",
      "Epoch 243/245\n",
      " - 1333s - loss: 0.0315 - binary_crossentropy: 0.0315 - acc: 0.9899\n",
      "Epoch 244/245\n",
      " - 1339s - loss: 0.0305 - binary_crossentropy: 0.0305 - acc: 0.9902\n",
      "Epoch 245/245\n",
      " - 1339s - loss: 0.0305 - binary_crossentropy: 0.0305 - acc: 0.9899\n",
      "245 1e-05 0.967399\n"
     ]
    },
    {
     "data": {
      "application/vnd.jupyter.widget-view+json": {
       "model_id": "265f3fb32e3b495794b9cf68a02a6deb",
       "version_major": 2,
       "version_minor": 0
      },
      "text/plain": [
       "HBox(children=(IntProgress(value=0, description='Features', max=852, style=ProgressStyle(description_width='in…"
      ]
     },
     "metadata": {},
     "output_type": "display_data"
    },
    {
     "name": "stdout",
     "output_type": "stream",
     "text": [
      "\n"
     ]
    },
    {
     "data": {
      "application/vnd.jupyter.widget-view+json": {
       "model_id": "22537a08f18a467593b9dce13463f292",
       "version_major": 2,
       "version_minor": 0
      },
      "text/plain": [
       "HBox(children=(IntProgress(value=0, description='Scores', max=45306, style=ProgressStyle(description_width='in…"
      ]
     },
     "metadata": {},
     "output_type": "display_data"
    },
    {
     "name": "stdout",
     "output_type": "stream",
     "text": [
      "\n",
      "Epoch 246/250\n",
      " - 1324s - loss: 0.0308 - binary_crossentropy: 0.0308 - acc: 0.9905\n",
      "Epoch 247/250\n",
      " - 1326s - loss: 0.0309 - binary_crossentropy: 0.0309 - acc: 0.9907\n",
      "Epoch 248/250\n",
      " - 1326s - loss: 0.0314 - binary_crossentropy: 0.0314 - acc: 0.9899\n",
      "Epoch 249/250\n",
      " - 1327s - loss: 0.0296 - binary_crossentropy: 0.0296 - acc: 0.9912\n",
      "Epoch 250/250\n",
      " - 1327s - loss: 0.0319 - binary_crossentropy: 0.0319 - acc: 0.9909\n",
      "250 1e-05 0.99999094\n"
     ]
    },
    {
     "data": {
      "application/vnd.jupyter.widget-view+json": {
       "model_id": "0025a882b80e46bfb89eeca832118bf6",
       "version_major": 2,
       "version_minor": 0
      },
      "text/plain": [
       "HBox(children=(IntProgress(value=0, description='Features', max=852, style=ProgressStyle(description_width='in…"
      ]
     },
     "metadata": {},
     "output_type": "display_data"
    },
    {
     "name": "stdout",
     "output_type": "stream",
     "text": [
      "\n"
     ]
    },
    {
     "data": {
      "application/vnd.jupyter.widget-view+json": {
       "model_id": "8e65040dd74a45b48eaf9e9a5cf1955e",
       "version_major": 2,
       "version_minor": 0
      },
      "text/plain": [
       "HBox(children=(IntProgress(value=0, description='Scores', max=45306, style=ProgressStyle(description_width='in…"
      ]
     },
     "metadata": {},
     "output_type": "display_data"
    },
    {
     "name": "stdout",
     "output_type": "stream",
     "text": [
      "\n",
      "Epoch 251/255\n",
      " - 1423s - loss: 3.7025 - binary_crossentropy: 0.5861 - acc: 0.6829\n",
      "Epoch 252/255\n",
      " - 1367s - loss: 1.8423 - binary_crossentropy: 0.5124 - acc: 0.7494\n",
      "Epoch 253/255\n",
      " - 1367s - loss: 1.1470 - binary_crossentropy: 0.4905 - acc: 0.7620\n",
      "Epoch 254/255\n",
      " - 1367s - loss: 0.9062 - binary_crossentropy: 0.4761 - acc: 0.7727\n",
      "Epoch 255/255\n",
      " - 1367s - loss: 0.7890 - binary_crossentropy: 0.4628 - acc: 0.7819\n",
      "255 0.00064 0.4999759\n"
     ]
    },
    {
     "data": {
      "application/vnd.jupyter.widget-view+json": {
       "model_id": "9d598205309640369726c758270d0fea",
       "version_major": 2,
       "version_minor": 0
      },
      "text/plain": [
       "HBox(children=(IntProgress(value=0, description='Features', max=852, style=ProgressStyle(description_width='in…"
      ]
     },
     "metadata": {},
     "output_type": "display_data"
    },
    {
     "name": "stdout",
     "output_type": "stream",
     "text": [
      "\n"
     ]
    },
    {
     "data": {
      "application/vnd.jupyter.widget-view+json": {
       "model_id": "da2cf812de224bd5bf9ceebed9277b33",
       "version_major": 2,
       "version_minor": 0
      },
      "text/plain": [
       "HBox(children=(IntProgress(value=0, description='Scores', max=45306, style=ProgressStyle(description_width='in…"
      ]
     },
     "metadata": {},
     "output_type": "display_data"
    },
    {
     "name": "stdout",
     "output_type": "stream",
     "text": [
      "\n",
      "Epoch 256/260\n",
      " - 1365s - loss: 0.7206 - binary_crossentropy: 0.4515 - acc: 0.7896\n",
      "Epoch 257/260\n",
      " - 1366s - loss: 0.6771 - binary_crossentropy: 0.4430 - acc: 0.7946\n",
      "Epoch 258/260\n",
      " - 1367s - loss: 0.6422 - binary_crossentropy: 0.4321 - acc: 0.8032\n",
      "Epoch 259/260\n",
      " - 1367s - loss: 0.6137 - binary_crossentropy: 0.4210 - acc: 0.8094\n",
      "Epoch 260/260\n",
      " - 1367s - loss: 0.5955 - binary_crossentropy: 0.4179 - acc: 0.8112\n",
      "260 0.00064 0.9999934\n"
     ]
    },
    {
     "data": {
      "application/vnd.jupyter.widget-view+json": {
       "model_id": "20c652a573764ab8b0f7e4200cea8496",
       "version_major": 2,
       "version_minor": 0
      },
      "text/plain": [
       "HBox(children=(IntProgress(value=0, description='Features', max=852, style=ProgressStyle(description_width='in…"
      ]
     },
     "metadata": {},
     "output_type": "display_data"
    },
    {
     "name": "stdout",
     "output_type": "stream",
     "text": [
      "\n"
     ]
    },
    {
     "data": {
      "application/vnd.jupyter.widget-view+json": {
       "model_id": "c0da690fdc134b32a31d7b893aa37133",
       "version_major": 2,
       "version_minor": 0
      },
      "text/plain": [
       "HBox(children=(IntProgress(value=0, description='Scores', max=45306, style=ProgressStyle(description_width='in…"
      ]
     },
     "metadata": {},
     "output_type": "display_data"
    },
    {
     "name": "stdout",
     "output_type": "stream",
     "text": [
      "\n",
      "Epoch 261/265\n",
      " - 1364s - loss: 0.5721 - binary_crossentropy: 0.4046 - acc: 0.8193\n",
      "Epoch 262/265\n",
      " - 1366s - loss: 0.5570 - binary_crossentropy: 0.3976 - acc: 0.8206\n",
      "Epoch 263/265\n",
      " - 1371s - loss: 0.5398 - binary_crossentropy: 0.3871 - acc: 0.8283\n",
      "Epoch 264/265\n",
      " - 1371s - loss: 0.5285 - binary_crossentropy: 0.3826 - acc: 0.8302\n",
      "Epoch 265/265\n",
      " - 1372s - loss: 0.5166 - binary_crossentropy: 0.3755 - acc: 0.8342\n",
      "265 0.00064 0.9999934\n"
     ]
    },
    {
     "data": {
      "application/vnd.jupyter.widget-view+json": {
       "model_id": "421960c0c8ee481a9c175d7ec3bb1ea2",
       "version_major": 2,
       "version_minor": 0
      },
      "text/plain": [
       "HBox(children=(IntProgress(value=0, description='Features', max=852, style=ProgressStyle(description_width='in…"
      ]
     },
     "metadata": {},
     "output_type": "display_data"
    },
    {
     "name": "stdout",
     "output_type": "stream",
     "text": [
      "\n"
     ]
    },
    {
     "data": {
      "application/vnd.jupyter.widget-view+json": {
       "model_id": "4ee49d0754134624af4379a97e5b01e3",
       "version_major": 2,
       "version_minor": 0
      },
      "text/plain": [
       "HBox(children=(IntProgress(value=0, description='Scores', max=45306, style=ProgressStyle(description_width='in…"
      ]
     },
     "metadata": {},
     "output_type": "display_data"
    },
    {
     "name": "stdout",
     "output_type": "stream",
     "text": [
      "\n",
      "Epoch 266/270\n",
      " - 1371s - loss: 0.5086 - binary_crossentropy: 0.3719 - acc: 0.8354\n",
      "Epoch 267/270\n",
      " - 1373s - loss: 0.4992 - binary_crossentropy: 0.3667 - acc: 0.8395\n",
      "Epoch 268/270\n",
      " - 1372s - loss: 0.4921 - binary_crossentropy: 0.3630 - acc: 0.8410\n",
      "Epoch 269/270\n",
      " - 1372s - loss: 0.4808 - binary_crossentropy: 0.3562 - acc: 0.8435\n",
      "Epoch 270/270\n",
      " - 1372s - loss: 0.4779 - binary_crossentropy: 0.3563 - acc: 0.8466\n",
      "270 0.00064 1.8228066e-07\n"
     ]
    },
    {
     "data": {
      "application/vnd.jupyter.widget-view+json": {
       "model_id": "c6b841a4170e48449efb9f0fb77dce50",
       "version_major": 2,
       "version_minor": 0
      },
      "text/plain": [
       "HBox(children=(IntProgress(value=0, description='Features', max=852, style=ProgressStyle(description_width='in…"
      ]
     },
     "metadata": {},
     "output_type": "display_data"
    },
    {
     "name": "stdout",
     "output_type": "stream",
     "text": [
      "\n"
     ]
    },
    {
     "data": {
      "application/vnd.jupyter.widget-view+json": {
       "model_id": "d4055e30c6a247f0a10cdab2c459be61",
       "version_major": 2,
       "version_minor": 0
      },
      "text/plain": [
       "HBox(children=(IntProgress(value=0, description='Scores', max=45306, style=ProgressStyle(description_width='in…"
      ]
     },
     "metadata": {},
     "output_type": "display_data"
    },
    {
     "name": "stdout",
     "output_type": "stream",
     "text": [
      "\n",
      "Epoch 271/275\n",
      " - 1369s - loss: 0.4769 - binary_crossentropy: 0.3583 - acc: 0.8410\n",
      "Epoch 272/275\n",
      " - 1371s - loss: 0.4692 - binary_crossentropy: 0.3536 - acc: 0.8455\n",
      "Epoch 273/275\n",
      " - 1372s - loss: 0.4624 - binary_crossentropy: 0.3499 - acc: 0.8482\n",
      "Epoch 274/275\n",
      " - 1372s - loss: 0.4591 - binary_crossentropy: 0.3488 - acc: 0.8494\n",
      "Epoch 275/275\n",
      " - 1373s - loss: 0.4519 - binary_crossentropy: 0.3440 - acc: 0.8505\n",
      "275 0.00064 0.0\n"
     ]
    },
    {
     "data": {
      "application/vnd.jupyter.widget-view+json": {
       "model_id": "963466a90f234fe4918e87d00a495e99",
       "version_major": 2,
       "version_minor": 0
      },
      "text/plain": [
       "HBox(children=(IntProgress(value=0, description='Features', max=852, style=ProgressStyle(description_width='in…"
      ]
     },
     "metadata": {},
     "output_type": "display_data"
    },
    {
     "name": "stdout",
     "output_type": "stream",
     "text": [
      "\n"
     ]
    },
    {
     "data": {
      "application/vnd.jupyter.widget-view+json": {
       "model_id": "a7831db300e34477a7ae428c2bc28c39",
       "version_major": 2,
       "version_minor": 0
      },
      "text/plain": [
       "HBox(children=(IntProgress(value=0, description='Scores', max=45306, style=ProgressStyle(description_width='in…"
      ]
     },
     "metadata": {},
     "output_type": "display_data"
    },
    {
     "name": "stdout",
     "output_type": "stream",
     "text": [
      "\n",
      "Epoch 276/280\n",
      " - 1372s - loss: 0.4448 - binary_crossentropy: 0.3393 - acc: 0.8554\n",
      "Epoch 277/280\n",
      " - 1374s - loss: 0.4487 - binary_crossentropy: 0.3450 - acc: 0.8509\n",
      "Epoch 278/280\n",
      " - 1373s - loss: 0.4420 - binary_crossentropy: 0.3391 - acc: 0.8550\n",
      "Epoch 279/280\n",
      " - 1373s - loss: 0.4376 - binary_crossentropy: 0.3373 - acc: 0.8562\n",
      "Epoch 280/280\n",
      " - 1372s - loss: 0.4305 - binary_crossentropy: 0.3314 - acc: 0.8588\n",
      "280 0.00064 1.0451674e-31\n"
     ]
    },
    {
     "data": {
      "application/vnd.jupyter.widget-view+json": {
       "model_id": "8f90bb37c63f40dcb9c5228602da3432",
       "version_major": 2,
       "version_minor": 0
      },
      "text/plain": [
       "HBox(children=(IntProgress(value=0, description='Features', max=852, style=ProgressStyle(description_width='in…"
      ]
     },
     "metadata": {},
     "output_type": "display_data"
    },
    {
     "name": "stdout",
     "output_type": "stream",
     "text": [
      "\n"
     ]
    },
    {
     "data": {
      "application/vnd.jupyter.widget-view+json": {
       "model_id": "288f45d2ab0f43819f91d7ea4c066f4d",
       "version_major": 2,
       "version_minor": 0
      },
      "text/plain": [
       "HBox(children=(IntProgress(value=0, description='Scores', max=45306, style=ProgressStyle(description_width='in…"
      ]
     },
     "metadata": {},
     "output_type": "display_data"
    },
    {
     "name": "stdout",
     "output_type": "stream",
     "text": [
      "\n",
      "Epoch 281/285\n",
      " - 1369s - loss: 0.4327 - binary_crossentropy: 0.3350 - acc: 0.8547\n",
      "Epoch 282/285\n",
      " - 1372s - loss: 0.4269 - binary_crossentropy: 0.3313 - acc: 0.8564\n",
      "Epoch 283/285\n",
      " - 1370s - loss: 0.4300 - binary_crossentropy: 0.3352 - acc: 0.8548\n",
      "Epoch 284/285\n",
      " - 1371s - loss: 0.4239 - binary_crossentropy: 0.3300 - acc: 0.8595\n",
      "Epoch 285/285\n",
      " - 1371s - loss: 0.4198 - binary_crossentropy: 0.3270 - acc: 0.8604\n",
      "285 0.00064 0.0\n"
     ]
    },
    {
     "data": {
      "application/vnd.jupyter.widget-view+json": {
       "model_id": "b43aaad31f644d73ae29fedc1ab65d8a",
       "version_major": 2,
       "version_minor": 0
      },
      "text/plain": [
       "HBox(children=(IntProgress(value=0, description='Features', max=852, style=ProgressStyle(description_width='in…"
      ]
     },
     "metadata": {},
     "output_type": "display_data"
    },
    {
     "name": "stdout",
     "output_type": "stream",
     "text": [
      "\n"
     ]
    },
    {
     "data": {
      "application/vnd.jupyter.widget-view+json": {
       "model_id": "137f9cbcefb64e6db05c3e8a58c67481",
       "version_major": 2,
       "version_minor": 0
      },
      "text/plain": [
       "HBox(children=(IntProgress(value=0, description='Scores', max=45306, style=ProgressStyle(description_width='in…"
      ]
     },
     "metadata": {},
     "output_type": "display_data"
    },
    {
     "name": "stdout",
     "output_type": "stream",
     "text": [
      "\n",
      "Epoch 286/290\n",
      " - 1370s - loss: 0.4149 - binary_crossentropy: 0.3235 - acc: 0.8621\n",
      "Epoch 287/290\n",
      " - 1372s - loss: 0.4094 - binary_crossentropy: 0.3189 - acc: 0.8635\n",
      "Epoch 288/290\n",
      " - 1372s - loss: 0.4104 - binary_crossentropy: 0.3207 - acc: 0.8647\n",
      "Epoch 289/290\n",
      " - 1372s - loss: 0.4057 - binary_crossentropy: 0.3170 - acc: 0.8647\n",
      "Epoch 290/290\n",
      " - 1372s - loss: 0.4050 - binary_crossentropy: 0.3173 - acc: 0.8650\n",
      "290 0.00064 0.0\n"
     ]
    },
    {
     "data": {
      "application/vnd.jupyter.widget-view+json": {
       "model_id": "cac0897a89ce4b14a314d4f2ddf3eebe",
       "version_major": 2,
       "version_minor": 0
      },
      "text/plain": [
       "HBox(children=(IntProgress(value=0, description='Features', max=852, style=ProgressStyle(description_width='in…"
      ]
     },
     "metadata": {},
     "output_type": "display_data"
    },
    {
     "name": "stdout",
     "output_type": "stream",
     "text": [
      "\n"
     ]
    },
    {
     "data": {
      "application/vnd.jupyter.widget-view+json": {
       "model_id": "f1a9630b686c47f098edcf352e629290",
       "version_major": 2,
       "version_minor": 0
      },
      "text/plain": [
       "HBox(children=(IntProgress(value=0, description='Scores', max=45306, style=ProgressStyle(description_width='in…"
      ]
     },
     "metadata": {},
     "output_type": "display_data"
    },
    {
     "name": "stdout",
     "output_type": "stream",
     "text": [
      "\n",
      "Epoch 291/295\n",
      " - 1369s - loss: 0.4018 - binary_crossentropy: 0.3150 - acc: 0.8661\n",
      "Epoch 292/295\n",
      " - 1370s - loss: 0.3984 - binary_crossentropy: 0.3124 - acc: 0.8674\n",
      "Epoch 293/295\n",
      " - 1371s - loss: 0.3913 - binary_crossentropy: 0.3063 - acc: 0.8693\n",
      "Epoch 294/295\n",
      " - 1371s - loss: 0.3953 - binary_crossentropy: 0.3105 - acc: 0.8661\n",
      "Epoch 295/295\n",
      " - 1370s - loss: 0.3880 - binary_crossentropy: 0.3040 - acc: 0.8728\n",
      "295 0.00064 0.0\n"
     ]
    },
    {
     "data": {
      "application/vnd.jupyter.widget-view+json": {
       "model_id": "02f25187aad744238dc9d2ec2b80a670",
       "version_major": 2,
       "version_minor": 0
      },
      "text/plain": [
       "HBox(children=(IntProgress(value=0, description='Features', max=852, style=ProgressStyle(description_width='in…"
      ]
     },
     "metadata": {},
     "output_type": "display_data"
    },
    {
     "name": "stdout",
     "output_type": "stream",
     "text": [
      "\n"
     ]
    },
    {
     "data": {
      "application/vnd.jupyter.widget-view+json": {
       "model_id": "ec65914cfe43468a8c92cb0547e9ed1e",
       "version_major": 2,
       "version_minor": 0
      },
      "text/plain": [
       "HBox(children=(IntProgress(value=0, description='Scores', max=45306, style=ProgressStyle(description_width='in…"
      ]
     },
     "metadata": {},
     "output_type": "display_data"
    },
    {
     "name": "stdout",
     "output_type": "stream",
     "text": [
      "\n",
      "Epoch 296/300\n",
      " - 1369s - loss: 0.3866 - binary_crossentropy: 0.3035 - acc: 0.8701\n",
      "Epoch 297/300\n",
      " - 1370s - loss: 0.3849 - binary_crossentropy: 0.3022 - acc: 0.8730\n",
      "Epoch 298/300\n",
      " - 1370s - loss: 0.3799 - binary_crossentropy: 0.2977 - acc: 0.8739\n",
      "Epoch 299/300\n",
      " - 1370s - loss: 0.3828 - binary_crossentropy: 0.3008 - acc: 0.8714\n",
      "Epoch 300/300\n",
      " - 1370s - loss: 0.3763 - binary_crossentropy: 0.2949 - acc: 0.8770\n",
      "300 0.00064 0.0\n"
     ]
    },
    {
     "data": {
      "application/vnd.jupyter.widget-view+json": {
       "model_id": "2098acb4c1b446a088b17cbe5ab3b634",
       "version_major": 2,
       "version_minor": 0
      },
      "text/plain": [
       "HBox(children=(IntProgress(value=0, description='Features', max=852, style=ProgressStyle(description_width='in…"
      ]
     },
     "metadata": {},
     "output_type": "display_data"
    },
    {
     "name": "stdout",
     "output_type": "stream",
     "text": [
      "\n"
     ]
    },
    {
     "data": {
      "application/vnd.jupyter.widget-view+json": {
       "model_id": "3b8c1ffe400c4df3a7720239f21f0336",
       "version_major": 2,
       "version_minor": 0
      },
      "text/plain": [
       "HBox(children=(IntProgress(value=0, description='Scores', max=45306, style=ProgressStyle(description_width='in…"
      ]
     },
     "metadata": {},
     "output_type": "display_data"
    },
    {
     "name": "stdout",
     "output_type": "stream",
     "text": [
      "\n",
      "Epoch 301/305\n",
      " - 1365s - loss: 0.3318 - binary_crossentropy: 0.2543 - acc: 0.8954\n",
      "Epoch 302/305\n",
      " - 1366s - loss: 0.3207 - binary_crossentropy: 0.2475 - acc: 0.8983\n",
      "Epoch 303/305\n",
      " - 1367s - loss: 0.3140 - binary_crossentropy: 0.2434 - acc: 0.8995\n",
      "Epoch 304/305\n",
      " - 1367s - loss: 0.3082 - binary_crossentropy: 0.2393 - acc: 0.9015\n",
      "Epoch 305/305\n",
      " - 1368s - loss: 0.2969 - binary_crossentropy: 0.2295 - acc: 0.9068\n",
      "305 0.00016 0.0\n"
     ]
    },
    {
     "data": {
      "application/vnd.jupyter.widget-view+json": {
       "model_id": "8173b3c3a72240478665f71e6a83fa41",
       "version_major": 2,
       "version_minor": 0
      },
      "text/plain": [
       "HBox(children=(IntProgress(value=0, description='Features', max=852, style=ProgressStyle(description_width='in…"
      ]
     },
     "metadata": {},
     "output_type": "display_data"
    },
    {
     "name": "stdout",
     "output_type": "stream",
     "text": [
      "\n"
     ]
    },
    {
     "data": {
      "application/vnd.jupyter.widget-view+json": {
       "model_id": "771c112375c345df965c7abc29e8c9e5",
       "version_major": 2,
       "version_minor": 0
      },
      "text/plain": [
       "HBox(children=(IntProgress(value=0, description='Scores', max=45306, style=ProgressStyle(description_width='in…"
      ]
     },
     "metadata": {},
     "output_type": "display_data"
    },
    {
     "name": "stdout",
     "output_type": "stream",
     "text": [
      "\n",
      "Epoch 306/310\n",
      " - 1366s - loss: 0.3058 - binary_crossentropy: 0.2397 - acc: 0.9025\n",
      "Epoch 307/310\n",
      " - 1373s - loss: 0.2979 - binary_crossentropy: 0.2328 - acc: 0.9056\n",
      "Epoch 308/310\n",
      " - 1372s - loss: 0.2955 - binary_crossentropy: 0.2313 - acc: 0.9055\n",
      "Epoch 309/310\n",
      " - 1371s - loss: 0.2877 - binary_crossentropy: 0.2243 - acc: 0.9078\n",
      "Epoch 310/310\n",
      " - 1370s - loss: 0.2818 - binary_crossentropy: 0.2191 - acc: 0.9098\n",
      "310 0.00016 0.9999934\n"
     ]
    },
    {
     "data": {
      "application/vnd.jupyter.widget-view+json": {
       "model_id": "8d9bf47b24eb4709ae89470d33982ec0",
       "version_major": 2,
       "version_minor": 0
      },
      "text/plain": [
       "HBox(children=(IntProgress(value=0, description='Features', max=852, style=ProgressStyle(description_width='in…"
      ]
     },
     "metadata": {},
     "output_type": "display_data"
    },
    {
     "name": "stdout",
     "output_type": "stream",
     "text": [
      "\n"
     ]
    },
    {
     "data": {
      "application/vnd.jupyter.widget-view+json": {
       "model_id": "eb66116be35e486ead7c303e4bcc8c1f",
       "version_major": 2,
       "version_minor": 0
      },
      "text/plain": [
       "HBox(children=(IntProgress(value=0, description='Scores', max=45306, style=ProgressStyle(description_width='in…"
      ]
     },
     "metadata": {},
     "output_type": "display_data"
    },
    {
     "name": "stdout",
     "output_type": "stream",
     "text": [
      "\n",
      "Epoch 311/315\n",
      " - 1370s - loss: 0.2895 - binary_crossentropy: 0.2273 - acc: 0.9053\n",
      "Epoch 312/315\n",
      " - 1371s - loss: 0.2843 - binary_crossentropy: 0.2226 - acc: 0.9088\n",
      "Epoch 313/315\n",
      " - 1371s - loss: 0.2827 - binary_crossentropy: 0.2214 - acc: 0.9080\n",
      "Epoch 314/315\n",
      " - 1371s - loss: 0.2787 - binary_crossentropy: 0.2177 - acc: 0.9098\n",
      "Epoch 315/315\n",
      " - 1373s - loss: 0.2761 - binary_crossentropy: 0.2155 - acc: 0.9125\n",
      "315 0.00016 0.0\n"
     ]
    },
    {
     "data": {
      "application/vnd.jupyter.widget-view+json": {
       "model_id": "f331009e5fc34f668aa2f3ace5f65c6f",
       "version_major": 2,
       "version_minor": 0
      },
      "text/plain": [
       "HBox(children=(IntProgress(value=0, description='Features', max=852, style=ProgressStyle(description_width='in…"
      ]
     },
     "metadata": {},
     "output_type": "display_data"
    },
    {
     "name": "stdout",
     "output_type": "stream",
     "text": [
      "\n"
     ]
    },
    {
     "data": {
      "application/vnd.jupyter.widget-view+json": {
       "model_id": "c343f9bdfe6b43218556cd79f4a9f036",
       "version_major": 2,
       "version_minor": 0
      },
      "text/plain": [
       "HBox(children=(IntProgress(value=0, description='Scores', max=45306, style=ProgressStyle(description_width='in…"
      ]
     },
     "metadata": {},
     "output_type": "display_data"
    },
    {
     "name": "stdout",
     "output_type": "stream",
     "text": [
      "\n",
      "Epoch 316/320\n",
      " - 1370s - loss: 0.2763 - binary_crossentropy: 0.2161 - acc: 0.9125\n",
      "Epoch 317/320\n",
      " - 1367s - loss: 0.2718 - binary_crossentropy: 0.2119 - acc: 0.9141\n",
      "Epoch 318/320\n",
      " - 1368s - loss: 0.2668 - binary_crossentropy: 0.2071 - acc: 0.9171\n",
      "Epoch 319/320\n",
      " - 1368s - loss: 0.2708 - binary_crossentropy: 0.2114 - acc: 0.9137\n",
      "Epoch 320/320\n",
      " - 1370s - loss: 0.2621 - binary_crossentropy: 0.2028 - acc: 0.9176\n",
      "320 0.00016 0.9999934\n"
     ]
    },
    {
     "data": {
      "application/vnd.jupyter.widget-view+json": {
       "model_id": "a9903b72a05845b39c9095f8555a55bf",
       "version_major": 2,
       "version_minor": 0
      },
      "text/plain": [
       "HBox(children=(IntProgress(value=0, description='Features', max=852, style=ProgressStyle(description_width='in…"
      ]
     },
     "metadata": {},
     "output_type": "display_data"
    },
    {
     "name": "stdout",
     "output_type": "stream",
     "text": [
      "\n"
     ]
    },
    {
     "data": {
      "application/vnd.jupyter.widget-view+json": {
       "model_id": "2924cf2d10e346e5842994a640ae8557",
       "version_major": 2,
       "version_minor": 0
      },
      "text/plain": [
       "HBox(children=(IntProgress(value=0, description='Scores', max=45306, style=ProgressStyle(description_width='in…"
      ]
     },
     "metadata": {},
     "output_type": "display_data"
    },
    {
     "name": "stdout",
     "output_type": "stream",
     "text": [
      "\n",
      "Epoch 321/325\n",
      " - 1371s - loss: 0.2663 - binary_crossentropy: 0.2072 - acc: 0.9158\n",
      "Epoch 322/325\n",
      " - 1372s - loss: 0.2655 - binary_crossentropy: 0.2066 - acc: 0.9165\n",
      "Epoch 323/325\n",
      " - 1372s - loss: 0.2631 - binary_crossentropy: 0.2043 - acc: 0.9176\n",
      "Epoch 324/325\n",
      " - 1372s - loss: 0.2568 - binary_crossentropy: 0.1981 - acc: 0.9205\n",
      "Epoch 325/325\n",
      " - 1373s - loss: 0.2550 - binary_crossentropy: 0.1965 - acc: 0.9205\n",
      "325 0.00016 0.0\n"
     ]
    },
    {
     "data": {
      "application/vnd.jupyter.widget-view+json": {
       "model_id": "3035b8c410ff4de6be7b4478157ea9c2",
       "version_major": 2,
       "version_minor": 0
      },
      "text/plain": [
       "HBox(children=(IntProgress(value=0, description='Features', max=852, style=ProgressStyle(description_width='in…"
      ]
     },
     "metadata": {},
     "output_type": "display_data"
    },
    {
     "name": "stdout",
     "output_type": "stream",
     "text": [
      "\n"
     ]
    },
    {
     "data": {
      "application/vnd.jupyter.widget-view+json": {
       "model_id": "5f40c25282fe4aeeb0fcafd563b18470",
       "version_major": 2,
       "version_minor": 0
      },
      "text/plain": [
       "HBox(children=(IntProgress(value=0, description='Scores', max=45306, style=ProgressStyle(description_width='in…"
      ]
     },
     "metadata": {},
     "output_type": "display_data"
    },
    {
     "name": "stdout",
     "output_type": "stream",
     "text": [
      "\n",
      "Epoch 326/330\n",
      " - 1373s - loss: 0.2599 - binary_crossentropy: 0.2015 - acc: 0.9168\n",
      "Epoch 327/330\n",
      " - 1374s - loss: 0.2579 - binary_crossentropy: 0.1996 - acc: 0.9200\n",
      "Epoch 328/330\n",
      " - 1374s - loss: 0.2566 - binary_crossentropy: 0.1984 - acc: 0.9202\n",
      "Epoch 329/330\n",
      " - 1373s - loss: 0.2531 - binary_crossentropy: 0.1950 - acc: 0.9228\n",
      "Epoch 330/330\n",
      " - 1374s - loss: 0.2483 - binary_crossentropy: 0.1902 - acc: 0.9225\n",
      "330 0.00016 0.9999934\n"
     ]
    },
    {
     "data": {
      "application/vnd.jupyter.widget-view+json": {
       "model_id": "6fffd8dc163a4bd7bed67a0bc25a3437",
       "version_major": 2,
       "version_minor": 0
      },
      "text/plain": [
       "HBox(children=(IntProgress(value=0, description='Features', max=852, style=ProgressStyle(description_width='in…"
      ]
     },
     "metadata": {},
     "output_type": "display_data"
    },
    {
     "name": "stdout",
     "output_type": "stream",
     "text": [
      "\n"
     ]
    },
    {
     "data": {
      "application/vnd.jupyter.widget-view+json": {
       "model_id": "d8cfddf9580d4699ba45a788e8e28491",
       "version_major": 2,
       "version_minor": 0
      },
      "text/plain": [
       "HBox(children=(IntProgress(value=0, description='Scores', max=45306, style=ProgressStyle(description_width='in…"
      ]
     },
     "metadata": {},
     "output_type": "display_data"
    },
    {
     "name": "stdout",
     "output_type": "stream",
     "text": [
      "\n",
      "Epoch 331/335\n",
      " - 1374s - loss: 0.2615 - binary_crossentropy: 0.2034 - acc: 0.9175\n",
      "Epoch 332/335\n",
      " - 1374s - loss: 0.2539 - binary_crossentropy: 0.1959 - acc: 0.9195\n",
      "Epoch 333/335\n",
      " - 1375s - loss: 0.2533 - binary_crossentropy: 0.1953 - acc: 0.9218\n",
      "Epoch 334/335\n",
      " - 1375s - loss: 0.2499 - binary_crossentropy: 0.1920 - acc: 0.9223\n",
      "Epoch 335/335\n",
      " - 1375s - loss: 0.2453 - binary_crossentropy: 0.1874 - acc: 0.9252\n",
      "335 0.00016 0.0\n"
     ]
    },
    {
     "data": {
      "application/vnd.jupyter.widget-view+json": {
       "model_id": "45f98162f7164a7489d1375957145ca7",
       "version_major": 2,
       "version_minor": 0
      },
      "text/plain": [
       "HBox(children=(IntProgress(value=0, description='Features', max=852, style=ProgressStyle(description_width='in…"
      ]
     },
     "metadata": {},
     "output_type": "display_data"
    },
    {
     "name": "stdout",
     "output_type": "stream",
     "text": [
      "\n"
     ]
    },
    {
     "data": {
      "application/vnd.jupyter.widget-view+json": {
       "model_id": "b90c6b23dc6c4265bb94561853994e93",
       "version_major": 2,
       "version_minor": 0
      },
      "text/plain": [
       "HBox(children=(IntProgress(value=0, description='Scores', max=45306, style=ProgressStyle(description_width='in…"
      ]
     },
     "metadata": {},
     "output_type": "display_data"
    },
    {
     "name": "stdout",
     "output_type": "stream",
     "text": [
      "\n",
      "Epoch 336/340\n",
      " - 1371s - loss: 0.2503 - binary_crossentropy: 0.1925 - acc: 0.9226\n",
      "Epoch 337/340\n",
      " - 1371s - loss: 0.2487 - binary_crossentropy: 0.1909 - acc: 0.9230\n",
      "Epoch 338/340\n",
      " - 1371s - loss: 0.2438 - binary_crossentropy: 0.1861 - acc: 0.9258\n",
      "Epoch 339/340\n",
      " - 1371s - loss: 0.2425 - binary_crossentropy: 0.1847 - acc: 0.9265\n",
      "Epoch 340/340\n",
      " - 1371s - loss: 0.2407 - binary_crossentropy: 0.1830 - acc: 0.9270\n",
      "340 0.00016 0.9999934\n"
     ]
    },
    {
     "data": {
      "application/vnd.jupyter.widget-view+json": {
       "model_id": "cdbf7f5315f94f739400b8f2d3e8f987",
       "version_major": 2,
       "version_minor": 0
      },
      "text/plain": [
       "HBox(children=(IntProgress(value=0, description='Features', max=852, style=ProgressStyle(description_width='in…"
      ]
     },
     "metadata": {},
     "output_type": "display_data"
    },
    {
     "name": "stdout",
     "output_type": "stream",
     "text": [
      "\n"
     ]
    },
    {
     "data": {
      "application/vnd.jupyter.widget-view+json": {
       "model_id": "99a53083aca446dfb0223bc69b72b463",
       "version_major": 2,
       "version_minor": 0
      },
      "text/plain": [
       "HBox(children=(IntProgress(value=0, description='Scores', max=45306, style=ProgressStyle(description_width='in…"
      ]
     },
     "metadata": {},
     "output_type": "display_data"
    },
    {
     "name": "stdout",
     "output_type": "stream",
     "text": [
      "\n",
      "Epoch 341/345\n",
      " - 1370s - loss: 0.2412 - binary_crossentropy: 0.1835 - acc: 0.9261\n",
      "Epoch 342/345\n",
      " - 1371s - loss: 0.2389 - binary_crossentropy: 0.1812 - acc: 0.9273\n",
      "Epoch 343/345\n",
      " - 1372s - loss: 0.2408 - binary_crossentropy: 0.1831 - acc: 0.9265\n",
      "Epoch 344/345\n",
      " - 1371s - loss: 0.2413 - binary_crossentropy: 0.1836 - acc: 0.9275\n",
      "Epoch 345/345\n",
      " - 1370s - loss: 0.2331 - binary_crossentropy: 0.1754 - acc: 0.9312\n",
      "345 0.00016 0.0\n"
     ]
    },
    {
     "data": {
      "application/vnd.jupyter.widget-view+json": {
       "model_id": "a345453efa1d475a8cfa4e87210ea8d5",
       "version_major": 2,
       "version_minor": 0
      },
      "text/plain": [
       "HBox(children=(IntProgress(value=0, description='Features', max=852, style=ProgressStyle(description_width='in…"
      ]
     },
     "metadata": {},
     "output_type": "display_data"
    },
    {
     "name": "stdout",
     "output_type": "stream",
     "text": [
      "\n"
     ]
    },
    {
     "data": {
      "application/vnd.jupyter.widget-view+json": {
       "model_id": "3fbdefcc84694a2ba1ce648e9cef7e33",
       "version_major": 2,
       "version_minor": 0
      },
      "text/plain": [
       "HBox(children=(IntProgress(value=0, description='Scores', max=45306, style=ProgressStyle(description_width='in…"
      ]
     },
     "metadata": {},
     "output_type": "display_data"
    },
    {
     "name": "stdout",
     "output_type": "stream",
     "text": [
      "\n",
      "Epoch 346/350\n",
      " - 1370s - loss: 0.2406 - binary_crossentropy: 0.1829 - acc: 0.9265\n",
      "Epoch 347/350\n",
      " - 1371s - loss: 0.2369 - binary_crossentropy: 0.1792 - acc: 0.9281\n",
      "Epoch 348/350\n",
      " - 1371s - loss: 0.2343 - binary_crossentropy: 0.1766 - acc: 0.9288\n",
      "Epoch 349/350\n",
      " - 1371s - loss: 0.2321 - binary_crossentropy: 0.1744 - acc: 0.9322\n",
      "Epoch 350/350\n",
      " - 1372s - loss: 0.2314 - binary_crossentropy: 0.1738 - acc: 0.9314\n",
      "350 0.00016 0.9999934\n"
     ]
    },
    {
     "data": {
      "application/vnd.jupyter.widget-view+json": {
       "model_id": "4c98ce65bd65487ca2c857a6763eca39",
       "version_major": 2,
       "version_minor": 0
      },
      "text/plain": [
       "HBox(children=(IntProgress(value=0, description='Features', max=852, style=ProgressStyle(description_width='in…"
      ]
     },
     "metadata": {},
     "output_type": "display_data"
    },
    {
     "name": "stdout",
     "output_type": "stream",
     "text": [
      "\n"
     ]
    },
    {
     "data": {
      "application/vnd.jupyter.widget-view+json": {
       "model_id": "b61958b66eab4944b553b78546aadd70",
       "version_major": 2,
       "version_minor": 0
      },
      "text/plain": [
       "HBox(children=(IntProgress(value=0, description='Scores', max=45306, style=ProgressStyle(description_width='in…"
      ]
     },
     "metadata": {},
     "output_type": "display_data"
    },
    {
     "name": "stdout",
     "output_type": "stream",
     "text": [
      "\n",
      "Epoch 351/355\n",
      " - 1365s - loss: 0.2154 - binary_crossentropy: 0.1581 - acc: 0.9372\n",
      "Epoch 352/355\n",
      " - 1367s - loss: 0.2066 - binary_crossentropy: 0.1497 - acc: 0.9412\n",
      "Epoch 353/355\n",
      " - 1367s - loss: 0.2013 - binary_crossentropy: 0.1447 - acc: 0.9439\n",
      "Epoch 354/355\n",
      " - 1367s - loss: 0.1991 - binary_crossentropy: 0.1428 - acc: 0.9437\n",
      "Epoch 355/355\n",
      " - 1367s - loss: 0.1987 - binary_crossentropy: 0.1427 - acc: 0.9431\n",
      "355 4e-05 0.0\n"
     ]
    },
    {
     "data": {
      "application/vnd.jupyter.widget-view+json": {
       "model_id": "dc1f27edb3aa4fa8be47a4ee3d213237",
       "version_major": 2,
       "version_minor": 0
      },
      "text/plain": [
       "HBox(children=(IntProgress(value=0, description='Features', max=852, style=ProgressStyle(description_width='in…"
      ]
     },
     "metadata": {},
     "output_type": "display_data"
    },
    {
     "name": "stdout",
     "output_type": "stream",
     "text": [
      "\n"
     ]
    },
    {
     "data": {
      "application/vnd.jupyter.widget-view+json": {
       "model_id": "486d3a6d592742b7bd2c194c046e69fa",
       "version_major": 2,
       "version_minor": 0
      },
      "text/plain": [
       "HBox(children=(IntProgress(value=0, description='Scores', max=45306, style=ProgressStyle(description_width='in…"
      ]
     },
     "metadata": {},
     "output_type": "display_data"
    },
    {
     "name": "stdout",
     "output_type": "stream",
     "text": [
      "\n",
      "Epoch 356/360\n",
      " - 1366s - loss: 0.2014 - binary_crossentropy: 0.1455 - acc: 0.9436\n",
      "Epoch 357/360\n",
      " - 1368s - loss: 0.1964 - binary_crossentropy: 0.1408 - acc: 0.9450\n",
      "Epoch 358/360\n",
      " - 1371s - loss: 0.1944 - binary_crossentropy: 0.1390 - acc: 0.9462\n",
      "Epoch 359/360\n",
      " - 1371s - loss: 0.1928 - binary_crossentropy: 0.1376 - acc: 0.9471\n",
      "Epoch 360/360\n",
      " - 1373s - loss: 0.1919 - binary_crossentropy: 0.1369 - acc: 0.9484\n",
      "360 4e-05 0.9999934\n"
     ]
    },
    {
     "data": {
      "application/vnd.jupyter.widget-view+json": {
       "model_id": "c89b44a8764746b0ad481f70fad58546",
       "version_major": 2,
       "version_minor": 0
      },
      "text/plain": [
       "HBox(children=(IntProgress(value=0, description='Features', max=852, style=ProgressStyle(description_width='in…"
      ]
     },
     "metadata": {},
     "output_type": "display_data"
    },
    {
     "name": "stdout",
     "output_type": "stream",
     "text": [
      "\n"
     ]
    },
    {
     "data": {
      "application/vnd.jupyter.widget-view+json": {
       "model_id": "abaed5eceae74ec88cc2f4887b2562ad",
       "version_major": 2,
       "version_minor": 0
      },
      "text/plain": [
       "HBox(children=(IntProgress(value=0, description='Scores', max=45306, style=ProgressStyle(description_width='in…"
      ]
     },
     "metadata": {},
     "output_type": "display_data"
    },
    {
     "name": "stdout",
     "output_type": "stream",
     "text": [
      "\n",
      "Epoch 361/365\n",
      " - 1368s - loss: 0.1900 - binary_crossentropy: 0.1352 - acc: 0.9467\n",
      "Epoch 362/365\n",
      " - 1369s - loss: 0.1887 - binary_crossentropy: 0.1340 - acc: 0.9464\n",
      "Epoch 363/365\n",
      " - 1369s - loss: 0.1840 - binary_crossentropy: 0.1295 - acc: 0.9511\n",
      "Epoch 364/365\n",
      " - 1369s - loss: 0.1809 - binary_crossentropy: 0.1265 - acc: 0.9514\n",
      "Epoch 365/365\n",
      " - 1369s - loss: 0.1806 - binary_crossentropy: 0.1264 - acc: 0.9518\n",
      "365 4e-05 0.0\n"
     ]
    },
    {
     "data": {
      "application/vnd.jupyter.widget-view+json": {
       "model_id": "9cd4790ca24045d38ed3fd19d68293b1",
       "version_major": 2,
       "version_minor": 0
      },
      "text/plain": [
       "HBox(children=(IntProgress(value=0, description='Features', max=852, style=ProgressStyle(description_width='in…"
      ]
     },
     "metadata": {},
     "output_type": "display_data"
    },
    {
     "name": "stdout",
     "output_type": "stream",
     "text": [
      "\n"
     ]
    },
    {
     "data": {
      "application/vnd.jupyter.widget-view+json": {
       "model_id": "8e92fd038e49443abe425b5dcf396b52",
       "version_major": 2,
       "version_minor": 0
      },
      "text/plain": [
       "HBox(children=(IntProgress(value=0, description='Scores', max=45306, style=ProgressStyle(description_width='in…"
      ]
     },
     "metadata": {},
     "output_type": "display_data"
    },
    {
     "name": "stdout",
     "output_type": "stream",
     "text": [
      "\n",
      "Epoch 366/370\n",
      " - 1370s - loss: 0.1847 - binary_crossentropy: 0.1307 - acc: 0.9500\n",
      "Epoch 367/370\n",
      " - 1371s - loss: 0.1830 - binary_crossentropy: 0.1290 - acc: 0.9505\n",
      "Epoch 368/370\n",
      " - 1371s - loss: 0.1799 - binary_crossentropy: 0.1261 - acc: 0.9509\n",
      "Epoch 369/370\n",
      " - 1371s - loss: 0.1819 - binary_crossentropy: 0.1282 - acc: 0.9496\n",
      "Epoch 370/370\n",
      " - 1372s - loss: 0.1835 - binary_crossentropy: 0.1299 - acc: 0.9509\n",
      "370 4e-05 0.9999934\n"
     ]
    },
    {
     "data": {
      "application/vnd.jupyter.widget-view+json": {
       "model_id": "7dc0c16494144b13bde5d6b2f5edcb60",
       "version_major": 2,
       "version_minor": 0
      },
      "text/plain": [
       "HBox(children=(IntProgress(value=0, description='Features', max=852, style=ProgressStyle(description_width='in…"
      ]
     },
     "metadata": {},
     "output_type": "display_data"
    },
    {
     "name": "stdout",
     "output_type": "stream",
     "text": [
      "\n"
     ]
    },
    {
     "data": {
      "application/vnd.jupyter.widget-view+json": {
       "model_id": "85fc1d4813184b0a90058c9548fb3292",
       "version_major": 2,
       "version_minor": 0
      },
      "text/plain": [
       "HBox(children=(IntProgress(value=0, description='Scores', max=45306, style=ProgressStyle(description_width='in…"
      ]
     },
     "metadata": {},
     "output_type": "display_data"
    },
    {
     "name": "stdout",
     "output_type": "stream",
     "text": [
      "\n",
      "Epoch 371/375\n",
      " - 1373s - loss: 0.1872 - binary_crossentropy: 0.1337 - acc: 0.9483\n",
      "Epoch 372/375\n",
      " - 1372s - loss: 0.1792 - binary_crossentropy: 0.1259 - acc: 0.9516\n",
      "Epoch 373/375\n",
      " - 1373s - loss: 0.1774 - binary_crossentropy: 0.1241 - acc: 0.9513\n",
      "Epoch 374/375\n",
      " - 1374s - loss: 0.1761 - binary_crossentropy: 0.1229 - acc: 0.9529\n",
      "Epoch 375/375\n",
      " - 1372s - loss: 0.1729 - binary_crossentropy: 0.1199 - acc: 0.9539\n",
      "375 4e-05 0.0\n"
     ]
    },
    {
     "data": {
      "application/vnd.jupyter.widget-view+json": {
       "model_id": "48f30ed0c1674120a0594026b41e9a09",
       "version_major": 2,
       "version_minor": 0
      },
      "text/plain": [
       "HBox(children=(IntProgress(value=0, description='Features', max=852, style=ProgressStyle(description_width='in…"
      ]
     },
     "metadata": {},
     "output_type": "display_data"
    },
    {
     "name": "stdout",
     "output_type": "stream",
     "text": [
      "\n"
     ]
    },
    {
     "data": {
      "application/vnd.jupyter.widget-view+json": {
       "model_id": "805e6553d6504fabbb970d928a50dcf8",
       "version_major": 2,
       "version_minor": 0
      },
      "text/plain": [
       "HBox(children=(IntProgress(value=0, description='Scores', max=45306, style=ProgressStyle(description_width='in…"
      ]
     },
     "metadata": {},
     "output_type": "display_data"
    },
    {
     "name": "stdout",
     "output_type": "stream",
     "text": [
      "\n",
      "Epoch 376/380\n",
      " - 1372s - loss: 0.1833 - binary_crossentropy: 0.1303 - acc: 0.9506\n",
      "Epoch 377/380\n",
      " - 1371s - loss: 0.1808 - binary_crossentropy: 0.1280 - acc: 0.9513\n",
      "Epoch 378/380\n",
      " - 1372s - loss: 0.1755 - binary_crossentropy: 0.1227 - acc: 0.9527\n",
      "Epoch 379/380\n",
      " - 1372s - loss: 0.1718 - binary_crossentropy: 0.1192 - acc: 0.9541\n",
      "Epoch 380/380\n",
      " - 1373s - loss: 0.1709 - binary_crossentropy: 0.1184 - acc: 0.9545\n",
      "380 4e-05 0.9999934\n"
     ]
    },
    {
     "data": {
      "application/vnd.jupyter.widget-view+json": {
       "model_id": "4d2d0d88133849e0ac49ba16c9029acc",
       "version_major": 2,
       "version_minor": 0
      },
      "text/plain": [
       "HBox(children=(IntProgress(value=0, description='Features', max=852, style=ProgressStyle(description_width='in…"
      ]
     },
     "metadata": {},
     "output_type": "display_data"
    },
    {
     "name": "stdout",
     "output_type": "stream",
     "text": [
      "\n"
     ]
    },
    {
     "data": {
      "application/vnd.jupyter.widget-view+json": {
       "model_id": "30594f11a8c048f18e5f98ef315d1188",
       "version_major": 2,
       "version_minor": 0
      },
      "text/plain": [
       "HBox(children=(IntProgress(value=0, description='Scores', max=45306, style=ProgressStyle(description_width='in…"
      ]
     },
     "metadata": {},
     "output_type": "display_data"
    },
    {
     "name": "stdout",
     "output_type": "stream",
     "text": [
      "\n",
      "Epoch 381/385\n",
      " - 1373s - loss: 0.1754 - binary_crossentropy: 0.1230 - acc: 0.9528\n",
      "Epoch 382/385\n",
      " - 1374s - loss: 0.1736 - binary_crossentropy: 0.1212 - acc: 0.9535\n",
      "Epoch 383/385\n",
      " - 1374s - loss: 0.1723 - binary_crossentropy: 0.1200 - acc: 0.9537\n",
      "Epoch 384/385\n",
      " - 1374s - loss: 0.1725 - binary_crossentropy: 0.1204 - acc: 0.9530\n",
      "Epoch 385/385\n",
      " - 1374s - loss: 0.1712 - binary_crossentropy: 0.1191 - acc: 0.9548\n",
      "385 4e-05 0.0\n"
     ]
    },
    {
     "data": {
      "application/vnd.jupyter.widget-view+json": {
       "model_id": "728e718219ef4525ada299f527d7af61",
       "version_major": 2,
       "version_minor": 0
      },
      "text/plain": [
       "HBox(children=(IntProgress(value=0, description='Features', max=852, style=ProgressStyle(description_width='in…"
      ]
     },
     "metadata": {},
     "output_type": "display_data"
    },
    {
     "name": "stdout",
     "output_type": "stream",
     "text": [
      "\n"
     ]
    },
    {
     "data": {
      "application/vnd.jupyter.widget-view+json": {
       "model_id": "edc195475c4e4c95a83170a378750ebd",
       "version_major": 2,
       "version_minor": 0
      },
      "text/plain": [
       "HBox(children=(IntProgress(value=0, description='Scores', max=45306, style=ProgressStyle(description_width='in…"
      ]
     },
     "metadata": {},
     "output_type": "display_data"
    },
    {
     "name": "stdout",
     "output_type": "stream",
     "text": [
      "\n",
      "Epoch 386/390\n",
      " - 1373s - loss: 0.1742 - binary_crossentropy: 0.1221 - acc: 0.9535\n",
      "Epoch 387/390\n",
      " - 1371s - loss: 0.1702 - binary_crossentropy: 0.1183 - acc: 0.9552\n",
      "Epoch 388/390\n",
      " - 1371s - loss: 0.1709 - binary_crossentropy: 0.1190 - acc: 0.9556\n",
      "Epoch 389/390\n",
      " - 1372s - loss: 0.1686 - binary_crossentropy: 0.1168 - acc: 0.9552\n",
      "Epoch 390/390\n",
      " - 1372s - loss: 0.1667 - binary_crossentropy: 0.1149 - acc: 0.9563\n",
      "390 4e-05 0.9999934\n"
     ]
    },
    {
     "data": {
      "application/vnd.jupyter.widget-view+json": {
       "model_id": "1fefb6bff67d4483acd2c2adf610c628",
       "version_major": 2,
       "version_minor": 0
      },
      "text/plain": [
       "HBox(children=(IntProgress(value=0, description='Features', max=852, style=ProgressStyle(description_width='in…"
      ]
     },
     "metadata": {},
     "output_type": "display_data"
    },
    {
     "name": "stdout",
     "output_type": "stream",
     "text": [
      "\n"
     ]
    },
    {
     "data": {
      "application/vnd.jupyter.widget-view+json": {
       "model_id": "f6c39f3af45e4ab9b1413eb08944e45a",
       "version_major": 2,
       "version_minor": 0
      },
      "text/plain": [
       "HBox(children=(IntProgress(value=0, description='Scores', max=45306, style=ProgressStyle(description_width='in…"
      ]
     },
     "metadata": {},
     "output_type": "display_data"
    },
    {
     "name": "stdout",
     "output_type": "stream",
     "text": [
      "\n",
      "Epoch 391/395\n",
      " - 1366s - loss: 0.1658 - binary_crossentropy: 0.1141 - acc: 0.9566\n",
      "Epoch 392/395\n",
      " - 1368s - loss: 0.1679 - binary_crossentropy: 0.1163 - acc: 0.9563\n",
      "Epoch 393/395\n",
      " - 1368s - loss: 0.1638 - binary_crossentropy: 0.1123 - acc: 0.9576\n",
      "Epoch 394/395\n",
      " - 1369s - loss: 0.1587 - binary_crossentropy: 0.1071 - acc: 0.9605\n",
      "Epoch 395/395\n",
      " - 1368s - loss: 0.1578 - binary_crossentropy: 0.1063 - acc: 0.9591\n",
      "395 1e-05 0.0\n"
     ]
    },
    {
     "data": {
      "application/vnd.jupyter.widget-view+json": {
       "model_id": "36e206ceb26a4d3eb8341a4e27fcbba8",
       "version_major": 2,
       "version_minor": 0
      },
      "text/plain": [
       "HBox(children=(IntProgress(value=0, description='Features', max=852, style=ProgressStyle(description_width='in…"
      ]
     },
     "metadata": {},
     "output_type": "display_data"
    },
    {
     "name": "stdout",
     "output_type": "stream",
     "text": [
      "\n"
     ]
    },
    {
     "data": {
      "application/vnd.jupyter.widget-view+json": {
       "model_id": "7cae4a4002b3497c9ef36b033844623b",
       "version_major": 2,
       "version_minor": 0
      },
      "text/plain": [
       "HBox(children=(IntProgress(value=0, description='Scores', max=45306, style=ProgressStyle(description_width='in…"
      ]
     },
     "metadata": {},
     "output_type": "display_data"
    },
    {
     "name": "stdout",
     "output_type": "stream",
     "text": [
      "\n",
      "Epoch 396/400\n",
      " - 1368s - loss: 0.1591 - binary_crossentropy: 0.1077 - acc: 0.9602\n",
      "Epoch 397/400\n",
      " - 1368s - loss: 0.1613 - binary_crossentropy: 0.1099 - acc: 0.9590\n",
      "Epoch 398/400\n",
      " - 1368s - loss: 0.1589 - binary_crossentropy: 0.1076 - acc: 0.9592\n",
      "Epoch 399/400\n",
      " - 1369s - loss: 0.1561 - binary_crossentropy: 0.1048 - acc: 0.9617\n",
      "Epoch 400/400\n",
      " - 1368s - loss: 0.1594 - binary_crossentropy: 0.1081 - acc: 0.9597\n",
      "400 1e-05 0.9999934\n"
     ]
    }
   ],
   "source": [
    "histories = []\n",
    "steps = 0\n",
    "version = 6\n",
    "\n",
    "if (False): #isfile('./models/standard.model'):\n",
    "    tmp = keras.models.load_model('./models/standard.model')\n",
    "    model.set_weights(tmp.get_weights())\n",
    "else:\n",
    "    \n",
    "# epoch -> 10\n",
    "    make_steps(10,1000)\n",
    "    ampl = 100.0\n",
    "# epoch -> 60\n",
    "    for _ in range (10):\n",
    "        make_steps(5,ampl)\n",
    "        ampl = max(1.0, 100 ** -0.1 * ampl)\n",
    "    model.save('/Users/JoonH/models/standard' + str(version) +'epoch60.model')\n",
    "    model.save_weights('/Users/JoonH/models/martin-piotte-v' + str(version) + 'eppch60.hdf5')\n",
    "    gc.collect()\n",
    "    # epoch --> 110\n",
    "    for _ in range(10): make_steps(5, 1.0)\n",
    "    model.save('/Users/JoonH/models/standard' + str(version) +'epoch110.model')\n",
    "    model.save_weights('/Users/JoonH/models/martin-piotte-v' + str(version) + 'epoch110.hdf5')\n",
    "    gc.collect()\n",
    "#     # epoch -> 150\n",
    "    for _ in range(8): make_steps(5, 1.0)\n",
    "    model.save('/Users/JoonH/models/standard' + str(version) +'epoch150.model')\n",
    "    model.save_weights('/Users/JoonH/models/martin-piotte-v' + str(version) + 'epoch150.hdf5')\n",
    "    gc.collect()\n",
    "#     # epoch -> 200\n",
    "    set_lr(model, 16e-5)\n",
    "    for _ in range(10): make_steps(5, 0.5)\n",
    "    model.save('/Users/JoonH/models/standard' + str(version) +'epoch200.model')\n",
    "    model.save_weights('/Users/JoonH/models/martin-piotte-v' + str(version) + 'epoch200.hdf5')\n",
    "    gc.collect()\n",
    "    #model.load_weights(\"/Users/JoonH/models/martin-piotte-v3epoch210.hdf5\")\n",
    "     # epoch -> 240\n",
    "    set_lr(model, 4e-5)\n",
    "    for _ in range(8): make_steps(5, 0.25)\n",
    "    model.save('/Users/JoonH/models/standard' + str(version) +'epoch240.model')\n",
    "    model.save_weights('/Users/JoonH/models/martin-piotte-v' + str(version) + 'epoch240.hdf5')\n",
    "    gc.collect()\n",
    "     # epoch -> 250\n",
    "    set_lr(model, 1e-5)\n",
    "    for _ in range(2): make_steps(5, 0.25)\n",
    "    model.save('/Users/JoonH/models/standard' + str(version) +'epoch250.model')\n",
    "    model.save_weights('/Users/JoonH/models/martin-piotte-v' + str(version) + 'epoch250.hdf5')\n",
    "    gc.collect()\n",
    "     # epoch -> 300\n",
    "    model, branch_model, head_model = build_model(64e-5, 0.0002)\n",
    "    model.load_weights(\"/Users/JoonH/models/martin-piotte-v6epoch250.hdf5\")\n",
    "    for _ in range(10): make_steps(5, 1.0)\n",
    "    model.save('/Users/JoonH/models/standard' + str(version) +'epoch300.model')\n",
    "    model.save_weights('/Users/JoonH/models/martin-piotte-v' + str(version) + 'epoch300.hdf5')\n",
    "    gc.collect()\n",
    "     # epoch -> 350\n",
    "    set_lr(model, 16e-5)\n",
    "    for _ in range(10): make_steps(5, 0.5)\n",
    "    model.save('/Users/JoonH/models/standard' + str(version) +'epoch350.model')\n",
    "    model.save_weights('/Users/JoonH/models/martin-piotte-v' + str(version) + 'epoch350.hdf5')\n",
    "    gc.collect()\n",
    "     # epoch -> 390\n",
    "    set_lr(model, 4e-5)\n",
    "    for _ in range(8): make_steps(5, 0.25)\n",
    "    model.save('/Users/JoonH/models/standard' + str(version) +'epoch390.model')\n",
    "    model.save_weights('/Users/JoonH/models/martin-piotte-v' + str(version) + 'epoch390.hdf5')\n",
    "    gc.collect()\n",
    "     # epoch -> 400\n",
    "    set_lr(model, 1e-5)\n",
    "    for _ in range(2): make_steps(5, 0.25)\n",
    "    model.save('/Users/JoonH/models//standard.model')"
   ]
  },
  {
   "cell_type": "code",
   "execution_count": 48,
   "metadata": {},
   "outputs": [],
   "source": [
    "#optional, save weights after the training\n",
    "#version = 3\n",
    "#model.save('./models/standard' + str(version) +'400.model')\n",
    "model.save_weights('/Users/JoonH/models/martin-piotte-v' + str(version) + 'epoch400.hdf5')"
   ]
  },
  {
   "cell_type": "code",
   "execution_count": 53,
   "metadata": {},
   "outputs": [],
   "source": [
    "model.load_weights(\"/Users/JoonH/models/martin-piotte-v6epoch250.hdf5\")"
   ]
  },
  {
   "cell_type": "code",
   "execution_count": 48,
   "metadata": {},
   "outputs": [],
   "source": [
    "#tmp = keras.models.load_model('./models/standard4epoch200.model')\n",
    "#model.set_weights(tmp.get_weights())\n",
    "#model = keras.models.load_model('./models/standard4epoch160.model')"
   ]
  },
  {
   "cell_type": "code",
   "execution_count": 49,
   "metadata": {
    "_uuid": "f194458bbb728a7cc35b75b40752e98021b6493b"
   },
   "outputs": [],
   "source": [
    "def prepare_submission(threshold, filename):\n",
    "    \"\"\"\n",
    "    Generate a Kaggle submission file.\n",
    "    @param threshold the score given to 'new_whale'\n",
    "    @param filename the submission file name\n",
    "    \"\"\"\n",
    "    vtop = 0\n",
    "    vhigh = 0\n",
    "    pos = [0, 0, 0, 0, 0, 0]\n",
    "    with open(filename, 'wt', newline='\\n') as f:\n",
    "        f.write('Image,Id\\n')\n",
    "        for i, p in enumerate(tqdm(submit)):\n",
    "            t = []\n",
    "            s = set()\n",
    "            a = score[i, :]\n",
    "            for j in list(reversed(np.argsort(a))):\n",
    "                h = known[j]\n",
    "                if a[j] < threshold and new_whale not in s:\n",
    "                    pos[len(t)] += 1\n",
    "                    s.add(new_whale)\n",
    "                    t.append(new_whale)\n",
    "                    if len(t) == 5: break;\n",
    "                for w in h2ws[h]:\n",
    "                    assert w != new_whale\n",
    "                    if w not in s:\n",
    "                        if a[j] > 1.0:\n",
    "                            vtop += 1\n",
    "                        elif a[j] >= threshold:\n",
    "                            vhigh += 1\n",
    "                        s.add(w)\n",
    "                        t.append(w)\n",
    "                        if len(t) == 5: break;\n",
    "                if len(t) == 5: break;\n",
    "            if new_whale not in s: pos[5] += 1\n",
    "            assert len(t) == 5 and len(s) == 5\n",
    "            f.write(p + ',' + ' '.join(t[:5]) + '\\n')\n",
    "    return vtop, vhigh, pos"
   ]
  },
  {
   "cell_type": "code",
   "execution_count": 54,
   "metadata": {
    "_uuid": "624143d234c6cc5f7374a2451aab84b955cecb09"
   },
   "outputs": [
    {
     "data": {
      "application/vnd.jupyter.widget-view+json": {
       "model_id": "6a66f2b99723402fa15d89c09b5a161b",
       "version_major": 2,
       "version_minor": 0
      },
      "text/plain": [
       "HBox(children=(IntProgress(value=0, description='Features', max=981, style=ProgressStyle(description_width='in…"
      ]
     },
     "metadata": {},
     "output_type": "display_data"
    },
    {
     "name": "stdout",
     "output_type": "stream",
     "text": [
      "\n"
     ]
    },
    {
     "data": {
      "application/vnd.jupyter.widget-view+json": {
       "model_id": "45ff383c0df44d5a93b00fc60a41d33a",
       "version_major": 2,
       "version_minor": 0
      },
      "text/plain": [
       "HBox(children=(IntProgress(value=0, description='Features', max=498, style=ProgressStyle(description_width='in…"
      ]
     },
     "metadata": {},
     "output_type": "display_data"
    },
    {
     "name": "stdout",
     "output_type": "stream",
     "text": [
      "\n"
     ]
    },
    {
     "data": {
      "application/vnd.jupyter.widget-view+json": {
       "model_id": "fc9f014bc38e42a79db43c9e77eb3cc4",
       "version_major": 2,
       "version_minor": 0
      },
      "text/plain": [
       "HBox(children=(IntProgress(value=0, description='Scores', max=61006, style=ProgressStyle(description_width='in…"
      ]
     },
     "metadata": {},
     "output_type": "display_data"
    },
    {
     "name": "stdout",
     "output_type": "stream",
     "text": [
      "\n"
     ]
    },
    {
     "data": {
      "application/vnd.jupyter.widget-view+json": {
       "model_id": "41269a5fb3c84276a788c7f64f7a10bb",
       "version_major": 2,
       "version_minor": 0
      },
      "text/plain": [
       "HBox(children=(IntProgress(value=0, max=7960), HTML(value='')))"
      ]
     },
     "metadata": {},
     "output_type": "display_data"
    },
    {
     "name": "stdout",
     "output_type": "stream",
     "text": [
      "\n"
     ]
    },
    {
     "data": {
      "text/plain": [
       "(0, 15246, [3351, 1565, 315, 216, 162, 2351])"
      ]
     },
     "execution_count": 54,
     "metadata": {},
     "output_type": "execute_result"
    }
   ],
   "source": [
    "# Find elements from training sets not 'new_whale'\n",
    "h2ws = {}\n",
    "for p, w in tagged.items():\n",
    "    if w != new_whale:  # Use only identified whales\n",
    "        h = p2h[p]\n",
    "        if h not in h2ws: h2ws[h] = []\n",
    "        if w not in h2ws[h]: h2ws[h].append(w)\n",
    "known = sorted(list(h2ws.keys()))\n",
    "\n",
    "# Dictionary of picture indices\n",
    "h2i = {}\n",
    "for i, h in enumerate(known): h2i[h] = i\n",
    "\n",
    "# Evaluate the model.\n",
    "fknown = branch_model.predict_generator(FeatureGen(known), max_queue_size=20, workers=10, verbose=0)\n",
    "fsubmit = branch_model.predict_generator(FeatureGen(submit), max_queue_size=20, workers=10, verbose=0)\n",
    "score = head_model.predict_generator(ScoreGen(fknown, fsubmit), max_queue_size=20, workers=10, verbose=0)\n",
    "score = score_reshape(score, fknown, fsubmit)\n",
    "\n",
    "# Generate the subsmission file.\n",
    "#prepare_submission(0.99, 'whale_siamese_submission_v' + str(version) + '.csv')\n",
    "prepare_submission(0.99, 'whale_siamese_submission_v6_epoch260.csv')"
   ]
  },
  {
   "cell_type": "code",
   "execution_count": 55,
   "metadata": {
    "_uuid": "8d438a9807bb20cd7b4c3a26abbc276f0c9306c9"
   },
   "outputs": [
    {
     "data": {
      "application/vnd.jupyter.widget-view+json": {
       "model_id": "9cf81ac2ef854d9d81c502d5867aec4b",
       "version_major": 2,
       "version_minor": 0
      },
      "text/plain": [
       "HBox(children=(IntProgress(value=0, max=7960), HTML(value='')))"
      ]
     },
     "metadata": {},
     "output_type": "display_data"
    },
    {
     "name": "stdout",
     "output_type": "stream",
     "text": [
      "\n"
     ]
    },
    {
     "data": {
      "text/plain": [
       "(0, 39800, [0, 0, 0, 0, 0, 7960])"
      ]
     },
     "execution_count": 55,
     "metadata": {},
     "output_type": "execute_result"
    }
   ],
   "source": [
    "prepare_submission(0.98, 'whale_siamese_submission_v6_epoch260_threhold98.csv')"
   ]
  },
  {
   "cell_type": "code",
   "execution_count": 56,
   "metadata": {},
   "outputs": [
    {
     "data": {
      "application/vnd.jupyter.widget-view+json": {
       "model_id": "d9fdef0ec1a04f89a89da41fa53f0fa5",
       "version_major": 2,
       "version_minor": 0
      },
      "text/plain": [
       "HBox(children=(IntProgress(value=0, max=7960), HTML(value='')))"
      ]
     },
     "metadata": {},
     "output_type": "display_data"
    },
    {
     "name": "stdout",
     "output_type": "stream",
     "text": [
      "\n"
     ]
    },
    {
     "data": {
      "text/plain": [
       "(0, 39800, [0, 0, 0, 0, 0, 7960])"
      ]
     },
     "execution_count": 56,
     "metadata": {},
     "output_type": "execute_result"
    }
   ],
   "source": [
    "prepare_submission(0.95, 'whale_siamese_submission_v6_epoch260_threshold95.csv')"
   ]
  },
  {
   "cell_type": "code",
   "execution_count": null,
   "metadata": {},
   "outputs": [],
   "source": []
  }
 ],
 "metadata": {
  "kernelspec": {
   "display_name": "Python 3",
   "language": "python",
   "name": "python3"
  },
  "language_info": {
   "codemirror_mode": {
    "name": "ipython",
    "version": 3
   },
   "file_extension": ".py",
   "mimetype": "text/x-python",
   "name": "python",
   "nbconvert_exporter": "python",
   "pygments_lexer": "ipython3",
   "version": "3.6.7"
  }
 },
 "nbformat": 4,
 "nbformat_minor": 1
}
